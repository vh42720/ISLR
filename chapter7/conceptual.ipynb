{
 "cells": [
  {
   "cell_type": "markdown",
   "metadata": {
    "collapsed": true,
    "pycharm": {
     "name": "#%% md\n"
    }
   },
   "source": [
    "## Chapter 7 - Conceptual\n",
    "\n",
    "Calculus notes: A function is continuous at a point if there exist a limit at that point.\n",
    "And since derivative is defined as the limit of change in f as x approaches a point, \n",
    "if the function is differentiable (derivative exists) then it is also continuous.\n",
    "\n",
    "1. Given\n",
    "\\begin{equation}\n",
    "f(x) = \\beta_0 + \\beta_1 x + \\beta_2 x^2 + \\beta_3 x^3 + \\beta_4 (x-\\xi)_+^3\n",
    "\\end{equation}  \n",
    "We want to show that f(x) is a cubic regression splines regardless of value of $\\beta_i$\n",
    "\n",
    "(a) Since $f_0 = f_1$ for all $x \\le \\xi$:   \n",
    "\\begin{align}\n",
    "f_1(x) &= a_1 + b_1 x + c_1 x^2 + d_1 x^3 = \\beta_0 + \\beta_1 x + \\beta_2 x^2 + \\beta_3 x^3 + \\beta_4 0 \\\\\n",
    "=> a_1 &= \\beta_0; b_1 = \\beta_1; c_1 = \\beta_2; d_1 = \\beta_3\n",
    "\\end{align}\n",
    "\n",
    "(b) Since $f_0 = f_2$ for all $x > \\xi$:  \n",
    "\\begin{align}\n",
    "f_2(x) = a_2 + b_2 x + c_2 x^2 + d_2 x^3 &= \\beta_0 + \\beta_1 x + \\beta_2 x^2 + \\beta_3 x^3 + \\beta_4 (x-\\xi)^3 \\\\\n",
    "&= \\beta_0 + \\beta_1 x + \\beta_2 x^2 + \\beta_3 x^3 + \\beta_4 (x^3 - 3x^2\\xi + 3x\\xi^2 - \\xi^3) \\\\\n",
    "&= (\\beta_0 -\\beta_4 \\xi^3) +\n",
    "   (\\beta_1 + 3 \\beta_4 \\xi^2) x +  \n",
    "   (\\beta_2 - 3 \\beta_4 \\xi) x^2 + \n",
    "   (\\beta_3 + \\beta_4) x^3 \\\\\n",
    "\\end{align}  \n",
    "Thus,   \n",
    "\\begin{align}\n",
    "a_2 &= \\beta_0 -\\beta_4 \\xi^3 \\\\\n",
    "b_2 &= \\beta_1 + 3 \\beta_4 \\xi^2 \\\\\n",
    "c_2 &= \\beta_2 - 3 \\beta_4 \\xi \\\\\n",
    "d_2 &= \\beta_3 + \\beta_4 \\\\\n",
    "\\end{align}\n",
    "\n",
    "(c) For $x = \\xi$  \n",
    "\\begin{align}\n",
    "f_1(\\xi) &= \\beta_0 + \\beta_1 \\xi + \\beta_2 \\xi^2 + \\beta_3 \\xi^3 \\\\\n",
    "f_2(\\xi) &= (\\beta_0 - \\beta_4 \\xi^3) + (\\beta_1 + 3 \\beta_4 \\xi^2) \\xi + (\\beta_2 - 3 \\beta_4 \\xi) \\xi^2 + (\\beta_3 + \\beta_4) \\xi^3 \\\\\n",
    "&= \\beta_0 - \\beta_4 \\xi^3 + \\beta_1 \\xi + 3 \\beta_4 \\xi^3 + \\beta_2 \\xi^2 - 3 \\beta_4 \\xi^3 + \\beta_3 \\xi^3 + \\beta_4 \\xi^3 \\\\\n",
    "&= \\beta_0 + \\beta_1 \\xi + \\beta_2 \\xi^2 + 3 \\beta_4 \\xi^3 - 3 \\beta_4 \\xi^3 + \\beta_3 \\xi^3 + \\beta_4 \\xi^3 - \\beta_4 \\xi^3 \\\\\n",
    "&= \\beta_0 + \\beta_1 \\xi + \\beta_2 \\xi^2 + \\beta_3 \\xi^3\n",
    "\\end{align}\n",
    "\n",
    "(d) Taking the first derivative of each function:  \n",
    "\\begin{align}\n",
    "f'(x) &= b_1 + 2 c_1 x + 3 d_1 x^2  \\\\\n",
    "f_1'(\\xi) &= \\beta_1 + 2 \\beta_2 \\xi + 3 \\beta_3 \\xi^2 \\\\\n",
    "f_2'(\\xi) &= \\beta_1 + 3 \\beta_4 \\xi^2 + 2 (\\beta_2 - 3 \\beta_4 \\xi) \\xi + 3 (\\beta_3 + \\beta_4) \\xi^2 \\\\\n",
    "&= \\beta_1 + 3 \\beta_4 \\xi^2 + 2 \\beta_2 \\xi - 6 \\beta_4 \\xi^2 + 3 \\beta_3 \\xi^2 + 3 \\beta_4 \\xi^2 \\\\\n",
    "&= \\beta_1 + 2 \\beta_2 \\xi + 3 \\beta_3 \\xi^2 + 3 \\beta_4 \\xi^2 + 3 \\beta_4 \\xi^2 - 6 \\beta_4 \\xi^2 \\\\\n",
    "&= \\beta_1 + 2 \\beta_2 \\xi + 3 \\beta_3 \\xi^2\n",
    "\\end{align}\n",
    "\n",
    "(e) Again, taking the second derivative of the above  \n",
    "\\begin{align}\n",
    "f''(x) &= 2 c_1 + 6 d_1 x \\\\\n",
    "f_1''(\\xi) &= 2 \\beta_2 + 6 \\beta_3 \\xi \\\\\n",
    "f_2''(\\xi) &= 2 (\\beta_2 - 3 \\beta_4 \\xi) + 6 (\\beta_3 + \\beta_4) \\xi \\\\\n",
    "&= 2 \\beta_2 + 6 \\beta_3 \\xi\n",
    "\\end{align}"
   ]
  },
  {
   "cell_type": "markdown",
   "source": [
    "2. Given \n",
    "\\begin{equation}\n",
    "\\hat{g} = \\arg \\min_g \\left( \\sum_{i=1}^{n} (y_i - g(x_i)^2) + \\lambda \\int[g^{m}(x)]^2dx \\right)\n",
    "\\end{equation}\n",
    "\n",
    "(a) $\\lambda = \\infty, m=0 $  \n",
    "Second term dominates the RSS term. Thus, we try to minimize the second term.  \n",
    "\\begin{align}\n",
    "\\lambda \\int[g^{m}(x)]^2dx &= \\infty \\int[g(x)]^2 dx \\\\\n",
    "\\frac {\\partial} {\\partial x} \\left ( \\int[g^{m}(x)]^2dx \\right ) &= g(x)^2 = 0\n",
    "\\end{align}  \n",
    "We have minimum at g(x) = 0.\n",
    "\n",
    "(b) $\\lambda = \\infty, m=1 $  \n",
    "Again, second dominates. Similarly to (a), we have minimum if g prime = 0 or g(x) = c  \n",
    "\n",
    "(c) $\\lambda = \\infty, m=2 $  \n",
    "Minimum if $g'' = 0$. Thus, $g = ax + b$\n",
    "\n",
    "(d) $\\lambda = \\infty, m=3 $  \n",
    "Minimum if $g'' = 0$. Thus, $g = ax^2 + bx + c$\n",
    "\n",
    "(e) $\\lambda = 0, m=3 $  \n",
    "Second term is ignored - a RSS term only. To minimized, we use Least Square formula."
   ],
   "metadata": {
    "collapsed": false,
    "pycharm": {
     "name": "#%% md\n"
    }
   }
  },
  {
   "cell_type": "markdown",
   "source": [
    "3. Regression model  \n",
    "\\begin{align}\n",
    "Y &= \\beta_0 + \\beta_1 b_1 (X) + \\beta_2 b_2 (X) + \\epsilon \\\\\n",
    "\\hat Y &= 1 + X - 2 (X-1)^2 I(X\\ge 1)\n",
    "\\end{align}  \n",
    "given $b_1(X) = X, b_2(X) = (X-1)^2 I(X \\ge 1)$"
   ],
   "metadata": {
    "collapsed": false,
    "pycharm": {
     "name": "#%% md\n"
    }
   }
  },
  {
   "cell_type": "code",
   "execution_count": 36,
   "outputs": [
    {
     "data": {
      "text/plain": "<Figure size 432x288 with 1 Axes>",
      "image/png": "[encoded data removed]"
     },
     "metadata": {
      "needs_background": "light"
     },
     "output_type": "display_data"
    }
   ],
   "source": [
    "import numpy as np\n",
    "import matplotlib.pyplot as plt\n",
    "\n",
    "X = np.arange(-2, 2, 0.1)\n",
    "y=[]\n",
    "for x in X:\n",
    "    if x < 1:\n",
    "        temp = 1 + x \n",
    "    else:\n",
    "        temp = 1 + x - 2*(x-1)**2\n",
    "    y.append(temp)\n",
    "\n",
    "plt.scatter(X, y)\n",
    "plt.xlabel('X')\n",
    "plt.ylabel('y')\n",
    "plt.show()"
   ],
   "metadata": {
    "collapsed": false,
    "pycharm": {
     "name": "#%%\n",
     "is_executing": false
    }
   }
  },
  {
   "cell_type": "markdown",
   "source": [
    "4. Regression model  \n",
    "\\begin{align}\n",
    "Y &= \\beta_0 + \\beta_1 b_1 (X) + \\beta_2 b_2 (X) + \\epsilon \\\\\n",
    "\\hat Y &= 1 + I(0 \\le X \\le 2)-(X-1)I(1 \\le X \\le 2) + 3 (X-3)I(3 \\le X \\le 4) + 3 I(4 \\le X \\le 5)\n",
    "\\end{align}  \n",
    "given $b_1(X) = I(0 \\le X \\le 2)-(X-1)I(1 \\le X \\le 2), b_2(X) = (X-3)I(3 \\le X \\le 4) + I(4 < X \\le 5)$ "
   ],
   "metadata": {
    "collapsed": false,
    "pycharm": {
     "name": "#%% md\n",
     "is_executing": false
    }
   }
  },
  {
   "cell_type": "code",
   "execution_count": 39,
   "outputs": [
    {
     "data": {
      "text/plain": "<Figure size 432x288 with 1 Axes>",
      "image/png": "[encoded data removed]"
     },
     "metadata": {
      "needs_background": "light"
     },
     "output_type": "display_data"
    }
   ],
   "source": [
    "X = np.arange(-2, 5, 0.1)\n",
    "y = []\n",
    "for x in X:\n",
    "    if x < 0:\n",
    "        temp = 1\n",
    "    elif 0 <= x < 1:\n",
    "        temp = 1 + 1\n",
    "    elif 1 <= x <= 2:\n",
    "        temp = 1 + 1 - (x-1)\n",
    "    elif 2 < x < 3:\n",
    "        temp = 1 \n",
    "    elif 3 <= x <= 4:\n",
    "        temp = 1 + 3*(x-3)\n",
    "    elif 4 < x <= 5:\n",
    "        temp = 1 + 3\n",
    "    y.append(temp)\n",
    "    \n",
    "plt.scatter(X, y)\n",
    "plt.xlabel('X')\n",
    "plt.ylabel('y')\n",
    "plt.show()"
   ],
   "metadata": {
    "collapsed": false,
    "pycharm": {
     "name": "#%%\n",
     "is_executing": false
    }
   }
  },
  {
   "cell_type": "markdown",
   "source": [
    "5. Consider the 2 curves:  \n",
    "\\begin{align}\n",
    "\\hat g_1 &= \\arg \\min_g \\left( \\sum_{i=1}^{n} (y_i - g(x_i)^2) + \\lambda \\int[g^{3}(x)]^2dx \\right) \\\\\n",
    "\\hat g_2 &= \\arg \\min_g \\left( \\sum_{i=1}^{n} (y_i - g(x_i)^2) + \\lambda \\int[g^{4}(x)]^2dx \\right)\n",
    "\\end{align}\n",
    "\n",
    "where $g^{(m)}$ represents the mth derivative of g.\n",
    "\n",
    "(a) As $\\lambda \\to \\infty$, $\\hat g_2$ will have smaller training RSS because of its higher \n",
    "polynomial order => more flexible.\n",
    "\n",
    "(b) As $\\lambda \\to \\infty$, $\\hat g_1$ will have smaller test RSS because it is less likely to\n",
    "overfit data.\n",
    "\n",
    "(c) For $\\lambda = 0$, $\\hat g_1$ and $\\hat g_2$ will have the same training and test RSS \n",
    "since they are the same functions \n"
   ],
   "metadata": {
    "collapsed": false,
    "pycharm": {
     "name": "#%% md\n"
    }
   }
  }
 ],
 "metadata": {
  "kernelspec": {
   "display_name": "Python 3",
   "language": "python",
   "name": "python3"
  },
  "language_info": {
   "codemirror_mode": {
    "name": "ipython",
    "version": 2
   },
   "file_extension": ".py",
   "mimetype": "text/x-python",
   "name": "python",
   "nbconvert_exporter": "python",
   "pygments_lexer": "ipython2",
   "version": "2.7.6"
  },
  "pycharm": {
   "stem_cell": {
    "cell_type": "raw",
    "source": [],
    "metadata": {
     "collapsed": false
    }
   }
  }
 },
 "nbformat": 4,
 "nbformat_minor": 0
}
