{
 "cells": [
  {
   "cell_type": "markdown",
   "source": [
    "## Applied - Question 9\n",
    "\n",
    "This question will use College data set.\n",
    "\n",
    "#### Import block"
   ],
   "metadata": {
    "collapsed": false
   }
  },
  {
   "cell_type": "code",
   "execution_count": 72,
   "outputs": [],
   "source": [
    "from operator import itemgetter\n",
    "\n",
    "import matplotlib.pyplot as plt\n",
    "import numpy as np\n",
    "import pandas as pd\n",
    "import sklearn.linear_model as skl_lm\n",
    "from sklearn.cross_decomposition import PLSRegression\n",
    "from sklearn.decomposition import PCA\n",
    "from sklearn.metrics import mean_squared_error\n",
    "from sklearn.model_selection import KFold, cross_val_score, train_test_split\n",
    "from sklearn.preprocessing import scale\n",
    "\n",
    "%matplotlib inline\n",
    "plt.style.use('seaborn-white')\n"
   ],
   "metadata": {
    "collapsed": false,
    "pycharm": {
     "name": "#%%\n",
     "is_executing": false
    }
   }
  },
  {
   "cell_type": "markdown",
   "source": [
    "#### (a) Import and splitting dataset"
   ],
   "metadata": {
    "collapsed": false,
    "pycharm": {
     "name": "#%% md\n"
    }
   }
  },
  {
   "cell_type": "code",
   "execution_count": 73,
   "outputs": [
    {
     "data": {
      "text/plain": "   Private  Apps  Accept  Enroll  Top10perc  Top25perc  F_Undergrad  \\\n0        1  1660    1232     721         23         52         2885   \n1        1  2186    1924     512         16         29         2683   \n2        1  1428    1097     336         22         50         1036   \n3        1   417     349     137         60         89          510   \n4        1   193     146      55         16         44          249   \n\n   P_Undergrad  Outstate  Room_Board  Books  Personal  PhD  Terminal  \\\n0          537      7440        3300    450      2200   70        78   \n1         1227     12280        6450    750      1500   29        30   \n2           99     11250        3750    400      1165   53        66   \n3           63     12960        5450    450       875   92        97   \n4          869      7560        4120    800      1500   76        72   \n\n   S_F_Ratio  perc_alumni  Expend  Grad_Rate  \n0       18.1           12    7041         60  \n1       12.2           16   10527         56  \n2       12.9           30    8735         54  \n3        7.7           37   19016         59  \n4       11.9            2   10922         15  ",
      "text/html": "<div>\n<style scoped>\n    .dataframe tbody tr th:only-of-type {\n        vertical-align: middle;\n    }\n\n    .dataframe tbody tr th {\n        vertical-align: top;\n    }\n\n    .dataframe thead th {\n        text-align: right;\n    }\n</style>\n<table border=\"1\" class=\"dataframe\">\n  <thead>\n    <tr style=\"text-align: right;\">\n      <th></th>\n      <th>Private</th>\n      <th>Apps</th>\n      <th>Accept</th>\n      <th>Enroll</th>\n      <th>Top10perc</th>\n      <th>Top25perc</th>\n      <th>F_Undergrad</th>\n      <th>P_Undergrad</th>\n      <th>Outstate</th>\n      <th>Room_Board</th>\n      <th>Books</th>\n      <th>Personal</th>\n      <th>PhD</th>\n      <th>Terminal</th>\n      <th>S_F_Ratio</th>\n      <th>perc_alumni</th>\n      <th>Expend</th>\n      <th>Grad_Rate</th>\n    </tr>\n  </thead>\n  <tbody>\n    <tr>\n      <td>0</td>\n      <td>1</td>\n      <td>1660</td>\n      <td>1232</td>\n      <td>721</td>\n      <td>23</td>\n      <td>52</td>\n      <td>2885</td>\n      <td>537</td>\n      <td>7440</td>\n      <td>3300</td>\n      <td>450</td>\n      <td>2200</td>\n      <td>70</td>\n      <td>78</td>\n      <td>18.1</td>\n      <td>12</td>\n      <td>7041</td>\n      <td>60</td>\n    </tr>\n    <tr>\n      <td>1</td>\n      <td>1</td>\n      <td>2186</td>\n      <td>1924</td>\n      <td>512</td>\n      <td>16</td>\n      <td>29</td>\n      <td>2683</td>\n      <td>1227</td>\n      <td>12280</td>\n      <td>6450</td>\n      <td>750</td>\n      <td>1500</td>\n      <td>29</td>\n      <td>30</td>\n      <td>12.2</td>\n      <td>16</td>\n      <td>10527</td>\n      <td>56</td>\n    </tr>\n    <tr>\n      <td>2</td>\n      <td>1</td>\n      <td>1428</td>\n      <td>1097</td>\n      <td>336</td>\n      <td>22</td>\n      <td>50</td>\n      <td>1036</td>\n      <td>99</td>\n      <td>11250</td>\n      <td>3750</td>\n      <td>400</td>\n      <td>1165</td>\n      <td>53</td>\n      <td>66</td>\n      <td>12.9</td>\n      <td>30</td>\n      <td>8735</td>\n      <td>54</td>\n    </tr>\n    <tr>\n      <td>3</td>\n      <td>1</td>\n      <td>417</td>\n      <td>349</td>\n      <td>137</td>\n      <td>60</td>\n      <td>89</td>\n      <td>510</td>\n      <td>63</td>\n      <td>12960</td>\n      <td>5450</td>\n      <td>450</td>\n      <td>875</td>\n      <td>92</td>\n      <td>97</td>\n      <td>7.7</td>\n      <td>37</td>\n      <td>19016</td>\n      <td>59</td>\n    </tr>\n    <tr>\n      <td>4</td>\n      <td>1</td>\n      <td>193</td>\n      <td>146</td>\n      <td>55</td>\n      <td>16</td>\n      <td>44</td>\n      <td>249</td>\n      <td>869</td>\n      <td>7560</td>\n      <td>4120</td>\n      <td>800</td>\n      <td>1500</td>\n      <td>76</td>\n      <td>72</td>\n      <td>11.9</td>\n      <td>2</td>\n      <td>10922</td>\n      <td>15</td>\n    </tr>\n  </tbody>\n</table>\n</div>"
     },
     "metadata": {},
     "output_type": "execute_result",
     "execution_count": 73
    }
   ],
   "source": [
    "data_path = 'D:\\\\PycharmProjects\\\\ISLR\\\\data\\\\'\n",
    "df = pd.read_csv(f'{data_path}College.csv')\n",
    "\n",
    "# Change the ugly names!\n",
    "df.columns = df.columns.str.replace(\".\", \"_\")\n",
    "df.Private = df.Private.astype('category').cat.codes\n",
    "\n",
    "# declare X, y\n",
    "y = df.Apps\n",
    "X = df.drop('Apps', axis=1)\n",
    "\n",
    "# Split data\n",
    "X_train, X_test, y_train, y_test = train_test_split(X, y, test_size=0.5, random_state=1)\n",
    "\n",
    "# First look\n",
    "df.head()"
   ],
   "metadata": {
    "collapsed": false,
    "pycharm": {
     "name": "#%%\n",
     "is_executing": false
    }
   }
  },
  {
   "cell_type": "code",
   "execution_count": 74,
   "outputs": [],
   "source": [
    "# Declare RMSE to compare all answers\n",
    "RMSE = {}"
   ],
   "metadata": {
    "collapsed": false,
    "pycharm": {
     "name": "#%%\n",
     "is_executing": false
    }
   }
  },
  {
   "cell_type": "markdown",
   "source": [
    "#### (b) OLS"
   ],
   "metadata": {
    "collapsed": false,
    "pycharm": {
     "name": "#%% md\n",
     "is_executing": false
    }
   }
  },
  {
   "cell_type": "code",
   "execution_count": 75,
   "outputs": [
    {
     "name": "stdout",
     "text": [
      "OLS gives RMSE of 1193.7569213668355\n"
     ],
     "output_type": "stream"
    }
   ],
   "source": [
    "# OLS and prediction\n",
    "regr = skl_lm.LinearRegression().fit(X_train, y_train)\n",
    "y_pred = regr.predict(X_test)\n",
    "\n",
    "# Save to RMSE\n",
    "RMSE['OLS'] = np.sqrt(mean_squared_error(y_test, y_pred))\n",
    "\n",
    "print(f'OLS gives RMSE of {np.sqrt(mean_squared_error(y_test, y_pred))}')"
   ],
   "metadata": {
    "collapsed": false,
    "pycharm": {
     "name": "#%%\n",
     "is_executing": false
    }
   }
  },
  {
   "cell_type": "markdown",
   "source": [
    "#### (c) Ridge CV\n",
    "\n",
    "With the best alpha, Ridge regression barely did any better than OLS."
   ],
   "metadata": {
    "collapsed": false,
    "pycharm": {
     "name": "#%% md\n"
    }
   }
  },
  {
   "cell_type": "code",
   "execution_count": 76,
   "outputs": [
    {
     "name": "stdout",
     "text": [
      "Ridge Regression gives RMSE of 1194.779676869436\n\nPrivate       -327.586516\nAccept           1.144047\nEnroll           0.475942\nTop10perc       62.855316\nTop25perc      -22.661791\nF_Undergrad     -0.000486\nP_Undergrad      0.015898\nOutstate        -0.073339\nRoom_Board       0.245855\nBooks           -0.214599\nPersonal        -0.088646\nPhD             -5.776644\nTerminal        -3.256932\nS_F_Ratio        9.141881\nperc_alumni    -10.909163\nExpend           0.058387\nGrad_Rate       11.988046\ndtype: float64\nIntercept: -513.5963646545333\n"
     ],
     "output_type": "stream"
    }
   ],
   "source": [
    "alphas = np.arange(1, 10, 0.1)\n",
    "ridge = skl_lm.RidgeCV(alphas=alphas, fit_intercept=True, cv=10).fit(X_train, y_train)\n",
    "y_pred = ridge.predict(X_test)\n",
    "\n",
    "# Save to RMSE\n",
    "RMSE['Ridge'] = np.sqrt(mean_squared_error(y_test, y_pred))\n",
    "\n",
    "# Print out results\n",
    "print(f'Ridge Regression gives RMSE of {np.sqrt(mean_squared_error(y_test, y_pred))}\\n')\n",
    "\n",
    "print(pd.Series(ridge.coef_, index=X.columns))\n",
    "print('Intercept:', ridge.intercept_)"
   ],
   "metadata": {
    "collapsed": false,
    "pycharm": {
     "name": "#%%\n",
     "is_executing": false
    }
   }
  },
  {
   "cell_type": "markdown",
   "source": [
    "#### (d) The Lasso CV\n",
    "\n",
    "Again, the Lasso barely did any better than the plain old OLS model. In fact, even \n",
    "when Lasso suppresses many coefficients to 0, the RMSE is nearly identical to OLS."
   ],
   "metadata": {
    "collapsed": false,
    "pycharm": {
     "name": "#%% md\n",
     "is_executing": false
    }
   }
  },
  {
   "cell_type": "code",
   "execution_count": 77,
   "outputs": [
    {
     "name": "stdout",
     "text": [
      "The Lasso gives RMSE of 1193.757335392484\n\nPrivate       -437.168249\nAccept           1.142031\nEnroll           0.487829\nTop10perc       62.755231\nTop25perc      -22.697559\nF_Undergrad     -0.006027\nP_Undergrad      0.016661\nOutstate        -0.067306\nRoom_Board       0.247246\nBooks           -0.206701\nPersonal        -0.085643\nPhD             -6.257343\nTerminal        -3.609639\nS_F_Ratio        7.686640\nperc_alumni    -10.528344\nExpend           0.057793\nGrad_Rate       12.031922\ndtype: float64\nIntercept: -414.0809487232832\n"
     ],
     "output_type": "stream"
    }
   ],
   "source": [
    "alphas = np.arange(0.01, 1, 0.001)\n",
    "lasso = skl_lm.LassoCV(alphas=alphas, fit_intercept=True, cv=10).fit(X_train, y_train)\n",
    "y_pred = lasso.predict(X_test)\n",
    "\n",
    "# Save to RMSE\n",
    "RMSE['Lasso'] = np.sqrt(mean_squared_error(y_test, y_pred))\n",
    "\n",
    "print(f'The Lasso gives RMSE of {np.sqrt(mean_squared_error(y_test, y_pred))}\\n')\n",
    "\n",
    "print(pd.Series(lasso.coef_, index=X.columns))\n",
    "print('Intercept:', lasso.intercept_)"
   ],
   "metadata": {
    "collapsed": false,
    "pycharm": {
     "name": "#%%\n",
     "is_executing": false
    }
   }
  },
  {
   "cell_type": "markdown",
   "source": [
    "#### (e) Fitting PCR\n",
    "\n",
    "PCR falls behind in term of test accuracy. RMSE is a bit higher compared to the other 3."
   ],
   "metadata": {
    "collapsed": false,
    "pycharm": {
     "name": "#%% md\n"
    }
   }
  },
  {
   "cell_type": "code",
   "execution_count": 78,
   "outputs": [
    {
     "name": "stdout",
     "text": [
      "1      31.74\n2      57.74\n3      65.21\n4      71.17\n5      76.31\n6      81.35\n7      85.15\n8      88.09\n9      90.79\n10     93.09\n11     95.18\n12     96.95\n13     97.98\n14     98.91\n15     99.44\n16     99.90\n17    100.00\ndtype: float64\n"
     ],
     "output_type": "stream"
    },
    {
     "data": {
      "text/plain": "Text(0.5, 1.0, 'PCA on train set with 10 fold')"
     },
     "metadata": {},
     "output_type": "execute_result",
     "execution_count": 78
    },
    {
     "data": {
      "text/plain": "<Figure size 432x288 with 1 Axes>",
      "image/png": "[encoded data removed]"
     },
     "metadata": {},
     "output_type": "display_data"
    }
   ],
   "source": [
    "pca = PCA()\n",
    "X_reduced_train = pca.fit_transform(scale(X_train))\n",
    "print(pd.Series(np.cumsum(np.round(pca.explained_variance_ratio_*100,decimals=2))\n",
    "                , index=range(1,18)))\n",
    "\n",
    "# Setting up all parameters # 19 principal components\n",
    "k_fold = KFold(n_splits=10, shuffle=True, random_state=1)\n",
    "mse = [13000000]  # For a better graph\n",
    "regr = skl_lm.LinearRegression()\n",
    "\n",
    "# Loop through all components number and K-fold\n",
    "for i in range(1, 18):\n",
    "    mse.append(cross_val_score(regr, X_reduced_train[:,:i], y_train.ravel(), cv=k_fold, \n",
    "                                   scoring='neg_mean_squared_error').mean()*-1)\n",
    "\n",
    "\n",
    "# Getting minimum MSE\n",
    "min_mse_index, min_mse = min(enumerate(mse), key=itemgetter(1))\n",
    "\n",
    "# Plot MSE\n",
    "plt.plot(mse, color='b')\n",
    "plt.plot(min_mse_index, min_mse, color='g', marker='x', markersize=20)\n",
    "plt.xticks(np.arange(0,20))\n",
    "plt.xlabel('Number of Principal Components')\n",
    "plt.ylabel('MSE')\n",
    "plt.title('PCA on train set with 10 fold')"
   ],
   "metadata": {
    "collapsed": false,
    "pycharm": {
     "name": "#%%\n",
     "is_executing": false
    }
   }
  },
  {
   "cell_type": "code",
   "execution_count": 79,
   "outputs": [
    {
     "name": "stdout",
     "text": [
      "Test RMSE with 16 PC: 1469.2426424191476\n"
     ],
     "output_type": "stream"
    }
   ],
   "source": [
    "# transform test set\n",
    "X_reduced_test = pca.transform(scale(X_test))\n",
    "\n",
    "# Run PCR on test set with M = 16\n",
    "y_pred = regr.fit(X_reduced_train[:,:17], y_train).predict(X_reduced_test[:,:17])\n",
    "\n",
    "# Save to RMSE\n",
    "RMSE['PCR'] = np.sqrt(mean_squared_error(y_test, y_pred))\n",
    "\n",
    "# Print result\n",
    "print(f'Test RMSE with 16 PC: {np.sqrt(mean_squared_error(y_test, y_pred))}')"
   ],
   "metadata": {
    "collapsed": false,
    "pycharm": {
     "name": "#%%\n",
     "is_executing": false
    }
   }
  },
  {
   "cell_type": "markdown",
   "source": [
    "#### (f) PLS\n",
    "\n",
    "Some notes: \n",
    "1. Don't forget to scale data\n",
    "2. fit_transform train set but only transform test set"
   ],
   "metadata": {
    "collapsed": false,
    "pycharm": {
     "name": "#%% md\n"
    }
   }
  },
  {
   "cell_type": "code",
   "execution_count": 80,
   "outputs": [
    {
     "data": {
      "text/plain": "Text(0, 0.5, 'MSE')"
     },
     "metadata": {},
     "output_type": "execute_result",
     "execution_count": 80
    },
    {
     "data": {
      "text/plain": "<Figure size 432x288 with 1 Axes>",
      "image/png": "[encoded data removed]"
     },
     "metadata": {},
     "output_type": "display_data"
    }
   ],
   "source": [
    "# Running PLS with 10 fold\n",
    "k_fold = KFold(n_splits=10, random_state=1, shuffle=True)\n",
    "mse = [13000000]\n",
    "for i in range(1, 18):\n",
    "    pls = PLSRegression(n_components=i)\n",
    "    score = cross_val_score(pls, scale(X_train), y_train, cv=k_fold,\n",
    "                               scoring='neg_mean_squared_error').mean()\n",
    "    mse.append(-score)\n",
    "\n",
    "# Find min mse\n",
    "min_mse_index, min_mse = min(enumerate(mse), key=itemgetter(1))\n",
    "\n",
    "# plot MSE  vs directions/components\n",
    "plt.plot(mse, color='r', label='MSE')\n",
    "plt.plot(min_mse_index, min_mse, color='g', marker='x', markersize=20)\n",
    "plt.xticks(np.arange(0,20))\n",
    "plt.xlabel('Number of Components')\n",
    "plt.ylabel('MSE')    "
   ],
   "metadata": {
    "collapsed": false,
    "pycharm": {
     "name": "#%%\n",
     "is_executing": false
    }
   }
  },
  {
   "cell_type": "code",
   "execution_count": 81,
   "outputs": [
    {
     "name": "stdout",
     "text": [
      "PLS with M=8 has RMSE: 1472.5911578450145\n"
     ],
     "output_type": "stream"
    }
   ],
   "source": [
    "# getting RMSE for test set with PLS. M = 8\n",
    "pls = PLSRegression(n_components=8)\n",
    "y_pred = pls.fit(scale(X_train), y_train).predict(scale(X_test))\n",
    "\n",
    "# Add score to RMSE\n",
    "RMSE['PLS'] = np.sqrt(mean_squared_error(y_test, y_pred))\n",
    "\n",
    "# Print out result\n",
    "print('PLS with M=8 has RMSE:', np.sqrt(mean_squared_error(y_test, y_pred)))"
   ],
   "metadata": {
    "collapsed": false,
    "pycharm": {
     "name": "#%%\n",
     "is_executing": false
    }
   }
  },
  {
   "cell_type": "markdown",
   "source": [
    "#### (g) How is the result?\n",
    "\n",
    "PCR and PLS come behind with the highest RMSE. OLS, Ridge and Lasso has almost identical \n",
    "RMSE and they are very good at predicting college application received. \n",
    "\n",
    "While there are differences in RMSE, it is not a big enough to be a concern."
   ],
   "metadata": {
    "collapsed": false,
    "pycharm": {
     "name": "#%% md\n",
     "is_executing": false
    }
   }
  },
  {
   "cell_type": "code",
   "execution_count": 82,
   "outputs": [
    {
     "data": {
      "text/plain": "              RMSE\nOLS    1193.756921\nRidge  1194.779677\nLasso  1193.757335\nPCR    1469.242642\nPLS    1472.591158",
      "text/html": "<div>\n<style scoped>\n    .dataframe tbody tr th:only-of-type {\n        vertical-align: middle;\n    }\n\n    .dataframe tbody tr th {\n        vertical-align: top;\n    }\n\n    .dataframe thead th {\n        text-align: right;\n    }\n</style>\n<table border=\"1\" class=\"dataframe\">\n  <thead>\n    <tr style=\"text-align: right;\">\n      <th></th>\n      <th>RMSE</th>\n    </tr>\n  </thead>\n  <tbody>\n    <tr>\n      <td>OLS</td>\n      <td>1193.756921</td>\n    </tr>\n    <tr>\n      <td>Ridge</td>\n      <td>1194.779677</td>\n    </tr>\n    <tr>\n      <td>Lasso</td>\n      <td>1193.757335</td>\n    </tr>\n    <tr>\n      <td>PCR</td>\n      <td>1469.242642</td>\n    </tr>\n    <tr>\n      <td>PLS</td>\n      <td>1472.591158</td>\n    </tr>\n  </tbody>\n</table>\n</div>"
     },
     "metadata": {},
     "output_type": "execute_result",
     "execution_count": 82
    }
   ],
   "source": [
    "pd.DataFrame.from_dict(RMSE, orient='index', columns=['RMSE'])\n",
    "\n",
    "\n",
    "\n",
    "\n",
    "\n",
    "\n",
    "\n",
    "\n"
   ],
   "metadata": {
    "collapsed": false,
    "pycharm": {
     "name": "#%%\n",
     "is_executing": false
    }
   }
  }
 ],
 "metadata": {
  "kernelspec": {
   "display_name": "Python 3",
   "language": "python",
   "name": "python3"
  },
  "language_info": {
   "codemirror_mode": {
    "name": "ipython",
    "version": 2
   },
   "file_extension": ".py",
   "mimetype": "text/x-python",
   "name": "python",
   "nbconvert_exporter": "python",
   "pygments_lexer": "ipython2",
   "version": "2.7.6"
  },
  "pycharm": {
   "stem_cell": {
    "cell_type": "raw",
    "source": [],
    "metadata": {
     "collapsed": false
    }
   }
  }
 },
 "nbformat": 4,
 "nbformat_minor": 0
}
