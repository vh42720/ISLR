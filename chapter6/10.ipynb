{
 "cells": [
  {
   "cell_type": "markdown",
   "source": [
    "## Applied - Question 10\n",
    "\n",
    "This question will use a simulated dataset. We will explore the test error vs training \n",
    "error when number of features increase.\n",
    "\n",
    "#### Import block"
   ],
   "metadata": {
    "collapsed": false
   }
  },
  {
   "cell_type": "code",
   "execution_count": 104,
   "outputs": [],
   "source": [
    "from operator import itemgetter\n",
    "import numpy as np\n",
    "import random\n",
    "import pandas as pd\n",
    "import scipy as sp\n",
    "from itertools import combinations\n",
    "\n",
    "import sklearn.linear_model as skl_lm\n",
    "from sklearn.metrics import mean_squared_error\n",
    "from sklearn.cross_decomposition import PLSRegression\n",
    "from sklearn.model_selection import LeaveOneOut, KFold, cross_val_score, train_test_split\n",
    "from sklearn.preprocessing import scale\n",
    "from sklearn.decomposition import PCA\n",
    "\n",
    "import statsmodels.formula.api as smf\n",
    "import statsmodels.api as sm\n",
    "\n",
    "import matplotlib.pyplot as plt\n",
    "import seaborn as sns\n",
    "\n",
    "from forward_select import forward_select\n",
    "\n",
    "%matplotlib inline\n",
    "plt.style.use('seaborn-white')"
   ],
   "metadata": {
    "collapsed": false,
    "pycharm": {
     "name": "#%%\n",
     "is_executing": false
    }
   }
  },
  {
   "cell_type": "markdown",
   "source": [
    "#### (a) Generate data"
   ],
   "metadata": {
    "collapsed": false,
    "pycharm": {
     "name": "#%% md\n"
    }
   }
  },
  {
   "cell_type": "code",
   "execution_count": 105,
   "outputs": [
    {
     "data": {
      "text/plain": "        X_1       X_2       X_3       X_4       X_5       X_6       X_7  \\\n0  1.624345 -0.611756 -0.528172 -1.072969  0.865408 -2.301539  1.744812   \n1 -1.100619  1.144724  0.901591  0.502494  0.900856 -0.683728 -0.122890   \n2 -0.191836 -0.887629 -0.747158  1.692455  0.050808 -0.636996  0.190915   \n3 -0.754398  1.252868  0.512930 -0.298093  0.488518 -0.075572  1.131629   \n4 -0.222328 -0.200758  0.186561  0.410052  0.198300  0.119009 -0.670662   \n\n        X_8       X_9      X_10      X_11      X_12      X_13      X_14  \\\n0 -0.761207  0.319039 -0.249370  1.462108 -2.060141 -0.322417 -0.384054   \n1 -0.935769 -0.267888  0.530355 -0.691661 -0.396754 -0.687173 -0.845206   \n2  2.100255  0.120159  0.617203  0.300170 -0.352250 -1.142518 -0.349343   \n3  1.519817  2.185575 -1.396496 -1.444114 -0.504466  0.160037  0.876169   \n4  0.377564  0.121821  1.129484  1.198918  0.185156 -0.375285 -0.638730   \n\n       X_15      X_16      X_17      X_18      X_19      X_20  \n0  1.133769 -1.099891 -0.172428 -0.877858  0.042214  0.582815  \n1 -0.671246 -0.012665 -1.117310  0.234416  1.659802  0.742044  \n2 -0.208894  0.586623  0.838983  0.931102  0.285587  0.885141  \n3  0.315635 -2.022201 -0.306204  0.827975  0.230095  0.762011  \n4  0.423494  0.077340 -0.343854  0.043597 -0.620001  0.698032  ",
      "text/html": "<div>\n<style scoped>\n    .dataframe tbody tr th:only-of-type {\n        vertical-align: middle;\n    }\n\n    .dataframe tbody tr th {\n        vertical-align: top;\n    }\n\n    .dataframe thead th {\n        text-align: right;\n    }\n</style>\n<table border=\"1\" class=\"dataframe\">\n  <thead>\n    <tr style=\"text-align: right;\">\n      <th></th>\n      <th>X_1</th>\n      <th>X_2</th>\n      <th>X_3</th>\n      <th>X_4</th>\n      <th>X_5</th>\n      <th>X_6</th>\n      <th>X_7</th>\n      <th>X_8</th>\n      <th>X_9</th>\n      <th>X_10</th>\n      <th>X_11</th>\n      <th>X_12</th>\n      <th>X_13</th>\n      <th>X_14</th>\n      <th>X_15</th>\n      <th>X_16</th>\n      <th>X_17</th>\n      <th>X_18</th>\n      <th>X_19</th>\n      <th>X_20</th>\n    </tr>\n  </thead>\n  <tbody>\n    <tr>\n      <td>0</td>\n      <td>1.624345</td>\n      <td>-0.611756</td>\n      <td>-0.528172</td>\n      <td>-1.072969</td>\n      <td>0.865408</td>\n      <td>-2.301539</td>\n      <td>1.744812</td>\n      <td>-0.761207</td>\n      <td>0.319039</td>\n      <td>-0.249370</td>\n      <td>1.462108</td>\n      <td>-2.060141</td>\n      <td>-0.322417</td>\n      <td>-0.384054</td>\n      <td>1.133769</td>\n      <td>-1.099891</td>\n      <td>-0.172428</td>\n      <td>-0.877858</td>\n      <td>0.042214</td>\n      <td>0.582815</td>\n    </tr>\n    <tr>\n      <td>1</td>\n      <td>-1.100619</td>\n      <td>1.144724</td>\n      <td>0.901591</td>\n      <td>0.502494</td>\n      <td>0.900856</td>\n      <td>-0.683728</td>\n      <td>-0.122890</td>\n      <td>-0.935769</td>\n      <td>-0.267888</td>\n      <td>0.530355</td>\n      <td>-0.691661</td>\n      <td>-0.396754</td>\n      <td>-0.687173</td>\n      <td>-0.845206</td>\n      <td>-0.671246</td>\n      <td>-0.012665</td>\n      <td>-1.117310</td>\n      <td>0.234416</td>\n      <td>1.659802</td>\n      <td>0.742044</td>\n    </tr>\n    <tr>\n      <td>2</td>\n      <td>-0.191836</td>\n      <td>-0.887629</td>\n      <td>-0.747158</td>\n      <td>1.692455</td>\n      <td>0.050808</td>\n      <td>-0.636996</td>\n      <td>0.190915</td>\n      <td>2.100255</td>\n      <td>0.120159</td>\n      <td>0.617203</td>\n      <td>0.300170</td>\n      <td>-0.352250</td>\n      <td>-1.142518</td>\n      <td>-0.349343</td>\n      <td>-0.208894</td>\n      <td>0.586623</td>\n      <td>0.838983</td>\n      <td>0.931102</td>\n      <td>0.285587</td>\n      <td>0.885141</td>\n    </tr>\n    <tr>\n      <td>3</td>\n      <td>-0.754398</td>\n      <td>1.252868</td>\n      <td>0.512930</td>\n      <td>-0.298093</td>\n      <td>0.488518</td>\n      <td>-0.075572</td>\n      <td>1.131629</td>\n      <td>1.519817</td>\n      <td>2.185575</td>\n      <td>-1.396496</td>\n      <td>-1.444114</td>\n      <td>-0.504466</td>\n      <td>0.160037</td>\n      <td>0.876169</td>\n      <td>0.315635</td>\n      <td>-2.022201</td>\n      <td>-0.306204</td>\n      <td>0.827975</td>\n      <td>0.230095</td>\n      <td>0.762011</td>\n    </tr>\n    <tr>\n      <td>4</td>\n      <td>-0.222328</td>\n      <td>-0.200758</td>\n      <td>0.186561</td>\n      <td>0.410052</td>\n      <td>0.198300</td>\n      <td>0.119009</td>\n      <td>-0.670662</td>\n      <td>0.377564</td>\n      <td>0.121821</td>\n      <td>1.129484</td>\n      <td>1.198918</td>\n      <td>0.185156</td>\n      <td>-0.375285</td>\n      <td>-0.638730</td>\n      <td>0.423494</td>\n      <td>0.077340</td>\n      <td>-0.343854</td>\n      <td>0.043597</td>\n      <td>-0.620001</td>\n      <td>0.698032</td>\n    </tr>\n  </tbody>\n</table>\n</div>"
     },
     "metadata": {},
     "output_type": "execute_result",
     "execution_count": 105
    }
   ],
   "source": [
    "# set seed\n",
    "np.random.seed(1)\n",
    "\n",
    "# Random x, y, eps\n",
    "p = 20\n",
    "n = 1000\n",
    "X = np.random.randn(n, p)\n",
    "B = np.random.rand(p)\n",
    "eps = np.random.rand(n)\n",
    "\n",
    "# Some B are 0\n",
    "for i in [8,17,9,6,12]:\n",
    "    B[i] = 0\n",
    "\n",
    "# Naming X\n",
    "name = []\n",
    "for i in range(1, 21):\n",
    "    name.append(f'X_{i}')\n",
    "\n",
    "# Create y\n",
    "y =  np.dot(X, B) + eps\n",
    "\n",
    "# Finalize\n",
    "X = pd.DataFrame(X, columns=name)\n",
    "X.head()"
   ],
   "metadata": {
    "collapsed": false,
    "pycharm": {
     "name": "#%%\n",
     "is_executing": false
    }
   }
  },
  {
   "cell_type": "markdown",
   "source": [
    "#### (b) Splitting into train and test set"
   ],
   "metadata": {
    "collapsed": false,
    "pycharm": {
     "name": "#%% md\n"
    }
   }
  },
  {
   "cell_type": "code",
   "execution_count": 106,
   "outputs": [],
   "source": [
    "X_train, X_test, y_train, y_test = train_test_split(X, y, test_size=0.1, \n",
    "                                                    random_state=1)"
   ],
   "metadata": {
    "collapsed": false,
    "pycharm": {
     "name": "#%%\n",
     "is_executing": false
    }
   }
  },
  {
   "cell_type": "markdown",
   "source": [
    "#### (c) Best subset selection/Forward\n",
    "\n",
    "Best subset will take a long time with p=20. Thus, I will use forward selection instead."
   ],
   "metadata": {
    "collapsed": false,
    "pycharm": {
     "name": "#%% md\n",
     "is_executing": false
    }
   }
  },
  {
   "cell_type": "code",
   "execution_count": 107,
   "outputs": [
    {
     "name": "stderr",
     "text": [
      "d:\\pycharmprojects\\islr\\venv\\lib\\site-packages\\numpy\\core\\fromnumeric.py:2495: FutureWarning: Method .ptp is deprecated and will be removed in a future version. Use numpy.ptp instead.\n  return ptp(axis=axis, out=out, **kwargs)\n"
     ],
     "output_type": "stream"
    }
   ],
   "source": [
    "forward_df = forward_select(y_train, X_train, k=p)"
   ],
   "metadata": {
    "collapsed": false,
    "pycharm": {
     "name": "#%%\n",
     "is_executing": false
    }
   }
  },
  {
   "cell_type": "code",
   "execution_count": 108,
   "outputs": [
    {
     "data": {
      "text/plain": "Text(0.5, 1.0, 'MSE of training data')"
     },
     "metadata": {},
     "output_type": "execute_result",
     "execution_count": 108
    },
    {
     "data": {
      "text/plain": "<Figure size 432x288 with 1 Axes>",
      "image/png": "[encoded data removed]"
     },
     "metadata": {},
     "output_type": "display_data"
    }
   ],
   "source": [
    "# Get MSE\n",
    "mse_train = forward_df.RSS / n\n",
    "\n",
    "# Minimum point\n",
    "mse_train_min_index, mse_train_min = min(enumerate(mse_train), key=itemgetter(1))\n",
    "\n",
    "# Plot MSE\n",
    "plt.plot(forward_df.num_features, mse_train)\n",
    "plt.plot(mse_train_min_index, mse_train_min, color='g', marker='x', markersize=20)\n",
    "plt.xlabel('Number of Features')\n",
    "plt.ylabel('MSE')\n",
    "plt.xticks(np.arange(0, 21, 1))\n",
    "plt.title('MSE of training data')"
   ],
   "metadata": {
    "collapsed": false,
    "pycharm": {
     "name": "#%%\n",
     "is_executing": false
    }
   }
  },
  {
   "cell_type": "markdown",
   "source": [
    "#### (d) Plotting test MSE"
   ],
   "metadata": {
    "collapsed": false,
    "pycharm": {
     "name": "#%% md\n"
    }
   }
  },
  {
   "cell_type": "code",
   "execution_count": 109,
   "outputs": [
    {
     "data": {
      "text/plain": "<matplotlib.legend.Legend at 0x26e03732308>"
     },
     "metadata": {},
     "output_type": "execute_result",
     "execution_count": 109
    },
    {
     "data": {
      "text/plain": "<Figure size 432x288 with 1 Axes>",
      "image/png": "[encoded data removed]"
     },
     "metadata": {},
     "output_type": "display_data"
    }
   ],
   "source": [
    "mse_test = []\n",
    "\n",
    "# Loop through each model in forward selection and get MSE\n",
    "for i in forward_df.features:\n",
    "    regr = skl_lm.LinearRegression().fit(X_train[i], y_train)\n",
    "    y_pred = regr.predict(X_test[i])\n",
    "    mse = mean_squared_error(y_test, y_pred)\n",
    "    mse_test.append(mse)\n",
    "    \n",
    "# Minimum point\n",
    "mse_test_min_index, mse_test_min = min(enumerate(mse_test), key=itemgetter(1))\n",
    "\n",
    "# Plot Test MSE\n",
    "plt.plot(forward_df.num_features, mse_test, color='r', label='Test')\n",
    "plt.plot(forward_df.num_features, mse_train, color='b', label='Train')\n",
    "plt.plot(mse_test_min_index, mse_test_min, color='g', marker='x', markersize=20)\n",
    "plt.xlabel('Number of Features')\n",
    "plt.ylabel('MSE')\n",
    "plt.xticks(np.arange(0, 21, 1))\n",
    "plt.title('MSE of test data')\n",
    "plt.legend()"
   ],
   "metadata": {
    "collapsed": false,
    "pycharm": {
     "name": "#%%\n",
     "is_executing": false
    }
   }
  },
  {
   "cell_type": "markdown",
   "source": [
    "#### (e) Best model\n",
    "\n",
    "Luckily for us the best model with the lowest MSE on test data contains only 14\n",
    "features. \n",
    "\n",
    "#### (f) Best model vs True model \n",
    "\n",
    "We employ the statsmodel since they gives a better tables!\n",
    "The result is promising. All the 0 betas are either near 0 or omit. The coefficients \n",
    "estimates are very close to the true model.  "
   ],
   "metadata": {
    "collapsed": false,
    "pycharm": {
     "name": "#%% md\n",
     "is_executing": false
    }
   }
  },
  {
   "cell_type": "code",
   "execution_count": 110,
   "outputs": [
    {
     "name": "stdout",
     "text": [
      "==============================================================================\n                 coef    std err          t      P>|t|      [0.025      0.975]\n------------------------------------------------------------------------------\nconst          0.4913      0.009     52.203      0.000       0.473       0.510\nX_1            0.4825      0.009     51.660      0.000       0.464       0.501\nX_2            0.2995      0.009     32.077      0.000       0.281       0.318\nX_3            0.3976      0.009     42.919      0.000       0.379       0.416\nX_4            0.0991      0.010     10.220      0.000       0.080       0.118\nX_5            0.7084      0.009     75.398      0.000       0.690       0.727\nX_6            0.7068      0.009     74.618      0.000       0.688       0.725\nX_8            0.0663      0.010      6.812      0.000       0.047       0.085\nX_11           0.6933      0.009     75.263      0.000       0.675       0.711\nX_12           0.2627      0.009     28.268      0.000       0.244       0.281\nX_14           0.9264      0.009    100.284      0.000       0.908       0.945\nX_15           0.9610      0.009    104.534      0.000       0.943       0.979\nX_16           0.7833      0.009     82.627      0.000       0.765       0.802\nX_17           0.9851      0.009    110.590      0.000       0.968       1.003\nX_18           0.0188      0.009      1.988      0.047       0.000       0.037\nX_19           0.7354      0.010     74.721      0.000       0.716       0.755\nX_20           0.3098      0.009     33.136      0.000       0.291       0.328\n==============================================================================\nX_1     0.483820\nX_2     0.305194\nX_3     0.399977\nX_4     0.096137\nX_5     0.708622\nX_6     0.720730\nX_7     0.000000\nX_8     0.057526\nX_9     0.000000\nX_10    0.000000\nX_11    0.688966\nX_12    0.263914\nX_13    0.000000\nX_14    0.937845\nX_15    0.949103\nX_16    0.782957\nX_17    0.984486\nX_18    0.000000\nX_19    0.738118\nX_20    0.310709\ndtype: float64\n"
     ],
     "output_type": "stream"
    },
    {
     "name": "stderr",
     "text": [
      "d:\\pycharmprojects\\islr\\venv\\lib\\site-packages\\numpy\\core\\fromnumeric.py:2495: FutureWarning: Method .ptp is deprecated and will be removed in a future version. Use numpy.ptp instead.\n  return ptp(axis=axis, out=out, **kwargs)\n"
     ],
     "output_type": "stream"
    }
   ],
   "source": [
    "# Sort variables in best model to compare to our true data\n",
    "temp = forward_df.features[15]\n",
    "temp = sorted(temp, key=lambda line: int(line.split('_')[1]))\n",
    "\n",
    "# coefficients\n",
    "regr = sm.OLS(y, sm.add_constant(X[temp])).fit()\n",
    "print(regr.summary().tables[1])\n",
    "\n",
    "# True model\n",
    "print(pd.Series(B, index=X.columns))"
   ],
   "metadata": {
    "collapsed": false,
    "pycharm": {
     "name": "#%%\n",
     "is_executing": false
    }
   }
  },
  {
   "cell_type": "markdown",
   "source": [
    "#### (g) Plotting coefficients root square error\n",
    "\n",
    "It is a bit tricky to understand the formula. Seperate out when r < j and r > j. \n",
    "Remember j goes from 1 to 20 ALWAYS while r goes 1 to 20 ITERATIVELY:\n",
    "1. When r > j, set b_j_r = b_j_r\n",
    "2. when r < j, set b_j_r = 0"
   ],
   "metadata": {
    "collapsed": false,
    "pycharm": {
     "name": "#%% md\n",
     "is_executing": false
    }
   }
  },
  {
   "cell_type": "code",
   "execution_count": 111,
   "outputs": [
    {
     "data": {
      "text/plain": "[<matplotlib.lines.Line2D at 0x26e037d4a88>]"
     },
     "metadata": {},
     "output_type": "execute_result",
     "execution_count": 111
    },
    {
     "data": {
      "text/plain": "<Figure size 432x288 with 1 Axes>",
      "image/png": "[encoded data removed]"
     },
     "metadata": {},
     "output_type": "display_data"
    }
   ],
   "source": [
    "# create B dict for easy calling\n",
    "B_dict = {i:j for i,j in zip(name, B)}\n",
    "\n",
    "# Parameters for plot\n",
    "coef_err = []\n",
    "\n",
    "# Loop through each i in p\n",
    "for i in range(0, 20):\n",
    "    # Sort variables for easy interpretation\n",
    "    temp = forward_df.features[i]\n",
    "    temp = sorted(temp, key=lambda line: int(line.split('_')[1]))\n",
    "    \n",
    "    # Run regression with best model using i features\n",
    "    regr = skl_lm.LinearRegression().fit(X[temp], y)\n",
    "    \n",
    "    # Coefficients name when r < j\n",
    "    coef_left = list(set(name) - set(temp))\n",
    "    \n",
    "    # Coefficients when r < j and  r > j:\n",
    "    b_j_in = [B_dict.get(key) for key in temp]   \n",
    "    b_j_out = [B_dict.get(key) for key in coef_left]\n",
    "    \n",
    "    # Calculate the RS_coef_error\n",
    "    err = np.sqrt(np.sum((b_j_in - regr.coef_)**2) +  # r > j\n",
    "                  np.sum(np.array(b_j_out)**2))  # r < j, set b_r_j = 0\n",
    "    coef_err.append(err)\n",
    "\n",
    "# Get min\n",
    "coef_err_min_index, coef_err_min = min(enumerate(coef_err), key=itemgetter(1))\n",
    "\n",
    "# Plot \n",
    "plt.plot(range(1, 21), coef_err)\n",
    "plt.plot(coef_err_min_index+1, coef_err_min, color='g', marker='x', markersize=20)\n",
    "plt.xticks(np.arange(1, 21, 1))\n",
    "plt.xlabel('r')\n",
    "plt.ylabel('Coef_error')\n",
    "plt.title('Error in coefficients')\n",
    "\n",
    "# add comparison test MSE\n",
    "plt.plot(forward_df.num_features, mse_test, color='r', label='Test')\n",
    "\n"
   ],
   "metadata": {
    "collapsed": false,
    "pycharm": {
     "name": "#%%\n",
     "is_executing": false
    }
   }
  }
 ],
 "metadata": {
  "kernelspec": {
   "display_name": "Python 3",
   "language": "python",
   "name": "python3"
  },
  "language_info": {
   "codemirror_mode": {
    "name": "ipython",
    "version": 2
   },
   "file_extension": ".py",
   "mimetype": "text/x-python",
   "name": "python",
   "nbconvert_exporter": "python",
   "pygments_lexer": "ipython2",
   "version": "2.7.6"
  },
  "pycharm": {
   "stem_cell": {
    "cell_type": "raw",
    "source": [],
    "metadata": {
     "collapsed": false
    }
   }
  }
 },
 "nbformat": 4,
 "nbformat_minor": 0
}
