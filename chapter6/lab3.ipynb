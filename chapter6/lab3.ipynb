{
 "cells": [
  {
   "cell_type": "markdown",
   "metadata": {
    "collapsed": true,
    "pycharm": {
     "name": "#%% md\n"
    }
   },
   "source": [
    "## Lab 3 - PCR and PLS Regression\n",
    "\n",
    "NOTES - Standardize is NOT Normalize\n",
    "\n",
    "#### Import block"
   ]
  },
  {
   "cell_type": "code",
   "execution_count": 1,
   "outputs": [],
   "source": [
    "from operator import itemgetter\n",
    "\n",
    "import matplotlib.pyplot as plt\n",
    "import numpy as np\n",
    "import pandas as pd\n",
    "import sklearn.linear_model as skl_lm\n",
    "from sklearn.cross_decomposition import PLSRegression\n",
    "from sklearn.decomposition import PCA\n",
    "from sklearn.metrics import mean_squared_error\n",
    "from sklearn.model_selection import KFold, cross_val_score, train_test_split\n",
    "from sklearn.preprocessing import scale\n",
    "\n",
    "# %matplotlib inline\n",
    "# plt.style.use('seaborn-white')"
   ],
   "metadata": {
    "collapsed": false,
    "pycharm": {
     "name": "#%%\n",
     "is_executing": false
    }
   }
  },
  {
   "cell_type": "markdown",
   "source": [
    "Load data"
   ],
   "metadata": {
    "collapsed": false,
    "pycharm": {
     "name": "#%% md\n"
    }
   }
  },
  {
   "cell_type": "code",
   "execution_count": 2,
   "outputs": [
    {
     "data": {
      "text/plain": "                   AtBat  Hits  HmRun  Runs  RBI  Walks  Years  CAtBat  CHits  \\\n-Alan Ashby          315    81      7    24   38     39     14    3449    835   \n-Alvin Davis         479   130     18    66   72     76      3    1624    457   \n-Andre Dawson        496   141     20    65   78     37     11    5628   1575   \n-Andres Galarraga    321    87     10    39   42     30      2     396    101   \n-Alfredo Griffin     594   169      4    74   51     35     11    4408   1133   \n\n                   CHmRun  CRuns  CRBI  CWalks  League  Division  PutOuts  \\\n-Alan Ashby            69    321   414     375       1         1      632   \n-Alvin Davis           63    224   266     263       0         1      880   \n-Andre Dawson         225    828   838     354       1         0      200   \n-Andres Galarraga      12     48    46      33       1         0      805   \n-Alfredo Griffin       19    501   336     194       0         1      282   \n\n                   Assists  Errors  Salary  NewLeague  \n-Alan Ashby             43      10   475.0          1  \n-Alvin Davis            82      14   480.0          0  \n-Andre Dawson           11       3   500.0          1  \n-Andres Galarraga       40       4    91.5          1  \n-Alfredo Griffin       421      25   750.0          0  ",
      "text/html": "<div>\n<style scoped>\n    .dataframe tbody tr th:only-of-type {\n        vertical-align: middle;\n    }\n\n    .dataframe tbody tr th {\n        vertical-align: top;\n    }\n\n    .dataframe thead th {\n        text-align: right;\n    }\n</style>\n<table border=\"1\" class=\"dataframe\">\n  <thead>\n    <tr style=\"text-align: right;\">\n      <th></th>\n      <th>AtBat</th>\n      <th>Hits</th>\n      <th>HmRun</th>\n      <th>Runs</th>\n      <th>RBI</th>\n      <th>Walks</th>\n      <th>Years</th>\n      <th>CAtBat</th>\n      <th>CHits</th>\n      <th>CHmRun</th>\n      <th>CRuns</th>\n      <th>CRBI</th>\n      <th>CWalks</th>\n      <th>League</th>\n      <th>Division</th>\n      <th>PutOuts</th>\n      <th>Assists</th>\n      <th>Errors</th>\n      <th>Salary</th>\n      <th>NewLeague</th>\n    </tr>\n  </thead>\n  <tbody>\n    <tr>\n      <td>-Alan Ashby</td>\n      <td>315</td>\n      <td>81</td>\n      <td>7</td>\n      <td>24</td>\n      <td>38</td>\n      <td>39</td>\n      <td>14</td>\n      <td>3449</td>\n      <td>835</td>\n      <td>69</td>\n      <td>321</td>\n      <td>414</td>\n      <td>375</td>\n      <td>1</td>\n      <td>1</td>\n      <td>632</td>\n      <td>43</td>\n      <td>10</td>\n      <td>475.0</td>\n      <td>1</td>\n    </tr>\n    <tr>\n      <td>-Alvin Davis</td>\n      <td>479</td>\n      <td>130</td>\n      <td>18</td>\n      <td>66</td>\n      <td>72</td>\n      <td>76</td>\n      <td>3</td>\n      <td>1624</td>\n      <td>457</td>\n      <td>63</td>\n      <td>224</td>\n      <td>266</td>\n      <td>263</td>\n      <td>0</td>\n      <td>1</td>\n      <td>880</td>\n      <td>82</td>\n      <td>14</td>\n      <td>480.0</td>\n      <td>0</td>\n    </tr>\n    <tr>\n      <td>-Andre Dawson</td>\n      <td>496</td>\n      <td>141</td>\n      <td>20</td>\n      <td>65</td>\n      <td>78</td>\n      <td>37</td>\n      <td>11</td>\n      <td>5628</td>\n      <td>1575</td>\n      <td>225</td>\n      <td>828</td>\n      <td>838</td>\n      <td>354</td>\n      <td>1</td>\n      <td>0</td>\n      <td>200</td>\n      <td>11</td>\n      <td>3</td>\n      <td>500.0</td>\n      <td>1</td>\n    </tr>\n    <tr>\n      <td>-Andres Galarraga</td>\n      <td>321</td>\n      <td>87</td>\n      <td>10</td>\n      <td>39</td>\n      <td>42</td>\n      <td>30</td>\n      <td>2</td>\n      <td>396</td>\n      <td>101</td>\n      <td>12</td>\n      <td>48</td>\n      <td>46</td>\n      <td>33</td>\n      <td>1</td>\n      <td>0</td>\n      <td>805</td>\n      <td>40</td>\n      <td>4</td>\n      <td>91.5</td>\n      <td>1</td>\n    </tr>\n    <tr>\n      <td>-Alfredo Griffin</td>\n      <td>594</td>\n      <td>169</td>\n      <td>4</td>\n      <td>74</td>\n      <td>51</td>\n      <td>35</td>\n      <td>11</td>\n      <td>4408</td>\n      <td>1133</td>\n      <td>19</td>\n      <td>501</td>\n      <td>336</td>\n      <td>194</td>\n      <td>0</td>\n      <td>1</td>\n      <td>282</td>\n      <td>421</td>\n      <td>25</td>\n      <td>750.0</td>\n      <td>0</td>\n    </tr>\n  </tbody>\n</table>\n</div>"
     },
     "metadata": {},
     "output_type": "execute_result",
     "execution_count": 2
    }
   ],
   "source": [
    "data_path = 'D:\\\\PycharmProjects\\\\ISLR\\\\data\\\\'\n",
    "hitter = pd.read_csv(f'{data_path}Hitters.csv', index_col=0, na_values='NA').dropna()\n",
    "\n",
    "# Transform categorical variables into dummy\n",
    "for i in ['League', 'Division', 'NewLeague']:\n",
    "    hitter[i] = hitter[i].astype('category').cat.codes\n",
    "\n",
    "hitter.head()"
   ],
   "metadata": {
    "collapsed": false,
    "pycharm": {
     "name": "#%%\n",
     "is_executing": false
    }
   }
  },
  {
   "cell_type": "markdown",
   "source": [
    "### 6.7.1 - Principle Components Regression\n",
    "\n",
    "Using pca from sklearn module"
   ],
   "metadata": {
    "collapsed": false,
    "pycharm": {
     "name": "#%% md\n"
    }
   }
  },
  {
   "cell_type": "code",
   "execution_count": 4,
   "outputs": [
    {
     "name": "stdout",
     "text": [
      "1     38.31\n2     60.15\n3     70.84\n4     79.03\n5     84.29\n6     88.63\n7     92.26\n8     94.96\n9     96.28\n10    97.25\n11    97.97\n12    98.64\n13    99.14\n14    99.46\n15    99.73\n16    99.88\n17    99.95\n18    99.98\n19    99.99\ndtype: float64\n"
     ],
     "output_type": "stream"
    }
   ],
   "source": [
    "# Split data\n",
    "y = hitter.Salary\n",
    "X = hitter.drop('Salary', axis=1)\n",
    "\n",
    "# Finding Principal Components\n",
    "pca = PCA()\n",
    "X_reduced = pca.fit_transform(scale(X))\n",
    "print(pd.Series(np.cumsum(np.round(pca.explained_variance_ratio_*100,decimals=2))\n",
    "                , index=range(1,20)))"
   ],
   "metadata": {
    "collapsed": false,
    "pycharm": {
     "name": "#%%\n",
     "is_executing": false
    }
   }
  },
  {
   "cell_type": "markdown",
   "source": [
    "Without passing any argument about which components to keep, we can see that the first 8 \n",
    "principal components explain for 98% of the variance. \n",
    "\n",
    "Next, we will plot the MSE results from fitting OLS with 10-fold CV. "
   ],
   "metadata": {
    "collapsed": false,
    "pycharm": {
     "name": "#%% md\n"
    }
   }
  },
  {
   "cell_type": "code",
   "execution_count": 5,
   "outputs": [
    {
     "data": {
      "text/plain": "Text(0.5, 1.0, 'PCA on full dataset with 10 fold')"
     },
     "metadata": {},
     "output_type": "execute_result",
     "execution_count": 5
    },
    {
     "data": {
      "text/plain": "<Figure size 432x288 with 1 Axes>",
      "image/png": "[encoded data removed]"
     },
     "metadata": {
      "needs_background": "light"
     },
     "output_type": "display_data"
    }
   ],
   "source": [
    "# Setting up all parameters # 19 principal components\n",
    "k_fold = KFold(n_splits=10, shuffle=True, random_state=1)\n",
    "mse = [180000]  # For a better graph\n",
    "regr = skl_lm.LinearRegression()\n",
    "\n",
    "# Loop through all components number and K-fold\n",
    "for i in range(1, 20):\n",
    "    mse.append(cross_val_score(regr, X_reduced[:,:i], y.ravel(), cv=k_fold, \n",
    "                                   scoring='neg_mean_squared_error').mean()*-1)\n",
    "\n",
    "\n",
    "# Getting minimum MSE\n",
    "min_mse_index, min_mse = min(enumerate(mse), key=itemgetter(1))\n",
    "\n",
    "# Plot MSE\n",
    "plt.plot(mse, color='b')\n",
    "plt.plot(min_mse_index, min_mse, color='g', marker='x', markersize=20)\n",
    "plt.xticks(np.arange(0,20))\n",
    "plt.xlabel('Number of Principal Components')\n",
    "plt.ylabel('MSE')\n",
    "plt.title('PCA on full dataset with 10 fold')"
   ],
   "metadata": {
    "collapsed": false,
    "pycharm": {
     "name": "#%%\n",
     "is_executing": false
    }
   }
  },
  {
   "cell_type": "markdown",
   "source": [
    "The plot gives us some useful information.\n",
    "1. The minimum MSE occurs at 18 principle components which is not much better than 19 - \n",
    "performing OLS\n",
    "2. However, at 5 principle components, we come very close to the minimum MSE so this\n",
    "may be much more practical number of components to use.\n",
    "3. Changing random_state variable in the code above will provide different results \n",
    "each time. But it always end with 5/6 near min MSE and 15/16/17 for min MSE.\n",
    "\n",
    "Now, we perform the same analysis using train set and test set."
   ],
   "metadata": {
    "collapsed": false,
    "pycharm": {
     "name": "#%% md\n"
    }
   }
  },
  {
   "cell_type": "code",
   "execution_count": 6,
   "outputs": [
    {
     "data": {
      "text/plain": "Text(0, 0.5, 'MSE')"
     },
     "metadata": {},
     "output_type": "execute_result",
     "execution_count": 6
    },
    {
     "data": {
      "text/plain": "<Figure size 432x288 with 1 Axes>",
      "image/png": "[encoded data removed]"
     },
     "metadata": {
      "needs_background": "light"
     },
     "output_type": "display_data"
    }
   ],
   "source": [
    "pca2 = PCA()\n",
    "# splitting data\n",
    "t_prop = 0.5\n",
    "X_train, X_test, y_train, y_test = train_test_split(X, y, test_size=t_prop, \n",
    "                                                    random_state=1)\n",
    "X_reduced_train = pca2.fit_transform(scale(X_train))\n",
    "\n",
    "# Setting up all parameters # 19 principal components\n",
    "k_fold = KFold(n_splits=10, shuffle=True, random_state=1)\n",
    "mse = [180000]\n",
    "regr = skl_lm.LinearRegression()\n",
    "\n",
    "# Loop through all components number and K-fold\n",
    "for i in range(1, 20):\n",
    "    mse.append(cross_val_score(regr, X_reduced_train[:,:i], y_train.ravel(), cv=k_fold, \n",
    "                                   scoring='neg_mean_squared_error').mean()*-1)\n",
    "\n",
    "\n",
    "# Getting minimum MSE\n",
    "min_mse_index, min_mse = min(enumerate(mse), key=itemgetter(1))\n",
    "\n",
    "# Plot MSE\n",
    "plt.plot(mse, color='b')\n",
    "plt.plot(min_mse_index, min_mse, color='g', marker='x', markersize=20)\n",
    "plt.xticks(np.arange(0,20))\n",
    "plt.xlabel('Number of Principal Components')\n",
    "plt.ylabel('MSE')"
   ],
   "metadata": {
    "collapsed": false,
    "pycharm": {
     "name": "#%%\n",
     "is_executing": false
    }
   }
  },
  {
   "cell_type": "markdown",
   "source": [
    "Again, different random_state in both train_test_split and Kfold will produce wildly\n",
    "different results. Nevertheless, setting them all to 1 to get a reproducible version\n",
    "\n",
    "The plot shows that using 6 PC seems to be the best here. Next, we can calculate test\n",
    "MSE using full data set and 6 PC"
   ],
   "metadata": {
    "collapsed": false,
    "pycharm": {
     "name": "#%% md\n"
    }
   }
  },
  {
   "cell_type": "code",
   "execution_count": 8,
   "outputs": [
    {
     "name": "stdout",
     "text": [
      "Test MSE with 6 PC: 111994.42273636987\n"
     ],
     "output_type": "stream"
    }
   ],
   "source": [
    "X_reduced_test = pca2.transform(scale(X_test))\n",
    "# Get test error\n",
    "pred = regr.fit(X_reduced_train[:,:7], y_train).predict(X_reduced_test[:,:7])\n",
    "print(f'Test MSE with 6 PC: {mean_squared_error(y_test, pred)}')"
   ],
   "metadata": {
    "collapsed": false,
    "pycharm": {
     "name": "#%%\n",
     "is_executing": false
    }
   }
  },
  {
   "cell_type": "markdown",
   "source": [
    "The MSE we got is not too bad. Again, keep in mind that how we split the data will \n",
    "strongly influence the result we get.  \n",
    "As the final step, we would like to run PCR with 7 components on full dataset.\n",
    "the 7 components explained 93.38% of the variance."
   ],
   "metadata": {
    "collapsed": false,
    "pycharm": {
     "name": "#%% md\n",
     "is_executing": false
    }
   }
  },
  {
   "cell_type": "code",
   "execution_count": 10,
   "outputs": [
    {
     "name": "stdout",
     "text": [
      "1    38.31\n2    60.15\n3    70.84\n4    79.03\n5    84.29\n6    88.63\n7    92.26\ndtype: float64\n"
     ],
     "output_type": "stream"
    }
   ],
   "source": [
    "print(pd.Series(np.cumsum(np.round(pca.explained_variance_ratio_*100,decimals=2))\n",
    "                , index=range(1,20))[:7])"
   ],
   "metadata": {
    "collapsed": false,
    "pycharm": {
     "name": "#%%\n",
     "is_executing": false
    }
   }
  },
  {
   "cell_type": "markdown",
   "source": [
    "### 6.7.2 - Partial Least Square\n",
    "\n",
    "PLS is a method of dimension reduction. Like PCR, PLS finds the best components that\n",
    "can explains the most variance int the predictors. However, unlike PCR, PLS also \n",
    "searches for direction that explain variance in both predictors and the response.\n",
    "\n",
    "We will first implement PLS using the training dataset."
   ],
   "metadata": {
    "collapsed": false,
    "pycharm": {
     "name": "#%% md\n"
    }
   }
  },
  {
   "cell_type": "code",
   "execution_count": 22,
   "outputs": [
    {
     "data": {
      "text/plain": "Text(0, 0.5, 'MSE')"
     },
     "metadata": {},
     "output_type": "execute_result",
     "execution_count": 22
    },
    {
     "data": {
      "text/plain": "<Figure size 432x288 with 1 Axes>",
      "image/png": "[encoded data removed]"
     },
     "metadata": {
      "needs_background": "light"
     },
     "output_type": "display_data"
    }
   ],
   "source": [
    "# Running PLS with 10 fold\n",
    "k_fold = KFold(n_splits=10, random_state=4, shuffle=True)\n",
    "mse = [180000]\n",
    "for i in range(1, 20):\n",
    "    pls = PLSRegression(n_components=i)\n",
    "    score = cross_val_score(pls, scale(X_train), y_train, cv=k_fold,\n",
    "                               scoring='neg_mean_squared_error').mean()\n",
    "    mse.append(-score)\n",
    "\n",
    "# Find min mse\n",
    "min_mse_index, min_mse = min(enumerate(mse), key=itemgetter(1))\n",
    "\n",
    "# plot MSE  vs directions/components\n",
    "plt.plot(mse, color='r', label='MSE')\n",
    "plt.plot(min_mse_index, min_mse, color='g', marker='x', markersize=20)\n",
    "plt.xticks(np.arange(0,20))\n",
    "plt.xlabel('Number of Components')\n",
    "plt.ylabel('MSE')    \n",
    "    "
   ],
   "metadata": {
    "collapsed": false,
    "pycharm": {
     "name": "#%%\n",
     "is_executing": false
    }
   }
  },
  {
   "cell_type": "markdown",
   "source": [
    "Again, we have to play around with random state in K fold to get the desired results \n",
    "as in the book. However, most of the time, we will get either 1/2/3 directions or 11/12/13\n",
    "directions with barely lower MSE than 1/2/3.\n",
    "\n",
    "Finally, fitting PLS on full dataset to get the final MSE of our model with M=2"
   ],
   "metadata": {
    "collapsed": false,
    "pycharm": {
     "name": "#%% md\n",
     "is_executing": false
    }
   }
  },
  {
   "cell_type": "code",
   "execution_count": 30,
   "outputs": [
    {
     "name": "stdout",
     "text": [
      "[ 0.46563696  0.04852469 -0.17132481  0.46135197  0.76587847 -0.02321038\n  0.12097518  0.47686936  0.56685367  0.65286968]\n"
     ],
     "output_type": "stream"
    }
   ],
   "source": [
    "k_fold = KFold(n_splits=10, random_state=4, shuffle=True)\n",
    "pls = PLSRegression(n_components=2)\n",
    "score = cross_val_score(pls, scale(X), y, cv=k_fold, scoring='r2')\n",
    "print(score)"
   ],
   "metadata": {
    "collapsed": false,
    "pycharm": {
     "name": "#%%\n",
     "is_executing": false
    }
   }
  },
  {
   "cell_type": "markdown",
   "source": [
    "The first return number is our variance explained by 2 directions which is 46.56%."
   ],
   "metadata": {
    "collapsed": false,
    "pycharm": {
     "name": "#%% md\n"
    }
   }
  }
 ],
 "metadata": {
  "kernelspec": {
   "display_name": "Python 3",
   "language": "python",
   "name": "python3"
  },
  "language_info": {
   "codemirror_mode": {
    "name": "ipython",
    "version": 2
   },
   "file_extension": ".py",
   "mimetype": "text/x-python",
   "name": "python",
   "nbconvert_exporter": "python",
   "pygments_lexer": "ipython2",
   "version": "2.7.6"
  },
  "pycharm": {
   "stem_cell": {
    "cell_type": "raw",
    "source": [],
    "metadata": {
     "collapsed": false
    }
   }
  }
 },
 "nbformat": 4,
 "nbformat_minor": 0
}
