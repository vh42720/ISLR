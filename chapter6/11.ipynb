{
 "cells": [
  {
   "cell_type": "markdown",
   "metadata": {
    "collapsed": true,
    "pycharm": {
     "name": "#%% md\n"
    }
   },
   "source": [
    "## Applied - Question 9\n",
    "\n",
    "The question involve Boston dataset - a data frame with 506 observations and 14 variables.\n",
    "The data was originally published by Harrison, \n",
    "D. and Rubinfeld, D.L. `Hedonic prices and the demand for clean air', \n",
    "J. Environ. Economics & Management, vol.5, 81-102, 1978.\n",
    "\n",
    "There are 14 attributes in each case of the dataset. They are:\n",
    "\n",
    "  1. CRIM - per capita crime rate by town  \n",
    "  2. ZN - proportion of residential land zoned for lots over 25,000 sq.ft.\n",
    "  3. INDUS - proportion of non-retail business acres per town.\n",
    "  4. CHAS - Charles River dummy variable (1 if tract bounds river; 0 otherwise)\n",
    "  5. NOX - nitric oxides concentration (parts per 10 million)\n",
    "  6. RM - average number of rooms per dwelling\n",
    "  7. AGE - proportion of owner-occupied units built prior to 1940\n",
    "  8. DIS - weighted distances to five Boston employment centres\n",
    "  9. RAD - index of accessibility to radial highways\n",
    "  10. TAX - full-value property-tax rate per $10,000\n",
    "  11. PTRATIO - pupil-teacher ratio by town\n",
    "  12. B - 1000(Bk - 0.63)^2 where Bk is the proportion of blacks by town\n",
    "  13. LSTAT - % lower status of the population\n",
    "  14. MEDV - Median value of owner-occupied homes in $1000's\n",
    "\n",
    "We will try to predict per capita crime rate using various methods.\n",
    "\n",
    "#### Import block"
   ]
  },
  {
   "cell_type": "code",
   "execution_count": 23,
   "outputs": [],
   "source": [
    "from operator import itemgetter\n",
    "import numpy as np\n",
    "import pandas as pd\n",
    "import scipy as sp\n",
    "from itertools import combinations\n",
    "\n",
    "import sklearn.linear_model as skl_lm\n",
    "from sklearn.metrics import mean_squared_error\n",
    "from sklearn.cross_decomposition import PLSRegression\n",
    "from sklearn.model_selection import LeaveOneOut, KFold, cross_val_score, train_test_split\n",
    "from sklearn.preprocessing import scale\n",
    "from sklearn.decomposition import PCA\n",
    "\n",
    "import statsmodels.formula.api as smf\n",
    "import statsmodels.api as sm\n",
    "\n",
    "from forward_select import forward_select\n",
    "\n",
    "import matplotlib.pyplot as plt\n",
    "import seaborn as sns\n",
    "\n",
    "%matplotlib inline\n",
    "plt.style.use('seaborn-white')"
   ],
   "metadata": {
    "collapsed": false,
    "pycharm": {
     "name": "#%%\n",
     "is_executing": false
    }
   }
  },
  {
   "cell_type": "markdown",
   "source": [
    "Getting dataset"
   ],
   "metadata": {
    "collapsed": false
   }
  },
  {
   "cell_type": "code",
   "execution_count": 24,
   "outputs": [],
   "source": [
    "data_path = 'D:\\\\PycharmProjects\\\\ISLR\\\\data\\\\'\n",
    "df = pd.read_csv(f'{data_path}Boston.csv')\n",
    "\n",
    "# Summary on crim rate\n",
    "df.crim.describe()\n",
    "\n",
    "# Get X and y\n",
    "y = df.crim\n",
    "X = df.drop('crim', axis=1)\n",
    "\n",
    "# Set validation approach\n",
    "kf = KFold(n_splits=10, shuffle=True, random_state=1)"
   ],
   "metadata": {
    "collapsed": false,
    "pycharm": {
     "name": "#%%\n",
     "is_executing": false
    }
   }
  },
  {
   "cell_type": "markdown",
   "source": [
    "Some notes before we started:\n",
    "1. I will use RMSE to compare model\n",
    "2. 10-fold will be the cross validation method\n",
    "3. Forward select instead of best select. IMPORTANT: All select methods are BAD!\n",
    "With all that out of the way, lets start with forward select\n",
    "\n",
    "#### Forward Selection\n",
    "\n",
    "The problem seems simple enough under validation set but not quite in k-fold (for me!)\n",
    "The steps are as follow:\n",
    "1. Split data into 10 fold\n",
    "2. For each fold, run forward select to spit out 13 best model using 1 to 13 features.\n",
    "3. For each model above, compute RMSE of each.\n",
    "4. Each fold should have 13 model -> 13 RMSE\n",
    "5. Record all 10 fold for 10x13 list. Calculate the mean of RMSE\n",
    "6. Plot it out!\n",
    "\n",
    "One important thing I learned which takes me HOURS in this small code: cross-validation\n",
    "before feature selection or else you will introduce bias into the model.\n",
    "\n",
    "Read [this](https://stats.stackexchange.com/questions/27750/feature-selection-and-cross-validation) \n",
    "here if you want to understand more!"
   ],
   "metadata": {
    "collapsed": false,
    "pycharm": {
     "name": "#%% md\n"
    }
   }
  },
  {
   "cell_type": "code",
   "execution_count": 25,
   "outputs": [
    {
     "data": {
      "text/plain": "Text(0.5, 1.0, 'mean_RMSE_CV vs features')"
     },
     "metadata": {},
     "output_type": "execute_result",
     "execution_count": 25
    },
    {
     "data": {
      "text/plain": "<Figure size 720x576 with 1 Axes>",
      "image/png": "[encoded data removed]"
     },
     "metadata": {},
     "output_type": "display_data"
    }
   ],
   "source": [
    "# Set a list to record all RMSE spit out by the loop\n",
    "RMSE = []\n",
    "\n",
    "# Loop over each fold in k fold\n",
    "for train_index, test_index in kf.split(X):\n",
    "    forward_df = forward_select(y[train_index], X.iloc[train_index], k=X.shape[1])\n",
    "    RMSE_temp = []\n",
    "    \n",
    "    # Loop over each feature in the forward select \n",
    "    for feature in forward_df.features:\n",
    "        # Run regression only on the selected features AND fold\n",
    "        regr = skl_lm.LinearRegression().fit(X.iloc[train_index][feature], y[train_index])\n",
    "        \n",
    "        # Calculate RMSE and add to the list\n",
    "        y_pred = regr.predict(X.iloc[test_index][feature])\n",
    "        RMSE_temp.append(np.sqrt(mean_squared_error(y[test_index], y_pred)))\n",
    "    \n",
    "    # Add RMSE of each fold to the master list\n",
    "    RMSE.append(RMSE_temp)\n",
    "\n",
    "# Calculate mean RMSE of each num_features\n",
    "rmse_cv = np.mean(RMSE, axis=0)\n",
    "\n",
    "# Get min value\n",
    "min_RMSE_index, min_RMSE = min(enumerate(rmse_cv), key=itemgetter(1))\n",
    "\n",
    "# Plot it out\n",
    "plt.figure(figsize=(10, 8))\n",
    "plt.plot(range(1, 14), rmse_cv)\n",
    "plt.plot(min_RMSE_index+1, min_RMSE, color='g', marker='x', markersize=20)\n",
    "plt.xticks(np.arange(0,15,1))\n",
    "plt.xlabel('features')\n",
    "plt.ylabel('mean_RMSE_CV')\n",
    "plt.title('mean_RMSE_CV vs features')"
   ],
   "metadata": {
    "collapsed": false,
    "pycharm": {
     "name": "#%%\n",
     "is_executing": false
    }
   }
  },
  {
   "cell_type": "markdown",
   "source": [
    "Cross-validation gives us the best model includes 9 features. We will use FULL dataset\n",
    "to find which coefficients will be selected."
   ],
   "metadata": {
    "collapsed": false,
    "pycharm": {
     "name": "#%% md\n",
     "is_executing": false
    }
   }
  },
  {
   "cell_type": "code",
   "execution_count": 26,
   "outputs": [
    {
     "name": "stderr",
     "text": [
      "d:\\pycharmprojects\\islr\\venv\\lib\\site-packages\\numpy\\core\\fromnumeric.py:2495: FutureWarning: Method .ptp is deprecated and will be removed in a future version. Use numpy.ptp instead.\n  return ptp(axis=axis, out=out, **kwargs)\n"
     ],
     "output_type": "stream"
    },
    {
     "data": {
      "text/plain": "<class 'statsmodels.iolib.table.SimpleTable'>",
      "text/html": "<table class=\"simpletable\">\n<tr>\n     <td></td>        <th>coef</th>     <th>std err</th>      <th>t</th>      <th>P>|t|</th>  <th>[0.025</th>    <th>0.975]</th>  \n</tr>\n<tr>\n  <th>const</th>   <td>   19.1246</td> <td>    6.095</td> <td>    3.138</td> <td> 0.002</td> <td>    7.149</td> <td>   31.101</td>\n</tr>\n<tr>\n  <th>rad</th>     <td>    0.5395</td> <td>    0.050</td> <td>   10.800</td> <td> 0.000</td> <td>    0.441</td> <td>    0.638</td>\n</tr>\n<tr>\n  <th>lstat</th>   <td>    0.1178</td> <td>    0.069</td> <td>    1.698</td> <td> 0.090</td> <td>   -0.019</td> <td>    0.254</td>\n</tr>\n<tr>\n  <th>black</th>   <td>   -0.0080</td> <td>    0.004</td> <td>   -2.215</td> <td> 0.027</td> <td>   -0.015</td> <td>   -0.001</td>\n</tr>\n<tr>\n  <th>medv</th>    <td>   -0.1806</td> <td>    0.054</td> <td>   -3.335</td> <td> 0.001</td> <td>   -0.287</td> <td>   -0.074</td>\n</tr>\n<tr>\n  <th>zn</th>      <td>    0.0428</td> <td>    0.018</td> <td>    2.381</td> <td> 0.018</td> <td>    0.007</td> <td>    0.078</td>\n</tr>\n<tr>\n  <th>dis</th>     <td>   -1.0026</td> <td>    0.269</td> <td>   -3.725</td> <td> 0.000</td> <td>   -1.531</td> <td>   -0.474</td>\n</tr>\n<tr>\n  <th>nox</th>     <td>  -10.4665</td> <td>    5.054</td> <td>   -2.071</td> <td> 0.039</td> <td>  -20.396</td> <td>   -0.537</td>\n</tr>\n<tr>\n  <th>ptratio</th> <td>   -0.2708</td> <td>    0.185</td> <td>   -1.463</td> <td> 0.144</td> <td>   -0.635</td> <td>    0.093</td>\n</tr>\n<tr>\n  <th>indus</th>   <td>   -0.0994</td> <td>    0.074</td> <td>   -1.339</td> <td> 0.181</td> <td>   -0.245</td> <td>    0.046</td>\n</tr>\n</table>"
     },
     "metadata": {},
     "output_type": "execute_result",
     "execution_count": 26
    }
   ],
   "source": [
    "# Set up RMSE dictionary for comparison\n",
    "RMSE_dict = {}\n",
    "\n",
    "# Get the best features\n",
    "forward_df = forward_select(y, X, k=X.shape[1])\n",
    "features = forward_df.features[8]\n",
    "\n",
    "# Run regression with the 9 features\n",
    "regr = sm.OLS(y, sm.add_constant(X[features])).fit()\n",
    "RMSE_dict['forward_select'] = np.sqrt(regr.mse_resid)\n",
    "regr.summary().tables[1]"
   ],
   "metadata": {
    "collapsed": false,
    "pycharm": {
     "name": "#%%\n",
     "is_executing": false
    }
   }
  },
  {
   "cell_type": "markdown",
   "source": [
    "#### Ridge Regression\n",
    "\n",
    "Again I have some notes:\n",
    "1. There is no training set and test set here. We use 10 folds.\n",
    "2. I am quite confused by how does ridge cv vs CV on Ridge differ\n",
    "3. No graphs are drawn below as no error is save if using kfold\n",
    "\n",
    "I will try to approach this problem in 3 different ways (mainly because I am quite \n",
    "confused!). I want to use 10-fold validation techniques to find the best alphas and\n",
    "the best model with that alpha. Thus 3 approaches are as followed:\n",
    "1. Naive way: Run Ridge CV on the full dataset and plot out best alpha. Get model!\n",
    "2. I will run Ridge CV for each split in K fold and find the RMSE, best alpha for each.\n",
    "However, how to choose alpha? \n",
    "3. Using cross_val_score to run kfold on ridgecv with kfold - nested kfold to get \n",
    "the best RMSE. No idea how to get alpha!\n",
    "\n",
    "#### Naive\n",
    "\n",
    "With validation set, RidgeCV barely beat out the forward select here. The coefficients\n",
    "are mostly the same here for both."
   ],
   "metadata": {
    "collapsed": false,
    "pycharm": {
     "name": "#%% md\n",
     "is_executing": false
    }
   }
  },
  {
   "cell_type": "code",
   "source": [
    "# Set alphas range\n",
    "alphas = np.arange(0.1, 1, 0.01)\n",
    "\n",
    "# Split dataset\n",
    "X_train, X_test, y_train, y_test = train_test_split(X, y, test_size=0.4, random_state=1)\n",
    "\n",
    "# Running Ridge cv\n",
    "ridge_cv = skl_lm.RidgeCV(alphas=alphas, fit_intercept=True,\n",
    "                          scoring=None, cv=None, store_cv_values=True)\n",
    "ridge_cv.fit(X_train, y_train)\n",
    "\n",
    "# Get RMSE\n",
    "rmse_cv = np.sqrt(np.mean(ridge_cv.cv_values_, axis=0))\n",
    "\n",
    "# Find the min MSE and alpha\n",
    "min_RMSE_index, min_RMSE = min(enumerate(rmse_cv), key=itemgetter(1))\n",
    "\n",
    "# Plot out the MSE for best alpha\n",
    "plt.plot(ridge_cv.alphas, rmse_cv)\n",
    "plt.plot(alphas[min_RMSE_index+1], min_RMSE, color='g', marker='x', markersize=20)\n",
    "plt.xlabel('Alphas')\n",
    "plt.ylabel('RMSE')\n",
    "plt.title('MSE as a function of alphas')\n",
    "\n",
    "# Plug the best alpha in Ridge Regression\n",
    "ridge = skl_lm.Ridge(alpha=ridge_cv.alpha_, fit_intercept=True, random_state=1)\n",
    "ridge.fit(X_train, y_train)\n",
    "mse = mean_squared_error(y_test, ridge.predict(X_test))\n",
    "print('Validation set give RMSE of:', np.sqrt(mse))\n",
    "\n",
    "# Fit ridge with full dataset\n",
    "ridge.fit(X, y)\n",
    "\n",
    "# Return the model with coefficients\n",
    "print(pd.Series(ridge.coef_, index=X.columns))\n",
    "print('Intercept: ', ridge.intercept_)"
   ],
   "metadata": {
    "collapsed": false,
    "pycharm": {
     "name": "#%%\n",
     "is_executing": false
    }
   },
   "execution_count": 39,
   "outputs": [
    {
     "name": "stdout",
     "text": [
      "Validation set give RMSE of: 6.616890660504823\nzn         0.044919\nindus     -0.070331\nchas      -0.764443\nnox       -8.779610\nrm         0.430875\nage        0.000103\ndis       -0.960708\nrad        0.584057\ntax       -0.003844\nptratio   -0.251098\nblack     -0.007505\nlstat      0.126908\nmedv      -0.195425\ndtype: float64\nIntercept:  15.840455829313123\n"
     ],
     "output_type": "stream"
    },
    {
     "data": {
      "text/plain": "<Figure size 432x288 with 1 Axes>",
      "image/png": "[encoded data removed]"
     },
     "metadata": {},
     "output_type": "display_data"
    }
   ]
  },
  {
   "cell_type": "markdown",
   "source": [
    "#### 10 fold approach \n",
    "\n",
    "Here we get 10 different alphas with 10 different RMSE. The mean of our RMSE is 5.87\n",
    "which is a bit lower than the approach given above."
   ],
   "metadata": {
    "collapsed": false,
    "pycharm": {
     "name": "#%% md\n",
     "is_executing": false
    }
   }
  },
  {
   "cell_type": "code",
   "execution_count": 34,
   "outputs": [
    {
     "name": "stdout",
     "text": [
      "MEAN of RMSE across 10 fold: 5.876812810655389\n"
     ],
     "output_type": "stream"
    },
    {
     "data": {
      "text/plain": "<Figure size 432x288 with 1 Axes>",
      "image/png": "[encoded data removed]"
     },
     "metadata": {},
     "output_type": "display_data"
    }
   ],
   "source": [
    "# Set up ridge\n",
    "ridge_cv = skl_lm.RidgeCV(alphas=alphas, fit_intercept=True, cv=None)\n",
    "\n",
    "# Set a range of alpha\n",
    "best_alpha = []\n",
    "RMSE = []\n",
    "\n",
    "# 10 fold Ridge\n",
    "for train_index, test_index in kf.split(X):\n",
    "    # Fit ridge CV on train set to get optimal alpha\n",
    "    ridge_cv.fit(X.iloc[train_index], y.iloc[train_index])\n",
    "    \n",
    "    # Save optimal alpha and its mse\n",
    "    best_alpha.append(ridge_cv.alpha_)\n",
    "    \n",
    "    # Running Ridge with best alpha\n",
    "    ridge = skl_lm.Ridge(alpha=ridge_cv.alpha_, fit_intercept=True,\n",
    "                         max_iter=10000, random_state=1)\n",
    "    ridge.fit(X.iloc[train_index], y.iloc[train_index])\n",
    "    \n",
    "    # Calculate the resulting RMSE\n",
    "    y_pred = ridge.predict(X.iloc[test_index])\n",
    "    RMSE.append(np.sqrt(mean_squared_error(y.iloc[test_index], y_pred)))\n",
    "    \n",
    "plt.scatter(best_alpha, RMSE)\n",
    "print('MEAN of RMSE across 10 fold:', np.mean(RMSE))"
   ],
   "metadata": {
    "collapsed": false,
    "pycharm": {
     "name": "#%%\n",
     "is_executing": false
    }
   }
  },
  {
   "cell_type": "markdown",
   "source": [
    "Lastly, we do 10 fold with cross_val_score\n",
    "\n",
    "#### Nested LOOCV inside 10 fold"
   ],
   "metadata": {
    "collapsed": false,
    "pycharm": {
     "name": "#%% md\n"
    }
   }
  },
  {
   "cell_type": "code",
   "execution_count": 37,
   "outputs": [
    {
     "data": {
      "text/plain": "{'forward_select': 6.422392710151549,\n 'Lasso': 6.591966036596754,\n 'Ridge': 6.598973647546219}"
     },
     "metadata": {},
     "output_type": "execute_result",
     "execution_count": 37
    }
   ],
   "source": [
    "ridge_cv = skl_lm.RidgeCV(alphas=alphas, fit_intercept=True, cv=None)\n",
    "score = cross_val_score(ridge_cv, X, y, cv=kf, scoring='neg_mean_squared_error').mean()\n",
    "RMSE_dict['Ridge'] = np.sqrt(-1*score)\n",
    "\n",
    "RMSE_dict"
   ],
   "metadata": {
    "collapsed": false,
    "pycharm": {
     "name": "#%%\n",
     "is_executing": false
    }
   }
  },
  {
   "cell_type": "markdown",
   "source": [
    "#### The lasso \n",
    "\n",
    "I will approach the lasso in 2 ways: validation set and cross_val_score approach\n",
    "\n",
    "#### Validation set"
   ],
   "metadata": {
    "collapsed": false,
    "pycharm": {
     "name": "#%% md\n"
    }
   }
  },
  {
   "cell_type": "code",
   "execution_count": 55,
   "outputs": [
    {
     "name": "stdout",
     "text": [
      "Validation set give RMSE of: 6.520423776831411\nzn         0.041871\nindus     -0.089971\nchas      -0.000000\nnox       -0.000000\nrm         0.000000\nage       -0.000000\ndis       -0.602591\nrad        0.538214\ntax       -0.003092\nptratio   -0.054418\nblack     -0.008353\nlstat      0.117259\nmedv      -0.140477\ndtype: float64\nIntercept:  8.214437686976774\n"
     ],
     "output_type": "stream"
    },
    {
     "data": {
      "text/plain": "<Figure size 432x288 with 1 Axes>",
      "image/png": "[encoded data removed]"
     },
     "metadata": {},
     "output_type": "display_data"
    }
   ],
   "source": [
    "# Set alphas range\n",
    "alphas = np.arange(0.1, 1, 0.01)\n",
    "\n",
    "# Running LassoCV\n",
    "lasso_cv = skl_lm.LassoCV(alphas=alphas, max_iter=100000, fit_intercept=True,\n",
    "                          random_state=1, cv=10)\n",
    "lasso_cv.fit(X_train, y_train)\n",
    "\n",
    "# Get RMSE\n",
    "rmse_cv = np.sqrt(np.mean(lasso_cv.mse_path_, axis=1))\n",
    "\n",
    "# Find the min MSE and alpha\n",
    "min_RMSE_index, min_RMSE = min(enumerate(rmse_cv), key=itemgetter(1))\n",
    "\n",
    "# Plot out the MSE for best alpha\n",
    "plt.plot(lasso_cv.alphas, rmse_cv)\n",
    "plt.plot(alphas[min_RMSE_index+1], min_RMSE, color='g', marker='x', markersize=20)\n",
    "plt.xlabel('Alphas')\n",
    "plt.ylabel('RMSE')\n",
    "plt.title('MSE as a function of alphas')\n",
    "\n",
    "# Plug the best alpha in Lasso Regression\n",
    "lasso = skl_lm.Lasso(alpha=lasso_cv.alpha_, fit_intercept=True, random_state=1, max_iter=100000)\n",
    "lasso.fit(X_train, y_train)\n",
    "mse = mean_squared_error(y_test, lasso.predict(X_test))\n",
    "print('Validation set give RMSE of:', np.sqrt(mse))\n",
    "\n",
    "# Fit ridge with full dataset\n",
    "lasso.fit(X, y)\n",
    "\n",
    "# Return the model with coefficients\n",
    "print(pd.Series(lasso.coef_, index=X.columns))\n",
    "print('Intercept: ', lasso.intercept_)"
   ],
   "metadata": {
    "collapsed": false,
    "pycharm": {
     "name": "#%%\n",
     "is_executing": false
    }
   }
  },
  {
   "cell_type": "markdown",
   "source": [
    "#### Nested 10-fold inside 10 fold"
   ],
   "metadata": {
    "collapsed": false,
    "pycharm": {
     "name": "#%% md\n"
    }
   }
  },
  {
   "cell_type": "code",
   "execution_count": 38,
   "outputs": [
    {
     "data": {
      "text/plain": "{'forward_select': 6.422392710151549,\n 'Lasso': 6.591966036596754,\n 'Ridge': 6.598973647546219}"
     },
     "metadata": {},
     "output_type": "execute_result",
     "execution_count": 38
    }
   ],
   "source": [
    "lasso_cv = skl_lm.LassoCV(alphas=alphas, fit_intercept=True,\n",
    "                              max_iter=100000, cv=10, random_state=1)\n",
    "score = cross_val_score(lasso_cv, X, y, cv=kf, scoring='neg_mean_squared_error').mean()\n",
    "RMSE_dict['Lasso'] = np.sqrt(-1*score)\n",
    "\n",
    "RMSE_dict"
   ],
   "metadata": {
    "collapsed": false,
    "pycharm": {
     "name": "#%%\n",
     "is_executing": false
    }
   }
  },
  {
   "cell_type": "markdown",
   "source": [
    "#### Principal Component Regression(PCR)"
   ],
   "metadata": {
    "collapsed": false,
    "pycharm": {
     "name": "#%% md\n"
    }
   }
  },
  {
   "cell_type": "code",
   "execution_count": 61,
   "outputs": [
    {
     "name": "stdout",
     "text": [
      "Test RMSE with 13 PC: 6.628891442124997\n"
     ],
     "output_type": "stream"
    },
    {
     "data": {
      "text/plain": "<Figure size 432x288 with 1 Axes>",
      "image/png": "[encoded data removed]"
     },
     "metadata": {},
     "output_type": "display_data"
    }
   ],
   "source": [
    "# Set up pca for train set\n",
    "pca = PCA()\n",
    "X_reduced_train = pca.fit_transform(scale(X_train))\n",
    "\n",
    "# Set up mse\n",
    "rmse = [8]  # For a better graph\n",
    "regr = skl_lm.LinearRegression()\n",
    "\n",
    "# Loop through all components number and K-fold\n",
    "for i in range(1, 20):\n",
    "    score = cross_val_score(regr, X_reduced_train[:,:i], y_train.ravel(), cv=kf, \n",
    "                            scoring='neg_mean_squared_error').mean()\n",
    "    rmse.append(np.sqrt(-score))\n",
    "\n",
    "# Getting minimum MSE\n",
    "min_RMSE_index, min_RMSE = min(enumerate(rmse), key=itemgetter(1))\n",
    "\n",
    "# Plot MSE\n",
    "plt.plot(rmse, color='b')\n",
    "plt.plot(min_RMSE_index, min_RMSE, color='g', marker='x', markersize=20)\n",
    "plt.xticks(np.arange(0,20))\n",
    "plt.xlabel('Number of Principal Components')\n",
    "plt.ylabel('MSE')\n",
    "\n",
    "# Transform X_test\n",
    "X_reduced_test = pca.transform(scale(X_test))\n",
    "\n",
    "# Get test error\n",
    "y_pred = regr.fit(X_reduced_train[:,:14], y_train).predict(X_reduced_test[:,:14])\n",
    "\n",
    "# Save RMSE\n",
    "rmse_cv = np.sqrt(mean_squared_error(y_test, y_pred))\n",
    "print(f'Test RMSE with 13 PC: {rmse_cv}')"
   ],
   "metadata": {
    "collapsed": false,
    "pycharm": {
     "name": "#%%\n",
     "is_executing": false
    }
   }
  },
  {
   "cell_type": "markdown",
   "source": [
    "PCA with validation set advise us to use 13 components.\n",
    "\n",
    "#### Conclusion: Which is best?\n",
    "\n",
    "After all that analysis, there are not much differences in RMSE. While forward selection\n",
    "and PCR wins out in RMSE, the lasso gives us a more interpretable model.\n",
    "\n",
    "In the end, I would choose forward selection for its simplicity in implementing."
   ],
   "metadata": {
    "collapsed": false,
    "pycharm": {
     "name": "#%% md\n"
    }
   }
  },
  {
   "cell_type": "code",
   "execution_count": 62,
   "outputs": [
    {
     "data": {
      "text/plain": "{'forward_select': 6.422392710151549,\n 'Lasso': 6.591966036596754,\n 'Ridge': 6.598973647546219,\n 'PCR': 6.628891442124997}"
     },
     "metadata": {},
     "output_type": "execute_result",
     "execution_count": 62
    }
   ],
   "source": [
    "RMSE_dict['PCR'] = rmse_cv\n",
    "RMSE_dict"
   ],
   "metadata": {
    "collapsed": false,
    "pycharm": {
     "name": "#%%\n",
     "is_executing": false
    }
   }
  }
 ],
 "metadata": {
  "kernelspec": {
   "display_name": "Python 3",
   "language": "python",
   "name": "python3"
  },
  "language_info": {
   "codemirror_mode": {
    "name": "ipython",
    "version": 2
   },
   "file_extension": ".py",
   "mimetype": "text/x-python",
   "name": "python",
   "nbconvert_exporter": "python",
   "pygments_lexer": "ipython2",
   "version": "2.7.6"
  },
  "pycharm": {
   "stem_cell": {
    "cell_type": "raw",
    "source": [],
    "metadata": {
     "collapsed": false
    }
   }
  }
 },
 "nbformat": 4,
 "nbformat_minor": 0
}
