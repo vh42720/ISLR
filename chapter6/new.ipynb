{
 "cells": [
  {
   "cell_type": "code",
   "execution_count": 8,
   "metadata": {
    "collapsed": true,
    "pycharm": {
     "is_executing": false
    }
   },
   "outputs": [
    {
     "name": "stdout",
     "text": [
      "                   AtBat   Hits  HmRun  Runs   RBI  Walks  Years  CAtBat  \\\n-Alan Ashby        315.0   81.0    7.0  24.0  38.0   39.0   14.0  3449.0   \n-Alvin Davis       479.0  130.0   18.0  66.0  72.0   76.0    3.0  1624.0   \n-Andre Dawson      496.0  141.0   20.0  65.0  78.0   37.0   11.0  5628.0   \n-Andres Galarraga  321.0   87.0   10.0  39.0  42.0   30.0    2.0   396.0   \n-Alfredo Griffin   594.0  169.0    4.0  74.0  51.0   35.0   11.0  4408.0   \n\n                    CHits  CHmRun  CRuns   CRBI  CWalks  PutOuts  Assists  \\\n-Alan Ashby         835.0    69.0  321.0  414.0   375.0    632.0     43.0   \n-Alvin Davis        457.0    63.0  224.0  266.0   263.0    880.0     82.0   \n-Andre Dawson      1575.0   225.0  828.0  838.0   354.0    200.0     11.0   \n-Andres Galarraga   101.0    12.0   48.0   46.0    33.0    805.0     40.0   \n-Alfredo Griffin   1133.0    19.0  501.0  336.0   194.0    282.0    421.0   \n\n                   Errors  League_N  Division_W  NewLeague_N  \n-Alan Ashby          10.0         1           1            1  \n-Alvin Davis         14.0         0           1            0  \n-Andre Dawson         3.0         1           0            1  \n-Andres Galarraga     4.0         1           0            1  \n-Alfredo Griffin     25.0         0           1            0   \n                    AtBat  Hits  HmRun  Runs  RBI  Walks  Years  CAtBat  CHits  \\\n-Alan Ashby          315    81      7    24   38     39     14    3449    835   \n-Alvin Davis         479   130     18    66   72     76      3    1624    457   \n-Andre Dawson        496   141     20    65   78     37     11    5628   1575   \n-Andres Galarraga    321    87     10    39   42     30      2     396    101   \n-Alfredo Griffin     594   169      4    74   51     35     11    4408   1133   \n\n                   CHmRun  CRuns  CRBI  CWalks  League  Division  PutOuts  \\\n-Alan Ashby            69    321   414     375       1         1      632   \n-Alvin Davis           63    224   266     263       0         1      880   \n-Andre Dawson         225    828   838     354       1         0      200   \n-Andres Galarraga      12     48    46      33       1         0      805   \n-Alfredo Griffin       19    501   336     194       0         1      282   \n\n                   Assists  Errors  NewLeague  \n-Alan Ashby             43      10          1  \n-Alvin Davis            82      14          0  \n-Andre Dawson           11       3          1  \n-Andres Galarraga       40       4          1  \n-Alfredo Griffin       421      25          0  \n"
     ],
     "output_type": "stream"
    }
   ],
   "source": [
    "%matplotlib inline\n",
    "\n",
    "import pandas as pd\n",
    "import numpy as np\n",
    "import matplotlib.pyplot as plt\n",
    "\n",
    "from sklearn.preprocessing import scale \n",
    "from sklearn import model_selection\n",
    "from sklearn.decomposition import PCA\n",
    "from sklearn.linear_model import LinearRegression\n",
    "from sklearn.cross_decomposition import PLSRegression, PLSSVD\n",
    "from sklearn.metrics import mean_squared_error\n",
    "\n",
    "data_path = 'D:\\\\PycharmProjects\\\\ISLR\\\\data\\\\'\n",
    "df = pd.read_csv(f'{data_path}Hitters.csv', index_col=0).dropna()\n",
    "\n",
    "dummies = pd.get_dummies(df[['League', 'Division', 'NewLeague']])\n",
    "y = df.Salary\n",
    "\n",
    "# Drop the column with the independent variable (Salary), and columns for which we created dummy variables\n",
    "X_ = df.drop(['Salary', 'League', 'Division', 'NewLeague'], axis=1).astype('float64')\n",
    "\n",
    "# Define the feature set X.\n",
    "X = pd.concat([X_, dummies[['League_N', 'Division_W', 'NewLeague_N']]], axis=1)\n",
    "\n",
    "hitter = pd.read_csv(f'{data_path}Hitters.csv', index_col=0, na_values='NA').dropna()\n",
    "\n",
    "# Transform categorical variables into dummy\n",
    "for i in ['League', 'Division', 'NewLeague']:\n",
    "    hitter[i] = hitter[i].astype('category').cat.codes\n",
    "\n",
    "y_mine = hitter.Salary\n",
    "X_mine = hitter.drop('Salary', axis=1)\n",
    "\n",
    "print(X.head(), '\\n', X_mine.head())"
   ]
  }
 ],
 "metadata": {
  "kernelspec": {
   "display_name": "Python 3",
   "language": "python",
   "name": "python3"
  },
  "language_info": {
   "codemirror_mode": {
    "name": "ipython",
    "version": 2
   },
   "file_extension": ".py",
   "mimetype": "text/x-python",
   "name": "python",
   "nbconvert_exporter": "python",
   "pygments_lexer": "ipython2",
   "version": "2.7.6"
  },
  "pycharm": {
   "stem_cell": {
    "cell_type": "raw",
    "source": [],
    "metadata": {
     "collapsed": false
    }
   }
  }
 },
 "nbformat": 4,
 "nbformat_minor": 0
}
