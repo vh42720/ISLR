{
 "cells": [
  {
   "cell_type": "markdown",
   "source": [
    "## Lab 1 - Best subset and forward selection\n",
    "\n",
    "#### Import block"
   ],
   "metadata": {
    "collapsed": false,
    "pycharm": {
     "name": "#%% md\n"
    }
   }
  },
  {
   "cell_type": "code",
   "execution_count": 44,
   "outputs": [],
   "source": [
    "import matplotlib.pyplot as plt\n",
    "import pandas as pd\n",
    "from sklearn.model_selection import train_test_split\n",
    "\n",
    "from forward_select import forward_select\n",
    "from get_mse import get_mse\n",
    "from dfply import *\n",
    "from operator import itemgetter\n",
    "\n",
    "%matplotlib inline\n",
    "plt.style.use('seaborn-white')"
   ],
   "metadata": {
    "collapsed": false,
    "pycharm": {
     "name": "#%% \n",
     "is_executing": false
    }
   }
  },
  {
   "cell_type": "markdown",
   "source": [
    "Load data"
   ],
   "metadata": {
    "collapsed": false,
    "pycharm": {
     "name": "#%% md\n"
    }
   }
  },
  {
   "cell_type": "code",
   "execution_count": 16,
   "outputs": [
    {
     "data": {
      "text/plain": "                   AtBat  Hits  HmRun  Runs  RBI  Walks  Years  CAtBat  CHits  \\\n-Alan Ashby          315    81      7    24   38     39     14    3449    835   \n-Alvin Davis         479   130     18    66   72     76      3    1624    457   \n-Andre Dawson        496   141     20    65   78     37     11    5628   1575   \n-Andres Galarraga    321    87     10    39   42     30      2     396    101   \n-Alfredo Griffin     594   169      4    74   51     35     11    4408   1133   \n\n                   CHmRun  CRuns  CRBI  CWalks  League  Division  PutOuts  \\\n-Alan Ashby            69    321   414     375       1         1      632   \n-Alvin Davis           63    224   266     263       0         1      880   \n-Andre Dawson         225    828   838     354       1         0      200   \n-Andres Galarraga      12     48    46      33       1         0      805   \n-Alfredo Griffin       19    501   336     194       0         1      282   \n\n                   Assists  Errors  Salary  NewLeague  \n-Alan Ashby             43      10   475.0          1  \n-Alvin Davis            82      14   480.0          0  \n-Andre Dawson           11       3   500.0          1  \n-Andres Galarraga       40       4    91.5          1  \n-Alfredo Griffin       421      25   750.0          0  ",
      "text/html": "<div>\n<style scoped>\n    .dataframe tbody tr th:only-of-type {\n        vertical-align: middle;\n    }\n\n    .dataframe tbody tr th {\n        vertical-align: top;\n    }\n\n    .dataframe thead th {\n        text-align: right;\n    }\n</style>\n<table border=\"1\" class=\"dataframe\">\n  <thead>\n    <tr style=\"text-align: right;\">\n      <th></th>\n      <th>AtBat</th>\n      <th>Hits</th>\n      <th>HmRun</th>\n      <th>Runs</th>\n      <th>RBI</th>\n      <th>Walks</th>\n      <th>Years</th>\n      <th>CAtBat</th>\n      <th>CHits</th>\n      <th>CHmRun</th>\n      <th>CRuns</th>\n      <th>CRBI</th>\n      <th>CWalks</th>\n      <th>League</th>\n      <th>Division</th>\n      <th>PutOuts</th>\n      <th>Assists</th>\n      <th>Errors</th>\n      <th>Salary</th>\n      <th>NewLeague</th>\n    </tr>\n  </thead>\n  <tbody>\n    <tr>\n      <td>-Alan Ashby</td>\n      <td>315</td>\n      <td>81</td>\n      <td>7</td>\n      <td>24</td>\n      <td>38</td>\n      <td>39</td>\n      <td>14</td>\n      <td>3449</td>\n      <td>835</td>\n      <td>69</td>\n      <td>321</td>\n      <td>414</td>\n      <td>375</td>\n      <td>1</td>\n      <td>1</td>\n      <td>632</td>\n      <td>43</td>\n      <td>10</td>\n      <td>475.0</td>\n      <td>1</td>\n    </tr>\n    <tr>\n      <td>-Alvin Davis</td>\n      <td>479</td>\n      <td>130</td>\n      <td>18</td>\n      <td>66</td>\n      <td>72</td>\n      <td>76</td>\n      <td>3</td>\n      <td>1624</td>\n      <td>457</td>\n      <td>63</td>\n      <td>224</td>\n      <td>266</td>\n      <td>263</td>\n      <td>0</td>\n      <td>1</td>\n      <td>880</td>\n      <td>82</td>\n      <td>14</td>\n      <td>480.0</td>\n      <td>0</td>\n    </tr>\n    <tr>\n      <td>-Andre Dawson</td>\n      <td>496</td>\n      <td>141</td>\n      <td>20</td>\n      <td>65</td>\n      <td>78</td>\n      <td>37</td>\n      <td>11</td>\n      <td>5628</td>\n      <td>1575</td>\n      <td>225</td>\n      <td>828</td>\n      <td>838</td>\n      <td>354</td>\n      <td>1</td>\n      <td>0</td>\n      <td>200</td>\n      <td>11</td>\n      <td>3</td>\n      <td>500.0</td>\n      <td>1</td>\n    </tr>\n    <tr>\n      <td>-Andres Galarraga</td>\n      <td>321</td>\n      <td>87</td>\n      <td>10</td>\n      <td>39</td>\n      <td>42</td>\n      <td>30</td>\n      <td>2</td>\n      <td>396</td>\n      <td>101</td>\n      <td>12</td>\n      <td>48</td>\n      <td>46</td>\n      <td>33</td>\n      <td>1</td>\n      <td>0</td>\n      <td>805</td>\n      <td>40</td>\n      <td>4</td>\n      <td>91.5</td>\n      <td>1</td>\n    </tr>\n    <tr>\n      <td>-Alfredo Griffin</td>\n      <td>594</td>\n      <td>169</td>\n      <td>4</td>\n      <td>74</td>\n      <td>51</td>\n      <td>35</td>\n      <td>11</td>\n      <td>4408</td>\n      <td>1133</td>\n      <td>19</td>\n      <td>501</td>\n      <td>336</td>\n      <td>194</td>\n      <td>0</td>\n      <td>1</td>\n      <td>282</td>\n      <td>421</td>\n      <td>25</td>\n      <td>750.0</td>\n      <td>0</td>\n    </tr>\n  </tbody>\n</table>\n</div>"
     },
     "metadata": {},
     "output_type": "execute_result",
     "execution_count": 16
    }
   ],
   "source": [
    "# Load data and drop all null value!\n",
    "data_path = 'D:\\\\PycharmProjects\\\\ISLR\\\\data\\\\'\n",
    "hitter = pd.read_csv(f'{data_path}Hitters.csv', index_col=0, na_values='NA').dropna()\n",
    "\n",
    "# First look\n",
    "hitter.head()\n",
    "\n",
    "# Drop and transform categorical features\n",
    "for i in ['League', 'Division', 'NewLeague']:\n",
    "    hitter[i] = hitter[i].astype('category').cat.codes\n",
    "\n",
    "hitter.head()"
   ],
   "metadata": {
    "collapsed": false,
    "pycharm": {
     "name": "#%%\n",
     "is_executing": false
    }
   }
  },
  {
   "cell_type": "markdown",
   "source": [
    "### Lab 1: Subset Selection Models\n",
    "\n",
    "### 6.5.1 Best Subset Selection"
   ],
   "metadata": {
    "collapsed": false,
    "pycharm": {
     "name": "#%% md\n"
    }
   }
  },
  {
   "cell_type": "code",
   "execution_count": 17,
   "outputs": [],
   "source": [
    "# Initialized variables\n",
    "# y = hitter.Salary\n",
    "# X = hitter.drop('Salary', axis=1)\n",
    "# k = 19\n",
    "# RSS_list, adj_R_squared_list, R_squared_list, \\\n",
    "# aic_list, bic_list, feature_list, num_features = [], [], [], [], [], [], []\n",
    "\n",
    "# df = best_select(y, X, k)"
   ],
   "metadata": {
    "collapsed": false,
    "pycharm": {
     "name": "#%%\n",
     "is_executing": false
    }
   }
  },
  {
   "cell_type": "markdown",
   "source": [
    "After running this code once, SAVE it to the dataframe! It takes my i7-9700KS nearly 10 minutes to \n",
    "run so please save it and load it in for future analysis.\n",
    "Top 8-features models are show below"
   ],
   "metadata": {
    "collapsed": false,
    "pycharm": {
     "name": "#%% md\n",
     "is_executing": false
    }
   }
  },
  {
   "cell_type": "code",
   "execution_count": 18,
   "outputs": [],
   "source": [
    "# df.to_csv('best_subset2.csv')\n",
    "df = pd.read_csv('best_subset2.csv', index_col=0)"
   ],
   "metadata": {
    "collapsed": false,
    "pycharm": {
     "name": "#%%\n",
     "is_executing": false
    }
   }
  },
  {
   "cell_type": "code",
   "execution_count": 45,
   "outputs": [
    {
     "name": "stdout",
     "text": [
      "8 features are: ['CRBI', 'Hits', 'PutOuts', 'Division', 'AtBat', 'Walks', 'CWalks', 'CRuns']\n",
      "\n"
     ],
     "output_type": "stream"
    },
    {
     "data": {
      "text/plain": "   num_features                                           features  R_squared  \\\n0             1                                             [CRBI]   0.321450   \n1             2                                       [CRBI, Hits]   0.425224   \n2             3                              [CRBI, Hits, PutOuts]   0.451429   \n3             4                    [CRBI, Hits, PutOuts, Division]   0.475407   \n4             5             [CRBI, Hits, PutOuts, Division, AtBat]   0.490804   \n5             6      [CRBI, Hits, PutOuts, Division, AtBat, Walks]   0.508715   \n6             7  [CRBI, Hits, PutOuts, Division, AtBat, Walks, ...   0.513229   \n7             8  [CRBI, Hits, PutOuts, Division, AtBat, Walks, ...   0.528139   \n\n            RSS  adj_R_squared          aic          bic  \n0  3.645692e+07       0.318850  3862.139307  3869.283615  \n1  3.100017e+07       0.420802  3820.487305  3831.203767  \n2  2.970102e+07       0.445075  3810.214440  3824.503056  \n3  2.851292e+07       0.467273  3800.460294  3818.321064  \n4  2.778375e+07       0.480897  3794.625624  3816.058548  \n5  2.691117e+07       0.497200  3787.208000  3812.213078  \n6  2.676847e+07       0.499866  3786.780304  3815.357536  \n7  2.605070e+07       0.513277  3780.598605  3812.747991  ",
      "text/html": "<div>\n<style scoped>\n    .dataframe tbody tr th:only-of-type {\n        vertical-align: middle;\n    }\n\n    .dataframe tbody tr th {\n        vertical-align: top;\n    }\n\n    .dataframe thead th {\n        text-align: right;\n    }\n</style>\n<table border=\"1\" class=\"dataframe\">\n  <thead>\n    <tr style=\"text-align: right;\">\n      <th></th>\n      <th>num_features</th>\n      <th>features</th>\n      <th>R_squared</th>\n      <th>RSS</th>\n      <th>adj_R_squared</th>\n      <th>aic</th>\n      <th>bic</th>\n    </tr>\n  </thead>\n  <tbody>\n    <tr>\n      <td>0</td>\n      <td>1</td>\n      <td>[CRBI]</td>\n      <td>0.321450</td>\n      <td>3.645692e+07</td>\n      <td>0.318850</td>\n      <td>3862.139307</td>\n      <td>3869.283615</td>\n    </tr>\n    <tr>\n      <td>1</td>\n      <td>2</td>\n      <td>[CRBI, Hits]</td>\n      <td>0.425224</td>\n      <td>3.100017e+07</td>\n      <td>0.420802</td>\n      <td>3820.487305</td>\n      <td>3831.203767</td>\n    </tr>\n    <tr>\n      <td>2</td>\n      <td>3</td>\n      <td>[CRBI, Hits, PutOuts]</td>\n      <td>0.451429</td>\n      <td>2.970102e+07</td>\n      <td>0.445075</td>\n      <td>3810.214440</td>\n      <td>3824.503056</td>\n    </tr>\n    <tr>\n      <td>3</td>\n      <td>4</td>\n      <td>[CRBI, Hits, PutOuts, Division]</td>\n      <td>0.475407</td>\n      <td>2.851292e+07</td>\n      <td>0.467273</td>\n      <td>3800.460294</td>\n      <td>3818.321064</td>\n    </tr>\n    <tr>\n      <td>4</td>\n      <td>5</td>\n      <td>[CRBI, Hits, PutOuts, Division, AtBat]</td>\n      <td>0.490804</td>\n      <td>2.778375e+07</td>\n      <td>0.480897</td>\n      <td>3794.625624</td>\n      <td>3816.058548</td>\n    </tr>\n    <tr>\n      <td>5</td>\n      <td>6</td>\n      <td>[CRBI, Hits, PutOuts, Division, AtBat, Walks]</td>\n      <td>0.508715</td>\n      <td>2.691117e+07</td>\n      <td>0.497200</td>\n      <td>3787.208000</td>\n      <td>3812.213078</td>\n    </tr>\n    <tr>\n      <td>6</td>\n      <td>7</td>\n      <td>[CRBI, Hits, PutOuts, Division, AtBat, Walks, ...</td>\n      <td>0.513229</td>\n      <td>2.676847e+07</td>\n      <td>0.499866</td>\n      <td>3786.780304</td>\n      <td>3815.357536</td>\n    </tr>\n    <tr>\n      <td>7</td>\n      <td>8</td>\n      <td>[CRBI, Hits, PutOuts, Division, AtBat, Walks, ...</td>\n      <td>0.528139</td>\n      <td>2.605070e+07</td>\n      <td>0.513277</td>\n      <td>3780.598605</td>\n      <td>3812.747991</td>\n    </tr>\n  </tbody>\n</table>\n</div>"
     },
     "metadata": {},
     "output_type": "execute_result",
     "execution_count": 45
    }
   ],
   "source": [
    "df2 = df >> group_by(X.num_features) \\\n",
    "         >> mask(X.RSS == np.min(X.RSS), X.num_features < 9)\n",
    "\n",
    "print(f'8 features are: {df2.features.iloc[7]}\\n')\n",
    "df2"
   ],
   "metadata": {
    "collapsed": false,
    "pycharm": {
     "name": "#%%\n",
     "is_executing": false
    }
   }
  },
  {
   "cell_type": "markdown",
   "source": [
    "Plots for features extraction."
   ],
   "metadata": {
    "collapsed": false,
    "pycharm": {
     "name": "#%% md\n"
    }
   }
  },
  {
   "cell_type": "code",
   "execution_count": 46,
   "outputs": [
    {
     "data": {
      "text/plain": "<matplotlib.collections.LineCollection at 0x22451de8d08>"
     },
     "metadata": {},
     "output_type": "execute_result",
     "execution_count": 46
    },
    {
     "data": {
      "text/plain": "<Figure size 1152x288 with 2 Axes>",
      "image/png": "[encoded data removed]"
     },
     "metadata": {
      "needs_background": "light"
     },
     "output_type": "display_data"
    }
   ],
   "source": [
    "# Get the best models\n",
    "df3 = df >> group_by(X.num_features) \\\n",
    "         >> filter_by(X.RSS == np.min(X.RSS))\n",
    "\n",
    "# set up variables for plotting\n",
    "bics = df3.bic\n",
    "aics = df3.aic\n",
    "adj_R_squared = df3.adj_R_squared\n",
    "min_bic_index, min_bic = min(enumerate(bics), key=itemgetter(1))\n",
    "min_aic_index, min_aic = min(enumerate(aics), key=itemgetter(1))\n",
    "max_adjR_index, max_adjR = max(enumerate(adj_R_squared), key=itemgetter(1))\n",
    "\n",
    "# Set up plots\n",
    "fig,(ax1, ax2) = plt.subplots(1, 2, figsize=(16,4))\n",
    "\n",
    "# Left plot\n",
    "ax1.plot(df3.num_features, bics, color='b', label='BIC', marker='o')\n",
    "ax1.plot(df3.num_features, aics, color='r', label='AIC', marker='o')\n",
    "ax1.plot(min_bic_index+1, min_bic, color='g', marker='x', markersize=20)\n",
    "ax1.plot(min_aic_index+1, min_aic, color='g', marker='x', markersize=20)\n",
    "ax1.set_ylabel('BIC/AIC')\n",
    "ax1.set_xlabel('Number of features')\n",
    "ax1.set_xticks(np.arange(0, 20, step=2))\n",
    "ax1.legend()\n",
    "\n",
    "# Right plot\n",
    "ax2.plot(df3.num_features, adj_R_squared, color='k', marker='o')\n",
    "ax2.plot(max_adjR_index+1, max_adjR, color='g', marker='x', markersize=20)\n",
    "ax2.set_ylabel('Adjusted R-squared')\n",
    "ax2.set_xlabel('Number of Features')\n",
    "ax2.set_xticks(np.arange(0, 20, step=2))\n",
    "ax2.vlines(max_adjR_index+1, ymin=0.3, ymax=max_adjR, linestyles='--', color='g')"
   ],
   "metadata": {
    "collapsed": false,
    "pycharm": {
     "name": "#%%\n",
     "is_executing": false
    }
   }
  },
  {
   "cell_type": "markdown",
   "source": [
    "We can observe the minimum BIC at 6 features and adjusted R squared maximum at 11 features\n",
    "The model with the lowest BIC includes: AtBat, Hits, Walks, CRBI, Division, PutOuts"
   ],
   "metadata": {
    "collapsed": false,
    "pycharm": {
     "name": "#%% md\n"
    }
   }
  },
  {
   "cell_type": "code",
   "execution_count": 21,
   "outputs": [
    {
     "name": "stdout",
     "text": [
      "Model with the lowest BIC includes: \n",
      "\n"
     ],
     "output_type": "stream"
    },
    {
     "data": {
      "text/plain": "\"('AtBat', 'Hits', 'Walks', 'CRBI', 'Division', 'PutOuts')\""
     },
     "metadata": {},
     "output_type": "execute_result",
     "execution_count": 21
    }
   ],
   "source": [
    "print('Model with the lowest BIC includes: \\n')\n",
    "df3.features.iloc[5]"
   ],
   "metadata": {
    "collapsed": false,
    "pycharm": {
     "name": "#%%\n",
     "is_executing": false
    }
   }
  },
  {
   "cell_type": "markdown",
   "source": [
    "### 6.5.2 - Forward and Backward stepwise selection\n",
    "\n",
    "While the book shows how stepwise selection can be good, a quick read through \n",
    "online materials give me a second thought about implementing it. Read \n",
    "[here](https://stats.stackexchange.com/questions/20836/algorithms-for-automatic-model-selection/20856#20856)\n",
    "\n",
    "Nevertheless, lets create the stepwise selection functions"
   ],
   "metadata": {
    "collapsed": false,
    "pycharm": {
     "name": "#%% md\n"
    }
   }
  },
  {
   "cell_type": "code",
   "execution_count": 22,
   "outputs": [
    {
     "name": "stderr",
     "text": [
      "d:\\pycharmprojects\\islr\\venv\\lib\\site-packages\\numpy\\core\\fromnumeric.py:2495: FutureWarning: Method .ptp is deprecated and will be removed in a future version. Use numpy.ptp instead.\n  return ptp(axis=axis, out=out, **kwargs)\n"
     ],
     "output_type": "stream"
    },
    {
     "data": {
      "text/plain": "   num_features      features  R_squared           RSS  adj_R_squared  \\\n0             1        [CRBI]   0.321450  3.645692e+07       0.318850   \n1             2  [CRBI, Hits]   0.425224  3.100017e+07       0.420802   \n\n           aic          bic  \n0  3862.139307  3869.283615  \n1  3820.487305  3831.203767  ",
      "text/html": "<div>\n<style scoped>\n    .dataframe tbody tr th:only-of-type {\n        vertical-align: middle;\n    }\n\n    .dataframe tbody tr th {\n        vertical-align: top;\n    }\n\n    .dataframe thead th {\n        text-align: right;\n    }\n</style>\n<table border=\"1\" class=\"dataframe\">\n  <thead>\n    <tr style=\"text-align: right;\">\n      <th></th>\n      <th>num_features</th>\n      <th>features</th>\n      <th>R_squared</th>\n      <th>RSS</th>\n      <th>adj_R_squared</th>\n      <th>aic</th>\n      <th>bic</th>\n    </tr>\n  </thead>\n  <tbody>\n    <tr>\n      <td>0</td>\n      <td>1</td>\n      <td>[CRBI]</td>\n      <td>0.321450</td>\n      <td>3.645692e+07</td>\n      <td>0.318850</td>\n      <td>3862.139307</td>\n      <td>3869.283615</td>\n    </tr>\n    <tr>\n      <td>1</td>\n      <td>2</td>\n      <td>[CRBI, Hits]</td>\n      <td>0.425224</td>\n      <td>3.100017e+07</td>\n      <td>0.420802</td>\n      <td>3820.487305</td>\n      <td>3831.203767</td>\n    </tr>\n  </tbody>\n</table>\n</div>"
     },
     "metadata": {},
     "output_type": "execute_result",
     "execution_count": 22
    }
   ],
   "source": [
    "# Initialized variables\n",
    "y = hitter.Salary\n",
    "X = hitter.drop('Salary', axis=1)\n",
    "k = 19\n",
    "\n",
    "# Run the function\n",
    "df = forward_select(y, X, k)\n",
    "df.head(2)"
   ],
   "metadata": {
    "collapsed": false,
    "pycharm": {
     "name": "#%%\n",
     "is_executing": false
    }
   }
  },
  {
   "cell_type": "markdown",
   "source": [
    "The same results as given in the book. Nice! For a backward selection, we can modify \n",
    "the above loop slightly as in starting with all and remove one by one.\n",
    "\n",
    "### 6.5.3 Choosing by cross validation\n",
    "\n",
    "In this section, we will perform cross validate to get a much more realistic parameters.\n",
    "If the full dataset is used as training, the test errors we get is inaccurate.\n",
    "\n",
    "<b>Notes:</b> Using forward instead of best subset\n",
    "\n",
    "#### Validation set approach\n",
    "There are 4 steps:\n",
    "1. Split data into train and test\n",
    "2. Run forward selection on train\n",
    "3. Predict and compare on test set\n",
    "4. Get the best model and rerun using full data."
   ],
   "metadata": {
    "collapsed": false,
    "pycharm": {
     "name": "#%% md\n"
    }
   }
  },
  {
   "cell_type": "code",
   "execution_count": 23,
   "outputs": [],
   "source": [
    "# Splitting data set\n",
    "t_prop = 0.5\n",
    "X_train, X_test, y_train, y_test = train_test_split(X, y.ravel(),\n",
    "                                                    test_size=t_prop, random_state=None)\n",
    "\n",
    "# Run forward select\n",
    "df = forward_select(y_train, X_train, k=19)"
   ],
   "metadata": {
    "collapsed": false,
    "pycharm": {
     "name": "#%%\n",
     "is_executing": false
    }
   }
  },
  {
   "cell_type": "code",
   "execution_count": 24,
   "outputs": [
    {
     "data": {
      "text/plain": "<matplotlib.collections.LineCollection at 0x2244e992788>"
     },
     "metadata": {},
     "output_type": "execute_result",
     "execution_count": 24
    },
    {
     "data": {
      "text/plain": "<Figure size 1152x288 with 2 Axes>",
      "image/png": "[encoded data removed]"
     },
     "metadata": {
      "needs_background": "light"
     },
     "output_type": "display_data"
    }
   ],
   "source": [
    "bics = df.bic\n",
    "aics = df.aic\n",
    "adj_R_squared = df.adj_R_squared\n",
    "min_bic_index, min_bic = min(enumerate(bics), key=itemgetter(1))\n",
    "min_aic_index, min_aic = min(enumerate(aics), key=itemgetter(1))\n",
    "max_adjR_index, max_adjR = max(enumerate(adj_R_squared), key=itemgetter(1))\n",
    "\n",
    "# Set up plots\n",
    "fig, (ax1, ax2) = plt.subplots(1, 2, figsize=(16, 4))\n",
    "\n",
    "# Left plot\n",
    "ax1.plot(df.num_features, bics, color='b', label='BIC', marker='o')\n",
    "ax1.plot(df.num_features, aics, color='r', label='AIC', marker='o')\n",
    "ax1.plot(min_bic_index + 1, min_bic, color='g', marker='x', markersize=20)\n",
    "ax1.plot(min_aic_index + 1, min_aic, color='g', marker='x', markersize=20)\n",
    "ax1.set_ylabel('BIC/AIC')\n",
    "ax1.set_xlabel('Number of features')\n",
    "ax1.set_xticks(np.arange(0, 20, step=2))\n",
    "ax1.legend()\n",
    "\n",
    "# Right plot\n",
    "ax2.plot(df.num_features, adj_R_squared, color='k', marker='o')\n",
    "ax2.plot(max_adjR_index + 1, max_adjR, color='g', marker='x', markersize=20)\n",
    "ax2.set_ylabel('Adjusted R-squared')\n",
    "ax2.set_xlabel('Number of Features')\n",
    "ax2.set_xticks(np.arange(0, 20, step=2))\n",
    "ax2.vlines(max_adjR_index + 1, ymin=0.3, ymax=max_adjR, linestyles='--', color='g')"
   ],
   "metadata": {
    "collapsed": false,
    "pycharm": {
     "name": "#%%\n",
     "is_executing": false
    }
   }
  },
  {
   "cell_type": "markdown",
   "source": [
    "The best model contains about 8. At 9 predictors, the adjusted R squared increase slightly\n",
    "but the AIC also decrease slightly. BIC suggest we only take 4 variables.\n",
    "\n",
    "Lets see what validation set approach gives us. A simple loop"
   ],
   "metadata": {
    "collapsed": false,
    "pycharm": {
     "name": "#%% md\n"
    }
   }
  },
  {
   "cell_type": "code",
   "execution_count": 25,
   "outputs": [],
   "source": [
    "models = df.features\n",
    "mse = get_mse(df, X_train, X_test, y_train, y_test)\n",
    "    "
   ],
   "metadata": {
    "collapsed": false,
    "pycharm": {
     "name": "#%%\n",
     "is_executing": false
    }
   }
  },
  {
   "cell_type": "code",
   "execution_count": 26,
   "outputs": [
    {
     "name": "stdout",
     "text": [
      "The best model using validation set contains 8 variables with mse of 131988.08377136476",
      "\n",
      "['CRBI', 'Hits', 'CWalks', 'Walks', 'Division', 'CRuns', 'AtBat', 'PutOuts']",
      "\n"
     ],
     "output_type": "stream"
    }
   ],
   "source": [
    "idx, value = min(enumerate(mse), key=itemgetter(1))\n",
    "print(f'The best model using validation set contains {idx+1} variables with mse of {value}')\n",
    "print(models[7])"
   ],
   "metadata": {
    "collapsed": false,
    "pycharm": {
     "name": "#%%\n",
     "is_executing": false
    }
   }
  },
  {
   "cell_type": "markdown",
   "source": [
    "Finally, we perform a forward selection process and choose the best 8 variables model\n",
    "using full data sets. Notice we get the same 8 variables but this can change depends\n",
    "on the data splitting process."
   ],
   "metadata": {
    "collapsed": false,
    "pycharm": {
     "name": "#%% md\n"
    }
   }
  },
  {
   "cell_type": "code",
   "execution_count": 27,
   "outputs": [
    {
     "data": {
      "text/plain": "['CRBI', 'Hits', 'PutOuts', 'Division', 'AtBat', 'Walks', 'CWalks', 'CRuns']"
     },
     "metadata": {},
     "output_type": "execute_result",
     "execution_count": 27
    }
   ],
   "source": [
    "X = hitter.drop('Salary', axis=1)\n",
    "y = hitter.Salary\n",
    "\n",
    "df = forward_select(y, X, k=19)\n",
    "df.features[7]"
   ],
   "metadata": {
    "collapsed": false,
    "pycharm": {
     "name": "#%%\n",
     "is_executing": false
    }
   }
  },
  {
   "cell_type": "markdown",
   "source": [
    "I will seperate the process of cross-validation on another notebook as this is getting\n",
    "quite heavy."
   ],
   "metadata": {
    "collapsed": false,
    "pycharm": {
     "name": "#%% md\n",
     "is_executing": false
    }
   }
  }
 ],
 "metadata": {
  "kernelspec": {
   "display_name": "Python 3",
   "language": "python",
   "name": "python3"
  },
  "language_info": {
   "codemirror_mode": {
    "name": "ipython",
    "version": 2
   },
   "file_extension": ".py",
   "mimetype": "text/x-python",
   "name": "python",
   "nbconvert_exporter": "python",
   "pygments_lexer": "ipython2",
   "version": "2.7.6"
  },
  "pycharm": {
   "stem_cell": {
    "cell_type": "raw",
    "source": [],
    "metadata": {
     "collapsed": false
    }
   }
  }
 },
 "nbformat": 4,
 "nbformat_minor": 0
}
