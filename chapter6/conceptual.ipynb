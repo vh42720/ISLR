{
 "cells": [
  {
   "cell_type": "markdown",
   "metadata": {
    "collapsed": true,
    "pycharm": {
     "name": "#%% md\n"
    }
   },
   "source": [
    "## Chapter 6 - Conceptual\n",
    "\n",
    "1. We perform best subset, forward stepwise, backward stepwise selection on a single \n",
    "data set. We obtain p+1 model containing 0, 1, 2...p predictors.   \n",
    "    - (a) The best subset selection method will always have the lowest RSS on training data\n",
    "simply because they consider all possibilities including those of forward and backward\n",
    "selection. In contrast, forward and backward selection may leave out variable which can \n",
    "lower RSS later on.  \n",
    "    - (b) Best subset selection might have the lowest RSS on test set because of the many\n",
    "model it considers. However, forward and backward can pick out a model that fit better\n",
    "(not over-fitting) than best subset.  \n",
    "    - (c) True or False\n",
    "        - True. Predictors in k model is a subset in k+1 model in forward selection.\n",
    "        - True. Same as above.\n",
    "        - False. Forward and backward have different variables.\n",
    "        - False. Same as above.\n",
    "        - False. Since best subset with k+1 does not necessarily include all of k model. \n",
    "\n",
    "2. True or False\n",
    "    1. The lasso, relative to least square, is:\n",
    "        1. False\n",
    "        2. False\n",
    "        3. True. Less flexible, when increase in bias is less than decrease in variance.\n",
    "        4. False\n",
    "    2. Ridge regression, relative to least square is also less flexible. Hence, it will\n",
    "    give improve accuracy when increase in bias is less than decrease in variance. \n",
    "    3. Non-linear methods, relative to least square, are greatly more flexible. Hence,\n",
    "    it will give improve accuracy when increase in bias is less than decrease in variance.\n",
    " \n",
    "3. Suppose estimate coefs by minimizing the following\n",
    "\\begin{equation}\n",
    "\\sum_{i=1}^{n} \\left (y_i -\\beta_0 - \\sum_{j=1}^{p} \\beta_j x_{ij} \\right )\n",
    "\\end{equation} subject to \n",
    "\\begin{equation}\n",
    "\\sum_{j=1}^{p} \\left\\lvert {\\beta_j} \\right\\rvert \\le s \n",
    "\\end{equation}\n",
    "for a particular value of s.\n",
    "\n",
    "    1. As we increase s from 0, the training RSS will:\n",
    "        1. Steadily decrease since we are going from 0 variance to the least square\n",
    "        estimate of the coefficients. \n",
    "    2. Test Rss will decrease initially and then increase in a U-shape. As the model\n",
    "    get more flexible, it fit model. But as model keep getting even more flexible,\n",
    "    overfitting appears and create the U-shape.\n",
    "    3. Variance will steadily increase. As we adding more coefficients, the less bias\n",
    "    we get but more variance is introduced to the model.\n",
    "    4. Square bias will decrease steadily. Explanation as above.\n",
    "    5. Irreducible error remains constant as it does not change with any coefficients \n",
    "    or our models."
   ]
  },
  {
   "cell_type": "markdown",
   "source": [
    "4. Suppose estimate coefs by minimizing the following\n",
    "\\begin{equation}\n",
    "\\sum_{i=1}^{n} \\left (y_i -\\beta_0 - \\sum_{j=1}^{p} \\beta_j x_{ij} \\right )\n",
    "+ \\lambda \\sum_{j=1}^{p} {\\beta_j}^2\n",
    "\\end{equation}\n",
    "\n",
    "    1. At $\\lambda = 0$, this is a least squares. As $\\lambda$ increases from\n",
    "    0, training RSS will steadily increase as the coefficients are shrinking.\n",
    "    2. Test RSS will decrease initially then increasing in an U shape. As model coefs\n",
    "    shrink, the decrease in variance is larger than increase in bias. However, after \n",
    "    a point, the increase in bias overtakes and thus increase our test RSS\n",
    "    3. Variance will steadily decrease as model get less flexible.\n",
    "    4. (squared) bias will steadily increase as model get less flexible.\n",
    "    5. Irreducible error is once again not affected by our model whatsoever. "
   ],
   "metadata": {
    "collapsed": false,
    "pycharm": {
     "name": "#%% md\n"
    }
   }
  },
  {
   "cell_type": "markdown",
   "source": [
    "5. Exploring how Ridge regression and Lasso treat correlated variables. \n",
    "Lets $n=2, p=2, x_{11} = x_{12}, x_{21}=x_{22}$. Suppose also that \n",
    "$y_1+y_2=0, x_{11}+x_{21}=0, x_{12}+x_{22}=0$. Thus we have $\\hat{\\beta_0}=0$  \n",
    "\n",
    "(a)\n",
    "Plug in the above parameters into general form of Ridge regression. We want to minimize"
   ],
   "metadata": {
    "collapsed": false,
    "pycharm": {
     "name": "#%% md\n"
    }
   }
  },
  {
   "cell_type": "markdown",
   "source": [
    "\\begin{align}\n",
    "&\\sum_{i=1}^{2} \\left (y_i -\\hat\\beta_0 - \\sum_{j=1}^{2} \\hat\\beta_j x_{ij} \\right )^2\n",
    "+ \\lambda \\sum_{j=1}^{2} {\\hat\\beta_j}^2 \\\\\n",
    "&= (y_1 - \\hat\\beta_1 x_{11}-\\hat\\beta_1 x_{12})^2 + (y_1-\\hat\\beta_2 x_{21}-\\hat\\beta_1 x_{22})^2 +\n",
    "\\lambda(\\hat\\beta_1 ^2 + \\hat\\beta_2 ^2)\\\\\n",
    "\\end{align}"
   ],
   "metadata": {
    "collapsed": false,
    "pycharm": {
     "name": "#%% md\n"
    }
   }
  },
  {
   "cell_type": "markdown",
   "source": [
    "(b) Differentiate the expression in (a) wrt. $\\hat{\\beta_1}$ and $\\hat{\\beta_2}$ we have\n",
    "\\begin{equation}\n",
    "\\hat\\beta_1 = \\frac {x_1y_1 + x_2y_2 + 2\\hat\\beta_1x_1x_2 + 2\\hat\\beta_2x_1x_2}\n",
    "{\\lambda}\\\\\n",
    "\\hat\\beta_2 = \\frac {x_1y_1 + x_2y_2 + 2\\hat\\beta_1x_1x_2 + 2\\hat\\beta_2x_1x_2}\n",
    "{\\lambda}\n",
    "\\end{equation}\n",
    "Thus, $\\hat\\beta_1 = \\hat\\beta_2$"
   ],
   "metadata": {
    "collapsed": false,
    "pycharm": {
     "name": "#%% md\n"
    }
   }
  },
  {
   "cell_type": "markdown",
   "source": [
    "(c) Similarly, Lasso will try to minimize  \n",
    "\\begin{align}\n",
    "&= (y_1 - \\hat\\beta_1 x_{11}-\\hat\\beta_1 x_{12})^2 + (y_1-\\hat\\beta_2 x_{21}-\\hat\\beta_1 x_{22})^2 +\n",
    "\\lambda(\\lvert\\hat\\beta_1 \\rvert + \\lvert \\hat\\beta_2 \\rvert)\\\\\n",
    "\\end{align}\n",
    "\n",
    "(d) Again, taking derivative wrt 2 beta gives us\n",
    "\\begin{equation}\n",
    "\\lambda\\frac{|\\beta_1|}{\\beta_1} = \\lambda\\frac{|\\beta_2|}{\\beta_2}\n",
    "\\end{equation}\n",
    "\n",
    "Thus, there are many different solutions to the optimization problem."
   ],
   "metadata": {
    "collapsed": false,
    "pycharm": {
     "name": "#%% md\n"
    }
   }
  },
  {
   "cell_type": "markdown",
   "source": [
    "6. Consider 6.12 and 6.13  \n",
    "(a) with p=1 we have\n",
    "\\begin{equation}\n",
    "(y_1 - \\hat\\beta_1)^2+ \\lambda \\hat\\beta_1 ^2 \n",
    "\\end{equation}"
   ],
   "metadata": {
    "collapsed": false,
    "pycharm": {
     "name": "#%% md\n"
    }
   }
  },
  {
   "cell_type": "code",
   "execution_count": 44,
   "outputs": [
    {
     "data": {
      "text/plain": "Text(0.5, 1.0, '6.12 as a function of beta 1')"
     },
     "metadata": {},
     "output_type": "execute_result",
     "execution_count": 44
    },
    {
     "data": {
      "text/plain": "<Figure size 432x288 with 1 Axes>",
      "image/png": "[encoded data removed]"
     },
     "metadata": {},
     "output_type": "display_data"
    }
   ],
   "source": [
    "import numpy as np\n",
    "import matplotlib.pyplot as plt\n",
    "\n",
    "%matplotlib inline\n",
    "plt.style.use('seaborn-white')\n",
    "\n",
    "# parameters and function\n",
    "y = 2\n",
    "alpha = 2\n",
    "beta = np.linspace(-10, 10, num=1000)\n",
    "f = np.power((y - beta),2) + alpha*np.power(beta, 2)\n",
    "min_f = min(f)\n",
    "min_f_beta = beta[np.argmin(f)]\n",
    "\n",
    "# plot\n",
    "plt.plot(beta, f)\n",
    "plt.plot(min_f_beta, min_f, color='r', marker='x', markersize=10)\n",
    "plt.ylabel('Ridge Regression')\n",
    "plt.xlabel('Beta')\n",
    "plt.title('6.12 as a function of beta 1')"
   ],
   "metadata": {
    "collapsed": false,
    "pycharm": {
     "name": "#%%\n",
     "is_executing": false
    }
   }
  },
  {
   "cell_type": "markdown",
   "source": [
    "The plot also confirm that solution is 0.5 which is given by 6.14.\n",
    "\n",
    "Similarly, we for Lasso we have  \n",
    "\\begin{equation}\n",
    "(y_1 - \\hat\\beta_1)^2+ \\lambda \\lvert \\hat\\beta_1 \\rvert \n",
    "\\end{equation}"
   ],
   "metadata": {
    "collapsed": false,
    "pycharm": {
     "name": "#%% md\n"
    }
   }
  },
  {
   "cell_type": "code",
   "execution_count": 46,
   "outputs": [
    {
     "data": {
      "text/plain": "Text(0.5, 1.0, '6.13 as a function of beta 1')"
     },
     "metadata": {},
     "output_type": "execute_result",
     "execution_count": 46
    },
    {
     "data": {
      "text/plain": "<Figure size 432x288 with 1 Axes>",
      "image/png": "[encoded data removed]"
     },
     "metadata": {},
     "output_type": "display_data"
    }
   ],
   "source": [
    "y = 5\n",
    "alpha = 5\n",
    "beta = np.linspace(-10, 10, num=10000)\n",
    "f = (y - beta)**2 + alpha*(np.abs(beta))\n",
    "min_f = min(f)\n",
    "min_f_beta = beta[np.argmin(f)]\n",
    "\n",
    "# plot\n",
    "plt.plot(beta, f)\n",
    "plt.plot(min_f_beta, min_f, color='r', marker='x', markersize=10)\n",
    "plt.ylabel('Lasso')\n",
    "plt.xlabel('Beta')\n",
    "plt.title('6.13 as a function of beta 1')"
   ],
   "metadata": {
    "collapsed": false,
    "pycharm": {
     "name": "#%%\n",
     "is_executing": false
    }
   }
  },
  {
   "cell_type": "markdown",
   "source": [
    "We also get beta = y - alpha/2 = 5 - 2.5 = 2.5 as given in 6.15\n"
   ],
   "metadata": {
    "collapsed": false,
    "pycharm": {
     "name": "#%% md\n",
     "is_executing": false
    }
   }
  }
 ],
 "metadata": {
  "kernelspec": {
   "display_name": "Python 3",
   "language": "python",
   "name": "python3"
  },
  "language_info": {
   "codemirror_mode": {
    "name": "ipython",
    "version": 2
   },
   "file_extension": ".py",
   "mimetype": "text/x-python",
   "name": "python",
   "nbconvert_exporter": "python",
   "pygments_lexer": "ipython2",
   "version": "2.7.6"
  },
  "pycharm": {
   "stem_cell": {
    "cell_type": "raw",
    "source": [],
    "metadata": {
     "collapsed": false
    }
   }
  }
 },
 "nbformat": 4,
 "nbformat_minor": 0
}
