{
 "cells": [
  {
   "cell_type": "markdown",
   "metadata": {
    "collapsed": true,
    "pycharm": {
     "name": "#%% md\n"
    }
   },
   "source": [
    "## Applied - Question 7\n",
    "\n",
    "This question will apply the random forest to the Boston dataset.\n",
    "\n",
    "Boston dataset - a data frame with 506 observations and 14 variables.\n",
    "The data was originally published by Harrison, D. and Rubinfeld, D.L. \n",
    "`Hedonic prices and the demand for clean air', J. Environ. Economics & Management,\n",
    " vol.5, 81-102, 1978.\n",
    "\n",
    "There are 14 attributes in each case of the dataset. They are:\n",
    "\n",
    "  1. CRIM - per capita crime rate by town  \n",
    "  2. ZN - proportion of residential land zoned for lots over 25,000 sq.ft.\n",
    "  3. INDUS - proportion of non-retail business acres per town.\n",
    "  4. CHAS - Charles River dummy variable (1 if tract bounds river; 0 otherwise)\n",
    "  5. NOX - nitric oxides concentration (parts per 10 million)\n",
    "  6. RM - average number of rooms per dwelling\n",
    "  7. AGE - proportion of owner-occupied units built prior to 1940\n",
    "  8. DIS - weighted distances to five Boston employment centres\n",
    "  9. RAD - index of accessibility to radial highways\n",
    "  10. TAX - full-value property-tax rate per $10,000\n",
    "  11. PTRATIO - pupil-teacher ratio by town\n",
    "  12. B - 1000(Bk - 0.63)^2 where Bk is the proportion of blacks by town\n",
    "  13. LSTAT - % lower status of the population\n",
    "  14. MEDV - Median value of owner-occupied homes in $1000's\n",
    "\n",
    "#### Import block"
   ]
  },
  {
   "cell_type": "code",
   "execution_count": 1,
   "outputs": [],
   "source": [
    "import pandas as pd\n",
    "import numpy as np\n",
    "import matplotlib.pyplot as plt\n",
    "import seaborn as sns\n",
    "\n",
    "import pydotplus\n",
    "from IPython.display import Image\n",
    "from six import StringIO\n",
    "\n",
    "from sklearn.model_selection import train_test_split, cross_val_score\n",
    "from sklearn.tree import DecisionTreeRegressor, DecisionTreeClassifier,\\\n",
    "    export_graphviz\n",
    "from sklearn.ensemble import BaggingRegressor, BaggingClassifier, \\\n",
    "    RandomForestRegressor, GradientBoostingClassifier, GradientBoostingRegressor\n",
    "from sklearn.metrics import mean_squared_error, confusion_matrix, classification_report\n",
    "\n",
    "%matplotlib inline\n",
    "plt.style.use('seaborn-white')"
   ],
   "metadata": {
    "collapsed": false,
    "pycharm": {
     "name": "#%%\n",
     "is_executing": false
    }
   }
  },
  {
   "cell_type": "markdown",
   "source": [
    "Define the print_tree function"
   ],
   "metadata": {
    "collapsed": false,
    "pycharm": {
     "name": "#%% md\n"
    }
   }
  },
  {
   "cell_type": "code",
   "source": [
    "# This function return the tree image \n",
    "def print_tree(estimator, features, class_names=None, filled=True):    \n",
    "    dot_data = StringIO()\n",
    "    export_graphviz(estimator, out_file=dot_data, feature_names=features,\n",
    "                    class_names=class_names, filled=filled)\n",
    "    graph = pydotplus.graph_from_dot_data(dot_data.getvalue())\n",
    "    return graph"
   ],
   "metadata": {
    "collapsed": false,
    "pycharm": {
     "name": "#%% \n",
     "is_executing": false
    }
   },
   "execution_count": 2,
   "outputs": []
  },
  {
   "cell_type": "code",
   "source": [
    "# Import data\n",
    "data_path = 'D:\\\\PycharmProjects\\\\ISLR\\\\data\\\\'\n",
    "df = pd.read_csv(f'{data_path}Boston.csv')\n",
    "\n",
    "# Set X and y\n",
    "X = df.drop('medv', axis=1)\n",
    "y = df.medv\n",
    "\n",
    "# First look\n",
    "df.info()"
   ],
   "metadata": {
    "collapsed": false,
    "pycharm": {
     "name": "#%% \n",
     "is_executing": false
    }
   },
   "execution_count": 3,
   "outputs": [
    {
     "name": "stdout",
     "text": [
      "<class 'pandas.core.frame.DataFrame'>\n",
      "RangeIndex: 506 entries, 0 to 505\n",
      "Data columns (total 14 columns):\n",
      "crim       506 non-null float64\n",
      "zn         506 non-null float64\n",
      "indus      506 non-null float64\n",
      "chas       506 non-null int64\n",
      "nox        506 non-null float64\n",
      "rm         506 non-null float64\n",
      "age        506 non-null float64\n",
      "dis        506 non-null float64\n",
      "rad        506 non-null int64\n",
      "tax        506 non-null int64\n",
      "ptratio    506 non-null float64\n",
      "black      506 non-null float64\n",
      "lstat      506 non-null float64\n",
      "medv       506 non-null float64\n",
      "dtypes: float64(11), int64(3)\n",
      "memory usage: 55.5 KB\n"
     ],
     "output_type": "stream"
    }
   ]
  },
  {
   "cell_type": "code",
   "execution_count": 4,
   "outputs": [],
   "source": [
    "# Split train, test set\n",
    "X_train, X_test, y_train, y_test = train_test_split(X,y,test_size=0.5, random_state=1)"
   ],
   "metadata": {
    "collapsed": false,
    "pycharm": {
     "name": "#%%\n",
     "is_executing": false
    }
   }
  },
  {
   "cell_type": "markdown",
   "source": [
    "In the lab, we used random forest with max_features = 6, n_estimators = 5/500. \n",
    "Using a range of ntree and max_features for random forest to display the \n",
    "test error result.\n"
   ],
   "metadata": {
    "collapsed": false,
    "pycharm": {
     "name": "#%% md\n",
     "is_executing": false
    }
   }
  },
  {
   "cell_type": "code",
   "execution_count": 5,
   "outputs": [],
   "source": [
    "# RMSE for plot\n",
    "RMSE = []\n",
    "\n",
    "# Range of values\n",
    "features_range = {'p': X.shape[1],\n",
    "                  'p/2': np.int(X.shape[1]/2),\n",
    "                  '$\\sqrt{p}$': np.int(np.sqrt(X.shape[1])),\n",
    "                  '1': 1}\n",
    "estimator_range = np.arange(1, 100)\n",
    "\n",
    "# random forest for each of the range\n",
    "for m in features_range:\n",
    "    for n in estimator_range:\n",
    "        # Regression with RF\n",
    "        rf = RandomForestRegressor(max_features=features_range[m], n_estimators=n,random_state=1)\n",
    "        rf.fit(X_train, y_train)\n",
    "        \n",
    "        # Prediction\n",
    "        y_pred = rf.predict(X_test)\n",
    "        \n",
    "        # RMSE\n",
    "        result = [m, n, np.sqrt(mean_squared_error(y_test, y_pred))]\n",
    "        RMSE.append(result)"
   ],
   "metadata": {
    "collapsed": false,
    "pycharm": {
     "name": "#%%\n",
     "is_executing": false
    }
   }
  },
  {
   "cell_type": "code",
   "execution_count": 6,
   "outputs": [
    {
     "data": {
      "text/plain": "<matplotlib.axes._subplots.AxesSubplot at 0x1b4ffd5dd08>"
     },
     "metadata": {},
     "output_type": "execute_result",
     "execution_count": 6
    },
    {
     "data": {
      "text/plain": "<Figure size 432x288 with 1 Axes>",
      "image/png": "[encoded data removed]"
     },
     "metadata": {},
     "output_type": "display_data"
    }
   ],
   "source": [
    "# Plot\n",
    "sns.lineplot('Number of Trees', 'RMSE', hue='n_estimators', \n",
    "             data=pd.DataFrame(RMSE,columns=['n_estimators','Number of Trees', 'RMSE']))\n",
    "        "
   ],
   "metadata": {
    "collapsed": false,
    "pycharm": {
     "name": "#%%\n",
     "is_executing": false
    }
   }
  },
  {
   "cell_type": "markdown",
   "source": [
    "At p/2 = 6 number of estimators, we achieve the lowest RMSE. As noted in the book,\n",
    "increasing the number of trees does not over fit the data. We can see this in \n",
    "effect as n -> 100 there is no jump back up for RMSE. \n",
    "\n",
    "In fact, if we do the calculation up to n=500, RMSE would still be decreasing or \n",
    "stay relatively constant (which is the most probably given there is almost no change\n",
    "after 40/50 trees)"
   ],
   "metadata": {
    "collapsed": false,
    "pycharm": {
     "name": "#%% md\n",
     "is_executing": false
    }
   }
  },
  {
   "cell_type": "code",
   "execution_count": 7,
   "outputs": [
    {
     "name": "stdout",
     "text": [
      "WTF\n"
     ],
     "output_type": "stream"
    }
   ],
   "source": [
    "print('WTF')"
   ],
   "metadata": {
    "collapsed": false,
    "pycharm": {
     "name": "#%%\n",
     "is_executing": false
    }
   }
  }
 ],
 "metadata": {
  "kernelspec": {
   "display_name": "Python 3",
   "language": "python",
   "name": "python3"
  },
  "language_info": {
   "codemirror_mode": {
    "name": "ipython",
    "version": 2
   },
   "file_extension": ".py",
   "mimetype": "text/x-python",
   "name": "python",
   "nbconvert_exporter": "python",
   "pygments_lexer": "ipython2",
   "version": "2.7.6"
  },
  "pycharm": {
   "stem_cell": {
    "cell_type": "raw",
    "source": [],
    "metadata": {
     "collapsed": false
    }
   }
  }
 },
 "nbformat": 4,
 "nbformat_minor": 0
}
