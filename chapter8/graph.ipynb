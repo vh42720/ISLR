{
 "cells": [
  {
   "cell_type": "markdown",
   "source": [
    "## Chapter 8 - Tree-based Methods - All graphs\n",
    "\n",
    "The following notebook is a re-creation from\n",
    "[JWarmenhoven's notebook](https://nbviewer.jupyter.org/github/JWarmenhoven/ISLR-python/tree/master/Notebooks/)\n",
    "for the purpose of learning.\n",
    "\n",
    "#### Import Block:"
   ],
   "metadata": {
    "collapsed": false
   }
  },
  {
   "cell_type": "code",
   "execution_count": 1,
   "outputs": [],
   "source": [
    "import pandas as pd\n",
    "import numpy as np\n",
    "import matplotlib.pyplot as plt\n",
    "import seaborn as sns\n",
    "\n",
    "import pydot\n",
    "import pydotplus\n",
    "from IPython.display import Image\n",
    "from six import StringIO\n",
    "\n",
    "from sklearn.model_selection import train_test_split, cross_val_score\n",
    "from sklearn.tree import DecisionTreeRegressor, DecisionTreeClassifier,\\\n",
    "    export_graphviz\n",
    "from sklearn.ensemble import BaggingRegressor, BaggingClassifier, \\\n",
    "    RandomForestRegressor, GradientBoostingClassifier\n",
    "from sklearn.metrics import mean_squared_error, confusion_matrix, classification_report\n",
    "\n",
    "\n",
    "%matplotlib inline\n",
    "plt.style.use('seaborn-white')"
   ],
   "metadata": {
    "collapsed": false,
    "pycharm": {
     "name": "#%%\n",
     "is_executing": false
    }
   }
  },
  {
   "cell_type": "code",
   "source": [
    "# This function return the tree image \n",
    "def print_tree(estimator, features, class_names=None, filled=True):    \n",
    "    dot_data = StringIO()\n",
    "    export_graphviz(estimator, out_file=dot_data, feature_names=features,\n",
    "                    class_names=class_names, filled=filled)\n",
    "    graph = pydotplus.graph_from_dot_data(dot_data.getvalue())\n",
    "    return graph"
   ],
   "metadata": {
    "collapsed": false,
    "pycharm": {
     "name": "#%% \n",
     "is_executing": false
    }
   },
   "execution_count": 2,
   "outputs": []
  },
  {
   "cell_type": "markdown",
   "source": [
    "#### 8.1.1 Regression Trees\n",
    "\n",
    "Import hitter dataset"
   ],
   "metadata": {
    "collapsed": false,
    "pycharm": {
     "name": "#%% md\n"
    }
   }
  },
  {
   "cell_type": "code",
   "execution_count": 3,
   "outputs": [
    {
     "name": "stdout",
     "text": [
      "<class 'pandas.core.frame.DataFrame'>\n",
      "Int64Index: 263 entries, 1 to 321\n",
      "Data columns (total 21 columns):\n",
      "Unnamed: 0    263 non-null object\n",
      "AtBat         263 non-null int64\n",
      "Hits          263 non-null int64\n",
      "HmRun         263 non-null int64\n",
      "Runs          263 non-null int64\n",
      "RBI           263 non-null int64\n",
      "Walks         263 non-null int64\n",
      "Years         263 non-null int64\n",
      "CAtBat        263 non-null int64\n",
      "CHits         263 non-null int64\n",
      "CHmRun        263 non-null int64\n",
      "CRuns         263 non-null int64\n",
      "CRBI          263 non-null int64\n",
      "CWalks        263 non-null int64\n",
      "League        263 non-null object\n",
      "Division      263 non-null object\n",
      "PutOuts       263 non-null int64\n",
      "Assists       263 non-null int64\n",
      "Errors        263 non-null int64\n",
      "Salary        263 non-null float64\n",
      "NewLeague     263 non-null object\n",
      "dtypes: float64(1), int64(16), object(4)\n",
      "memory usage: 45.2+ KB\n"
     ],
     "output_type": "stream"
    }
   ],
   "source": [
    "data_path = 'D:\\\\PycharmProjects\\\\ISLR\\\\data\\\\'\n",
    "df = pd.read_csv(f'{data_path}Hitters.csv').dropna()\n",
    "df.info()"
   ],
   "metadata": {
    "collapsed": false,
    "pycharm": {
     "name": "#%%\n",
     "is_executing": false
    }
   }
  },
  {
   "cell_type": "code",
   "execution_count": 4,
   "outputs": [
    {
     "data": {
      "text/plain": "Text(0.5, 0, 'Log(Salary)')"
     },
     "metadata": {},
     "output_type": "execute_result",
     "execution_count": 4
    },
    {
     "data": {
      "text/plain": "<Figure size 792x288 with 2 Axes>",
      "image/png": "[encoded data removed]"
     },
     "metadata": {
      "needs_background": "light"
     },
     "output_type": "display_data"
    }
   ],
   "source": [
    "# Set up X and y\n",
    "X = df[['Years', 'Hits']].values\n",
    "y = np.log(df.Salary.values)\n",
    "\n",
    "# Plot histogram\n",
    "fig, (ax1, ax2) = plt.subplots(1,2,figsize=(11,4))\n",
    "\n",
    "# Left Plot\n",
    "ax1.hist(df.Salary.values)\n",
    "ax1.set_xlabel('Salary')\n",
    "\n",
    "# Right Plot\n",
    "ax2.hist(y)\n",
    "ax2.set_xlabel('Log(Salary)')"
   ],
   "metadata": {
    "collapsed": false,
    "pycharm": {
     "name": "#%%\n",
     "is_executing": false
    }
   }
  },
  {
   "cell_type": "markdown",
   "source": [
    "Regression tree"
   ],
   "metadata": {
    "collapsed": false,
    "pycharm": {
     "name": "#%% md\n",
     "is_executing": false
    }
   }
  },
  {
   "cell_type": "code",
   "execution_count": 5,
   "outputs": [
    {
     "data": {
      "text/plain": "DecisionTreeRegressor(criterion='mse', max_depth=None, max_features=None,\n                      max_leaf_nodes=3, min_impurity_decrease=0.0,\n                      min_impurity_split=None, min_samples_leaf=1,\n                      min_samples_split=2, min_weight_fraction_leaf=0.0,\n                      presort=False, random_state=None, splitter='best')"
     },
     "metadata": {},
     "output_type": "execute_result",
     "execution_count": 5
    }
   ],
   "source": [
    "regr = DecisionTreeRegressor(max_leaf_nodes=3)\n",
    "regr.fit(X, y)"
   ],
   "metadata": {
    "collapsed": false,
    "pycharm": {
     "name": "#%%\n",
     "is_executing": false
    }
   }
  },
  {
   "cell_type": "markdown",
   "source": [
    "#### Figure 8.1"
   ],
   "metadata": {
    "collapsed": false,
    "pycharm": {
     "name": "#%% md\n",
     "is_executing": false
    }
   }
  },
  {
   "cell_type": "code",
   "execution_count": 6,
   "outputs": [
    {
     "data": {
      "image/png": "[encoded data removed]",
      "text/plain": "<IPython.core.display.Image object>"
     },
     "metadata": {},
     "output_type": "execute_result",
     "execution_count": 6
    }
   ],
   "source": [
    "import graphviz\n",
    "graph = print_tree(regr, features=['Years', 'Hits'])\n",
    "Image(graph.create_png())"
   ],
   "metadata": {
    "collapsed": false,
    "pycharm": {
     "name": "#%%\n",
     "is_executing": false
    }
   }
  },
  {
   "cell_type": "code",
   "execution_count": 6,
   "outputs": [],
   "source": [
    " \n"
   ],
   "metadata": {
    "collapsed": false,
    "pycharm": {
     "name": "#%%\n",
     "is_executing": false
    }
   }
  }
 ],
 "metadata": {
  "kernelspec": {
   "display_name": "Python 3",
   "language": "python",
   "name": "python3"
  },
  "language_info": {
   "codemirror_mode": {
    "name": "ipython",
    "version": 2
   },
   "file_extension": ".py",
   "mimetype": "text/x-python",
   "name": "python",
   "nbconvert_exporter": "python",
   "pygments_lexer": "ipython2",
   "version": "2.7.6"
  },
  "pycharm": {
   "stem_cell": {
    "cell_type": "raw",
    "source": [],
    "metadata": {
     "collapsed": false
    }
   }
  }
 },
 "nbformat": 4,
 "nbformat_minor": 0
}
