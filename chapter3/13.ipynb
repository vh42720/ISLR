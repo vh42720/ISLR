{
 "cells": [
  {
   "cell_type": "markdown",
   "metadata": {
    "collapsed": true,
    "pycharm": {
     "name": "#%% md\n"
    }
   },
   "source": [
    "    ## Applied - Question 13\n",
    "\n",
    "In this exercise you will create some simulated data and will fit a \n",
    "simple linear regression models to it.\n",
    "\n",
    "Import block follows"
   ]
  },
  {
   "cell_type": "code",
   "execution_count": 36,
   "outputs": [],
   "source": [
    "import numpy as np\n",
    "import pandas as pd\n",
    "import seaborn as sns\n",
    "import statsmodels.formula.api as smf\n",
    "import matplotlib.pyplot as plt\n",
    "\n",
    "%matplotlib inline\n",
    "plt.style.use('seaborn-white')"
   ],
   "metadata": {
    "collapsed": false,
    "pycharm": {
     "name": "#%%\n",
     "is_executing": false
    }
   }
  },
  {
   "cell_type": "markdown",
   "source": [
    "(a) Creating a feature X with n=100 and follows standard normal distribution.  \n",
    "(b) Vector eps with n=100 and follow N(0, 0.25).  \n",
    "(c) Lets $Y = -1 + 0.5X + \\epsilon$"
   ],
   "metadata": {
    "collapsed": false,
    "pycharm": {
     "name": "#%% md\n"
    }
   }
  },
  {
   "cell_type": "code",
   "execution_count": 37,
   "outputs": [
    {
     "data": {
      "text/plain": "                x           y\ncount  100.000000  100.000000\nmean    -0.065758   -1.038078\nstd      1.098088    0.627321\nmin     -2.772861   -2.670401\n25%     -0.866773   -1.494495\n50%     -0.130929   -0.985291\n75%      0.769459   -0.606814\nmax      2.226883    0.358133",
      "text/html": "<div>\n<style scoped>\n    .dataframe tbody tr th:only-of-type {\n        vertical-align: middle;\n    }\n\n    .dataframe tbody tr th {\n        vertical-align: top;\n    }\n\n    .dataframe thead th {\n        text-align: right;\n    }\n</style>\n<table border=\"1\" class=\"dataframe\">\n  <thead>\n    <tr style=\"text-align: right;\">\n      <th></th>\n      <th>x</th>\n      <th>y</th>\n    </tr>\n  </thead>\n  <tbody>\n    <tr>\n      <td>count</td>\n      <td>100.000000</td>\n      <td>100.000000</td>\n    </tr>\n    <tr>\n      <td>mean</td>\n      <td>-0.065758</td>\n      <td>-1.038078</td>\n    </tr>\n    <tr>\n      <td>std</td>\n      <td>1.098088</td>\n      <td>0.627321</td>\n    </tr>\n    <tr>\n      <td>min</td>\n      <td>-2.772861</td>\n      <td>-2.670401</td>\n    </tr>\n    <tr>\n      <td>25%</td>\n      <td>-0.866773</td>\n      <td>-1.494495</td>\n    </tr>\n    <tr>\n      <td>50%</td>\n      <td>-0.130929</td>\n      <td>-0.985291</td>\n    </tr>\n    <tr>\n      <td>75%</td>\n      <td>0.769459</td>\n      <td>-0.606814</td>\n    </tr>\n    <tr>\n      <td>max</td>\n      <td>2.226883</td>\n      <td>0.358133</td>\n    </tr>\n  </tbody>\n</table>\n</div>"
     },
     "metadata": {},
     "output_type": "execute_result",
     "execution_count": 37
    }
   ],
   "source": [
    "x = np.random.normal(0, 1, 100)\n",
    "eps = np.random.normal(0, 0.25, 100)\n",
    "y = -1 + 0.5*x + eps\n",
    "y_2 = y-eps\n",
    "\n",
    "df = pd.DataFrame({'x':x, 'y':y})\n",
    "df.describe()"
   ],
   "metadata": {
    "collapsed": false,
    "pycharm": {
     "name": "#%%\n",
     "is_executing": false
    }
   }
  },
  {
   "cell_type": "markdown",
   "source": [
    "The length of y is 100 given 100 x and eps. Running the linear regression gives us the following.  \n",
    "We have $\\beta_0 = -1$ and $\\beta_1 = 0.5$"
   ],
   "metadata": {
    "collapsed": false,
    "pycharm": {
     "name": "#%% md\n"
    }
   }
  },
  {
   "cell_type": "markdown",
   "source": [
    "(d) Below is the scatterplot of the simulated data and the regression line."
   ],
   "metadata": {
    "collapsed": false,
    "pycharm": {
     "name": "#%% md\n"
    }
   }
  },
  {
   "cell_type": "code",
   "execution_count": 38,
   "outputs": [
    {
     "data": {
      "text/plain": "<matplotlib.axes._subplots.AxesSubplot at 0x21644186b08>"
     },
     "metadata": {},
     "output_type": "execute_result",
     "execution_count": 38
    },
    {
     "data": {
      "text/plain": "<Figure size 432x288 with 1 Axes>",
      "image/png": "[encoded data removed]"
     },
     "metadata": {},
     "output_type": "display_data"
    }
   ],
   "source": [
    "sns.regplot(x='x', y='y', data=df, fit_reg=True, order=1,scatter_kws={'color':'r', 's':9})"
   ],
   "metadata": {
    "collapsed": false,
    "pycharm": {
     "name": "#%%\n",
     "is_executing": false
    }
   }
  },
  {
   "cell_type": "markdown",
   "source": [
    "(e) Running the OLS gives us some good approximation."
   ],
   "metadata": {
    "collapsed": false,
    "pycharm": {
     "name": "#%% md\n"
    }
   }
  },
  {
   "cell_type": "code",
   "execution_count": 39,
   "outputs": [],
   "source": [
    "model = smf.ols('y ~ x', data=df)\n",
    "model_fit = model.fit()\n",
    "model_fit.summary()\n",
    "og = model_fit.summary().tables[1]"
   ],
   "metadata": {
    "collapsed": false,
    "pycharm": {
     "name": "#%%\n",
     "is_executing": false
    }
   }
  },
  {
   "cell_type": "markdown",
   "source": [
    "Both of our intercept and coefficient is quite close to the true values.\n",
    "(f) Drawing the population line"
   ],
   "metadata": {
    "collapsed": false,
    "pycharm": {
     "name": "#%% md\n"
    }
   }
  },
  {
   "cell_type": "code",
   "execution_count": 40,
   "outputs": [
    {
     "data": {
      "text/plain": "<matplotlib.axes._subplots.AxesSubplot at 0x216441e6d48>"
     },
     "metadata": {},
     "output_type": "execute_result",
     "execution_count": 40
    },
    {
     "data": {
      "text/plain": "<Figure size 432x288 with 1 Axes>",
      "image/png": "[encoded data removed]"
     },
     "metadata": {},
     "output_type": "display_data"
    }
   ],
   "source": [
    "sns.regplot(x='x', y='y', data=df, fit_reg=True, order=1,scatter_kws={'color':'r', 's':9})\n",
    "sns.lineplot(x=x, y =y_2, color='green')"
   ],
   "metadata": {
    "collapsed": false,
    "pycharm": {
     "name": "#%%\n",
     "is_executing": false
    }
   }
  },
  {
   "cell_type": "markdown",
   "source": [
    "(g) Fitting the x and x square term:"
   ],
   "metadata": {
    "collapsed": false,
    "pycharm": {
     "name": "#%% md\n"
    }
   }
  },
  {
   "cell_type": "code",
   "execution_count": 41,
   "outputs": [
    {
     "name": "stdout",
     "text": [
      "==================================================================================\n                     coef    std err          t      P>|t|      [0.025      0.975]\n----------------------------------------------------------------------------------\nIntercept         -0.9573      0.033    -28.607      0.000      -1.024      -0.891\nx                  0.5162      0.023     21.970      0.000       0.470       0.563\nnp.power(x, 2)    -0.0391      0.018     -2.163      0.033      -0.075      -0.003\n==================================================================================\n"
     ],
     "output_type": "stream"
    }
   ],
   "source": [
    "model = smf.ols('y ~ x + np.power(x, 2)', data=df)\n",
    "model_fit = model.fit()\n",
    "print(model_fit.summary().tables[1])"
   ],
   "metadata": {
    "collapsed": false,
    "pycharm": {
     "name": "#%%\n",
     "is_executing": false
    }
   }
  },
  {
   "cell_type": "markdown",
   "source": [
    "There is no evidence that including the square term improve out model fit. In fact, the p-value of \n",
    "the square term is quite large and statistically insignificant. Moreover, the polynomial captures\n",
    "more noise with the slight increase in R-square.\n",
    "\n",
    "(h) Decreasing the eps standard deviation will decrease the noise in the model."
   ],
   "metadata": {
    "collapsed": false,
    "pycharm": {
     "name": "#%% md\n"
    }
   }
  },
  {
   "cell_type": "code",
   "execution_count": 42,
   "outputs": [
    {
     "name": "stdout",
     "text": [
      "==============================================================================\n                 coef    std err          t      P>|t|      [0.025      0.975]\n------------------------------------------------------------------------------\nIntercept     -1.0058      0.005   -197.181      0.000      -1.016      -0.996\nx              0.5027      0.005    107.868      0.000       0.493       0.512\n==============================================================================\n"
     ],
     "output_type": "stream"
    },
    {
     "data": {
      "text/plain": "<matplotlib.axes._subplots.AxesSubplot at 0x2164523a648>"
     },
     "metadata": {},
     "output_type": "execute_result",
     "execution_count": 42
    },
    {
     "data": {
      "text/plain": "<Figure size 432x288 with 1 Axes>",
      "image/png": "[encoded data removed]"
     },
     "metadata": {},
     "output_type": "display_data"
    }
   ],
   "source": [
    "# Creating new data frame\n",
    "eps = np.random.normal(0, 0.05, 100)\n",
    "y = -1 + 0.5*x + eps\n",
    "y_2 = y-eps\n",
    "\n",
    "df = pd.DataFrame({'x':x, 'y':y})\n",
    "\n",
    "# fit model\n",
    "model = smf.ols('y ~ x', data=df)\n",
    "model_fit = model.fit()\n",
    "less = model_fit.summary().tables[1]\n",
    "print(less)\n",
    "\n",
    "# Lets see on graph\n",
    "sns.regplot(x='x', y='y', data=df, fit_reg=True, order=1,scatter_kws={'color':'r', 's':9})\n",
    "sns.lineplot(x=x, y =y_2, color='green')"
   ],
   "metadata": {
    "collapsed": false,
    "pycharm": {
     "name": "#%%\n",
     "is_executing": false
    }
   }
  },
  {
   "cell_type": "markdown",
   "source": [
    "As expected, the regression line is almost identical to our population line. \n",
    "\n",
    "(i) Lastly, increasing the deviation of eps to create more noise."
   ],
   "metadata": {
    "collapsed": false,
    "pycharm": {
     "name": "#%% md\n"
    }
   }
  },
  {
   "cell_type": "code",
   "execution_count": 43,
   "outputs": [
    {
     "name": "stdout",
     "text": [
      "==============================================================================\n                 coef    std err          t      P>|t|      [0.025      0.975]\n------------------------------------------------------------------------------\nIntercept     -0.9280      0.075    -12.309      0.000      -1.078      -0.778\nx              0.6201      0.069      9.003      0.000       0.483       0.757\n==============================================================================\n"
     ],
     "output_type": "stream"
    },
    {
     "data": {
      "text/plain": "<matplotlib.axes._subplots.AxesSubplot at 0x2164523cc08>"
     },
     "metadata": {},
     "output_type": "execute_result",
     "execution_count": 43
    },
    {
     "data": {
      "text/plain": "<Figure size 432x288 with 1 Axes>",
      "image/png": "[encoded data removed]"
     },
     "metadata": {},
     "output_type": "display_data"
    }
   ],
   "source": [
    "# Creating new data frame\n",
    "eps = np.random.normal(0, 0.75, 100)\n",
    "y = -1 + 0.5*x + eps\n",
    "y_2 = y-eps\n",
    "\n",
    "df = pd.DataFrame({'x':x, 'y':y})\n",
    "\n",
    "# fit model\n",
    "model = smf.ols('y ~ x', data=df)\n",
    "model_fit = model.fit()\n",
    "more = model_fit.summary().tables[1]\n",
    "print(more)\n",
    "\n",
    "# Lets see on graph\n",
    "sns.regplot(x='x', y='y', data=df, fit_reg=True, order=1,scatter_kws={'color':'r', 's':9})\n",
    "sns.lineplot(x=x, y =y_2, color='green')"
   ],
   "metadata": {
    "collapsed": false,
    "pycharm": {
     "name": "#%%\n",
     "is_executing": false
    }
   }
  },
  {
   "cell_type": "markdown",
   "source": [
    "The 2 lines are now quite visibly different. The noisier the data, the bigger our confidence interval\n",
    "become which is expected. "
   ],
   "metadata": {
    "collapsed": false,
    "pycharm": {
     "name": "#%% md\n"
    }
   }
  },
  {
   "cell_type": "code",
   "execution_count": 45,
   "outputs": [
    {
     "name": "stdout",
     "text": [
      "Original:\n==============================================================================\n                 coef    std err          t      P>|t|      [0.025      0.975]\n------------------------------------------------------------------------------\nIntercept     -1.0039      0.026    -38.445      0.000      -1.056      -0.952\nx              0.5202      0.024     21.806      0.000       0.473       0.568\n==============================================================================\nLess Noise:\n==============================================================================\n                 coef    std err          t      P>|t|      [0.025      0.975]\n------------------------------------------------------------------------------\nIntercept     -1.0058      0.005   -197.181      0.000      -1.016      -0.996\nx              0.5027      0.005    107.868      0.000       0.493       0.512\n==============================================================================\nMore Noise:\n==============================================================================\n                 coef    std err          t      P>|t|      [0.025      0.975]\n------------------------------------------------------------------------------\nIntercept     -0.9280      0.075    -12.309      0.000      -1.078      -0.778\nx              0.6201      0.069      9.003      0.000       0.483       0.757\n==============================================================================\n\n"
     ],
     "output_type": "stream"
    }
   ],
   "source": [
    "print(f'Original:\\n{og}\\nLess Noise:\\n{less}\\nMore Noise:\\n{more}\\n')\n"
   ],
   "metadata": {
    "collapsed": false,
    "pycharm": {
     "name": "#%%\n",
     "is_executing": false
    }
   }
  }
 ],
 "metadata": {
  "kernelspec": {
   "display_name": "Python 3",
   "language": "python",
   "name": "python3"
  },
  "language_info": {
   "codemirror_mode": {
    "name": "ipython",
    "version": 2
   },
   "file_extension": ".py",
   "mimetype": "text/x-python",
   "name": "python",
   "nbconvert_exporter": "python",
   "pygments_lexer": "ipython2",
   "version": "2.7.6"
  },
  "pycharm": {
   "stem_cell": {
    "cell_type": "raw",
    "source": [],
    "metadata": {
     "collapsed": false
    }
   }
  }
 },
 "nbformat": 4,
 "nbformat_minor": 0
}
