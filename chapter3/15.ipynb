{
 "cells": [
  {
   "cell_type": "markdown",
   "source": [
    "## Applied - Question 15\n",
    "\n",
    "The question involve Boston dataset - a data frame with 506 observations and 14 variables.\n",
    "The data was originally published by Harrison, \n",
    "D. and Rubinfeld, D.L. `Hedonic prices and the demand for clean air', \n",
    "J. Environ. Economics & Management, vol.5, 81-102, 1978.\n",
    "\n",
    "There are 14 attributes in each case of the dataset. They are:\n",
    "\n",
    "  1. CRIM - per capita crime rate by town  \n",
    "  2. ZN - proportion of residential land zoned for lots over 25,000 sq.ft.\n",
    "  3. INDUS - proportion of non-retail business acres per town.\n",
    "  4. CHAS - Charles River dummy variable (1 if tract bounds river; 0 otherwise)\n",
    "  5. NOX - nitric oxides concentration (parts per 10 million)\n",
    "  6. RM - average number of rooms per dwelling\n",
    "  7. AGE - proportion of owner-occupied units built prior to 1940\n",
    "  8. DIS - weighted distances to five Boston employment centres\n",
    "  9. RAD - index of accessibility to radial highways\n",
    "  10. TAX - full-value property-tax rate per $10,000\n",
    "  11. PTRATIO - pupil-teacher ratio by town\n",
    "  12. B - 1000(Bk - 0.63)^2 where Bk is the proportion of blacks by town\n",
    "  13. LSTAT - % lower status of the population\n",
    "  14. MEDV - Median value of owner-occupied homes in $1000's\n",
    "\n",
    "We will now try to predict per capita crime rate\n",
    "using the other variables in this data set. In other words, per capita\n",
    "crime rate is the response, and the other variables are the predictors.\n",
    "\n",
    "Import block"
   ],
   "metadata": {
    "collapsed": false
   }
  },
  {
   "cell_type": "code",
   "execution_count": 2,
   "outputs": [],
   "source": [
    "import numpy as np\n",
    "import pandas as pd\n",
    "import seaborn as sns\n",
    "import matplotlib.pyplot as plt\n",
    "import statsmodels.formula.api as smf\n",
    "\n",
    "%matplotlib inline\n",
    "plt.style.use('seaborn-white')"
   ],
   "metadata": {
    "collapsed": false,
    "pycharm": {
     "name": "#%% \n",
     "is_executing": false
    }
   }
  },
  {
   "cell_type": "markdown",
   "source": [
    "Getting the data"
   ],
   "metadata": {
    "collapsed": false,
    "pycharm": {
     "name": "#%% md\n"
    }
   }
  },
  {
   "cell_type": "code",
   "execution_count": 3,
   "outputs": [
    {
     "name": "stdout",
     "text": [
      "<class 'pandas.core.frame.DataFrame'>\nRangeIndex: 506 entries, 0 to 505\nData columns (total 14 columns):\ncrim       506 non-null float64\nzn         506 non-null float64\nindus      506 non-null float64\nchas       506 non-null int64\nnox        506 non-null float64\nrm         506 non-null float64\nage        506 non-null float64\ndis        506 non-null float64\nrad        506 non-null int64\ntax        506 non-null int64\nptratio    506 non-null float64\nblack      506 non-null float64\nlstat      506 non-null float64\nmedv       506 non-null float64\ndtypes: float64(11), int64(3)\nmemory usage: 55.5 KB\n"
     ],
     "output_type": "stream"
    }
   ],
   "source": [
    "data_path = 'D:\\\\PycharmProjects\\\\ISLR\\\\data\\\\'\n",
    "boston = pd.read_csv(f'{data_path}Boston.csv')\n",
    "boston.info()\n"
   ],
   "metadata": {
    "collapsed": false,
    "pycharm": {
     "name": "#%%\n",
     "is_executing": false
    }
   }
  },
  {
   "cell_type": "markdown",
   "source": [
    "Running each response vs predictor is very tedious process. But lets power on!"
   ],
   "metadata": {
    "collapsed": false,
    "pycharm": {
     "name": "#%% md\n"
    }
   }
  },
  {
   "cell_type": "code",
   "execution_count": 4,
   "outputs": [
    {
     "name": "stdout",
     "text": [
      "Intercept    4.453694\nzn          -0.073935\ndtype: float64\n\nIntercept   -2.063743\nindus        0.509776\ndtype: float64\n\nchas is not statistically significant\n\nIntercept   -13.719882\nnox          31.248531\ndtype: float64\n\nIntercept    20.481804\nrm           -2.684051\ndtype: float64\n\nIntercept   -3.777906\nage          0.107786\ndtype: float64\n\nIntercept    9.499262\ndis         -1.550902\ndtype: float64\n\nIntercept   -2.287159\nrad          0.617911\ndtype: float64\n\nIntercept   -8.528369\ntax          0.029742\ndtype: float64\n\nIntercept   -17.646933\nptratio       1.151983\ndtype: float64\n\nIntercept    16.553529\nblack        -0.036280\ndtype: float64\n\nIntercept   -3.330538\nlstat        0.548805\ndtype: float64\n\nIntercept    11.796536\nmedv         -0.363160\ndtype: float64\n\n"
     ],
     "output_type": "stream"
    }
   ],
   "source": [
    "uni_coef = []\n",
    "for i in range(1, 14):\n",
    "    var = boston.columns[i]\n",
    "    model_fit = smf.ols(f'crim ~ {var}', data=boston).fit()\n",
    "    # Create uni_coef for the next question\n",
    "    uni_coef.append(model_fit.params[f'{var}'])\n",
    "    if model_fit.pvalues[f'{var}'] < 0.05:\n",
    "        print(model_fit.params)\n",
    "    else:\n",
    "        print(f'{var} is not statistically significant')\n",
    "    print()"
   ],
   "metadata": {
    "collapsed": false,
    "pycharm": {
     "name": "#%%\n",
     "is_executing": false
    }
   }
  },
  {
   "cell_type": "markdown",
   "source": [
    "Nice! So only chas - bounded by Charles river, variable is not statistically significant assuming \n",
    "the $\\alpha = 0.05$\n",
    "\n",
    "(b) Lets ram all of our predictor in there now!"
   ],
   "metadata": {
    "collapsed": false,
    "pycharm": {
     "name": "#%% md\n"
    }
   }
  },
  {
   "cell_type": "code",
   "execution_count": 5,
   "outputs": [
    {
     "name": "stdout",
     "text": [
      "                            OLS Regression Results                            \n==============================================================================\nDep. Variable:                   crim   R-squared:                       0.454\nModel:                            OLS   Adj. R-squared:                  0.440\nMethod:                 Least Squares   F-statistic:                     31.47\nDate:                Fri, 18 Oct 2019   Prob (F-statistic):           1.57e-56\nTime:                        06:23:58   Log-Likelihood:                -1653.3\nNo. Observations:                 506   AIC:                             3335.\nDf Residuals:                     492   BIC:                             3394.\nDf Model:                          13                                         \nCovariance Type:            nonrobust                                         \n==============================================================================\n                 coef    std err          t      P>|t|      [0.025      0.975]\n------------------------------------------------------------------------------\nIntercept     17.0332      7.235      2.354      0.019       2.818      31.248\nzn             0.0449      0.019      2.394      0.017       0.008       0.082\nindus         -0.0639      0.083     -0.766      0.444      -0.228       0.100\nchas          -0.7491      1.180     -0.635      0.526      -3.068       1.570\nnox          -10.3135      5.276     -1.955      0.051     -20.679       0.052\nrm             0.4301      0.613      0.702      0.483      -0.774       1.634\nage            0.0015      0.018      0.081      0.935      -0.034       0.037\ndis           -0.9872      0.282     -3.503      0.001      -1.541      -0.433\nrad            0.5882      0.088      6.680      0.000       0.415       0.761\ntax           -0.0038      0.005     -0.733      0.464      -0.014       0.006\nptratio       -0.2711      0.186     -1.454      0.147      -0.637       0.095\nblack         -0.0075      0.004     -2.052      0.041      -0.015      -0.000\nlstat          0.1262      0.076      1.667      0.096      -0.023       0.275\nmedv          -0.1989      0.061     -3.287      0.001      -0.318      -0.080\n==============================================================================\nOmnibus:                      666.613   Durbin-Watson:                   1.519\nProb(Omnibus):                  0.000   Jarque-Bera (JB):            84887.625\nSkew:                           6.617   Prob(JB):                         0.00\nKurtosis:                      65.058   Cond. No.                     1.58e+04\n==============================================================================\n\nWarnings:\n[1] Standard Errors assume that the covariance matrix of the errors is correctly specified.\n[2] The condition number is large, 1.58e+04. This might indicate that there are\nstrong multicollinearity or other numerical problems.\n"
     ],
     "output_type": "stream"
    }
   ],
   "source": [
    "var_all = '+'.join(boston.columns.drop('crim'))\n",
    "model = smf.ols(f'crim ~ {var_all}', data=boston)\n",
    "model_fit = model.fit()\n",
    "print(model_fit.summary())\n",
    "\n",
    "multi_coef = model_fit.params[1:]"
   ],
   "metadata": {
    "collapsed": false,
    "pycharm": {
     "name": "#%%\n",
     "is_executing": false
    }
   }
  },
  {
   "cell_type": "markdown",
   "source": [
    "First, we observe the F-statistic is not much larger than 1 and its associated p-values is near 0 \n",
    "which is an ok sign.\n",
    "\n",
    "Second, using null hypothesis $H_0 : \\hat{\\beta_i} = 0$ we can reject the following variables.\n",
    " 1. zn\n",
    " 2. dis\n",
    " 3. rad\n",
    " 4. black\n",
    " 5. medv\n",
    "\n",
    "(c)"
   ],
   "metadata": {
    "collapsed": false,
    "pycharm": {
     "name": "#%% md\n"
    }
   }
  },
  {
   "cell_type": "code",
   "execution_count": 6,
   "outputs": [
    {
     "data": {
      "text/plain": "<matplotlib.axes._subplots.AxesSubplot at 0x27758997c08>"
     },
     "metadata": {},
     "output_type": "execute_result",
     "execution_count": 6
    },
    {
     "data": {
      "text/plain": "<Figure size 432x288 with 1 Axes>",
      "image/png": "[encoded data removed]"
     },
     "metadata": {
      "needs_background": "light"
     },
     "output_type": "display_data"
    }
   ],
   "source": [
    "sns.scatterplot(x=uni_coef, y=multi_coef, label=multi_coef)"
   ],
   "metadata": {
    "collapsed": false,
    "pycharm": {
     "name": "#%%\n",
     "is_executing": false
    }
   }
  },
  {
   "cell_type": "markdown",
   "source": [
    "(d) Again fitting multiple polynomial is tough but lets employ the same tactic."
   ],
   "metadata": {
    "collapsed": false,
    "pycharm": {
     "name": "#%% md\n"
    }
   }
  },
  {
   "cell_type": "code",
   "execution_count": 17,
   "outputs": [
    {
     "name": "stdout",
     "text": [
      "zn coef : -0.33218841472190114\nnp.power(zn, 2) is not statistically significant\nnp.power(zn, 3) is not statistically significant\n\nindus coef : -1.9652129343068996\nnp.power(indus, 2) coef : 0.2519372979273263\nnp.power(indus, 3) coef : -0.0069760085402142975\n\nchas is not statistically significant\nnp.power(chas, 2) is not statistically significant\nnp.power(chas, 3) is not statistically significant\n\nnox coef : -1279.3712516622036\nnp.power(nox, 2) coef : 2248.544052564049\nnp.power(nox, 3) coef : -1245.702873746856\n\nrm is not statistically significant\nnp.power(rm, 2) is not statistically significant\nnp.power(rm, 3) is not statistically significant\n\nage is not statistically significant\nnp.power(age, 2) coef : -0.007229595575667324\nnp.power(age, 3) coef : 5.745307039658912e-05\n\ndis coef : -15.554353488051364\nnp.power(dis, 2) coef : 2.4520721695743637\nnp.power(dis, 3) coef : -0.11859863690267453\n\nrad is not statistically significant\nnp.power(rad, 2) is not statistically significant\nnp.power(rad, 3) is not statistically significant\n\ntax is not statistically significant\nnp.power(tax, 2) is not statistically significant\nnp.power(tax, 3) is not statistically significant\n\nptratio coef : -82.36053772097249\nnp.power(ptratio, 2) coef : 4.635347225629412\nnp.power(ptratio, 3) coef : -0.08476032241903181\n\nblack is not statistically significant\nnp.power(black, 2) is not statistically significant\nnp.power(black, 3) is not statistically significant\n\nlstat is not statistically significant\nnp.power(lstat, 2) is not statistically significant\nnp.power(lstat, 3) is not statistically significant\n\nmedv coef : -5.094830543445191\nnp.power(medv, 2) coef : 0.15549649000050944\nnp.power(medv, 3) coef : -0.001490102771832663\n\n"
     ],
     "output_type": "stream"
    }
   ],
   "source": [
    "for i in range(1, 14):\n",
    "    var = boston.columns[i]\n",
    "    p1 = f'{var}'\n",
    "    p2 = f'np.power({var}, 2)'\n",
    "    p3 = f'np.power({var}, 3)'\n",
    "    model_fit = smf.ols(f'crim ~ {var} + {p2} + {p3}', data=boston).fit()\n",
    "    for p in [p1, p2, p3]:\n",
    "        if model_fit.pvalues[p] < 0.05:\n",
    "            print(p + ' coef : ' + str(model_fit.params[p]))\n",
    "        else:\n",
    "            print(f'{p} is not statistically significant')\n",
    "    print()\n",
    "    "
   ],
   "metadata": {
    "collapsed": false,
    "pycharm": {
     "name": "#%%\n",
     "is_executing": false
    }
   }
  },
  {
   "cell_type": "markdown",
   "source": [
    "YAY!\n",
    "\n",
    "Note that we are fitting RAW polynomial as asked by the author. If however we want to use polynomial\n",
    "curve function, more changes need to be made to the process above. "
   ],
   "metadata": {
    "collapsed": false,
    "pycharm": {
     "name": "#%% md\n",
     "is_executing": false
    }
   }
  }
 ],
 "metadata": {
  "kernelspec": {
   "display_name": "Python 3",
   "language": "python",
   "name": "python3"
  },
  "language_info": {
   "codemirror_mode": {
    "name": "ipython",
    "version": 2
   },
   "file_extension": ".py",
   "mimetype": "text/x-python",
   "name": "python",
   "nbconvert_exporter": "python",
   "pygments_lexer": "ipython2",
   "version": "2.7.6"
  },
  "pycharm": {
   "stem_cell": {
    "cell_type": "raw",
    "source": [],
    "metadata": {
     "collapsed": false
    }
   }
  }
 },
 "nbformat": 4,
 "nbformat_minor": 0
}
