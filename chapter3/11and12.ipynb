{
 "cells": [
  {
   "cell_type": "markdown",
   "source": [
    "## Applied - Question 11\n",
    "\n",
    "In this problem we will investigate the t-statistic for the null hypothesis $\\beta_0 = 0$ in simple\n",
    "linear regression without intercept. Lets start with import blocks"
   ],
   "metadata": {
    "collapsed": false
   }
  },
  {
   "cell_type": "code",
   "execution_count": 1,
   "outputs": [],
   "source": [
    "import numpy as np\n",
    "import pandas as pd\n",
    "import statsmodels.formula.api as smf\n",
    "import seaborn as sns\n",
    "import matplotlib.pyplot as plt\n",
    "\n",
    "%matplotlib inline\n",
    "plt.style.use('seaborn-white')"
   ],
   "metadata": {
    "collapsed": false,
    "pycharm": {
     "name": "#%%\n",
     "is_executing": false
    }
   }
  },
  {
   "cell_type": "markdown",
   "source": [
    "Creating data and a simple scatter plot"
   ],
   "metadata": {
    "collapsed": false,
    "pycharm": {
     "name": "#%% md\n"
    }
   }
  },
  {
   "cell_type": "code",
   "execution_count": 2,
   "outputs": [
    {
     "data": {
      "text/plain": "          y         x\n0  0.529300  0.650073\n1 -0.162872 -1.112431\n2 -6.043311 -2.649434\n3  1.564844  0.754905\n4  2.793669  1.225390",
      "text/html": "<div>\n<style scoped>\n    .dataframe tbody tr th:only-of-type {\n        vertical-align: middle;\n    }\n\n    .dataframe tbody tr th {\n        vertical-align: top;\n    }\n\n    .dataframe thead th {\n        text-align: right;\n    }\n</style>\n<table border=\"1\" class=\"dataframe\">\n  <thead>\n    <tr style=\"text-align: right;\">\n      <th></th>\n      <th>y</th>\n      <th>x</th>\n    </tr>\n  </thead>\n  <tbody>\n    <tr>\n      <td>0</td>\n      <td>0.529300</td>\n      <td>0.650073</td>\n    </tr>\n    <tr>\n      <td>1</td>\n      <td>-0.162872</td>\n      <td>-1.112431</td>\n    </tr>\n    <tr>\n      <td>2</td>\n      <td>-6.043311</td>\n      <td>-2.649434</td>\n    </tr>\n    <tr>\n      <td>3</td>\n      <td>1.564844</td>\n      <td>0.754905</td>\n    </tr>\n    <tr>\n      <td>4</td>\n      <td>2.793669</td>\n      <td>1.225390</td>\n    </tr>\n  </tbody>\n</table>\n</div>"
     },
     "metadata": {},
     "output_type": "execute_result",
     "execution_count": 2
    }
   ],
   "source": [
    "x = np.random.normal(0, 1, 100)\n",
    "y = 2*x + np.random.normal(0, 1, 100)\n",
    "df = pd.DataFrame({'y':y, 'x':x})\n",
    "df.head()"
   ],
   "metadata": {
    "collapsed": false,
    "pycharm": {
     "name": "#%%\n",
     "is_executing": false
    }
   }
  },
  {
   "cell_type": "code",
   "execution_count": 3,
   "outputs": [
    {
     "data": {
      "text/plain": "Text(0, 0.5, 'y')"
     },
     "metadata": {},
     "output_type": "execute_result",
     "execution_count": 3
    },
    {
     "data": {
      "text/plain": "<Figure size 432x288 with 1 Axes>",
      "image/png": "[encoded data removed]"
     },
     "metadata": {
      "needs_background": "light"
     },
     "output_type": "display_data"
    }
   ],
   "source": [
    "fig = sns.scatterplot(x=x, y=y, data=df)\n",
    "fig.axes.set_title('y vs. x')\n",
    "fig.axes.set_xlabel('x')\n",
    "fig.axes.set_ylabel('y')"
   ],
   "metadata": {
    "collapsed": false,
    "pycharm": {
     "name": "#%%\n",
     "is_executing": false
    }
   }
  },
  {
   "cell_type": "markdown",
   "source": [
    "(a) Simple linear without intercept or intercept = 0"
   ],
   "metadata": {
    "collapsed": false,
    "pycharm": {
     "name": "#%% md\n"
    }
   }
  },
  {
   "cell_type": "code",
   "execution_count": 4,
   "outputs": [
    {
     "data": {
      "text/plain": "<class 'statsmodels.iolib.summary.Summary'>\n\"\"\"\n                                 OLS Regression Results                                \n=======================================================================================\nDep. Variable:                      y   R-squared (uncentered):                   0.814\nModel:                            OLS   Adj. R-squared (uncentered):              0.812\nMethod:                 Least Squares   F-statistic:                              434.1\nDate:                Wed, 16 Oct 2019   Prob (F-statistic):                    5.66e-38\nTime:                        21:28:35   Log-Likelihood:                         -136.03\nNo. Observations:                 100   AIC:                                      274.1\nDf Residuals:                      99   BIC:                                      276.7\nDf Model:                           1                                                  \nCovariance Type:            nonrobust                                                  \n==============================================================================\n                 coef    std err          t      P>|t|      [0.025      0.975]\n------------------------------------------------------------------------------\nx              1.9956      0.096     20.835      0.000       1.806       2.186\n==============================================================================\nOmnibus:                        0.392   Durbin-Watson:                   1.814\nProb(Omnibus):                  0.822   Jarque-Bera (JB):                0.556\nSkew:                          -0.078   Prob(JB):                        0.757\nKurtosis:                       2.669   Cond. No.                         1.00\n==============================================================================\n\nWarnings:\n[1] Standard Errors assume that the covariance matrix of the errors is correctly specified.\n\"\"\"",
      "text/html": "<table class=\"simpletable\">\n<caption>OLS Regression Results</caption>\n<tr>\n  <th>Dep. Variable:</th>            <td>y</td>        <th>  R-squared (uncentered):</th>      <td>   0.814</td>\n</tr>\n<tr>\n  <th>Model:</th>                   <td>OLS</td>       <th>  Adj. R-squared (uncentered):</th> <td>   0.812</td>\n</tr>\n<tr>\n  <th>Method:</th>             <td>Least Squares</td>  <th>  F-statistic:       </th>          <td>   434.1</td>\n</tr>\n<tr>\n  <th>Date:</th>             <td>Wed, 16 Oct 2019</td> <th>  Prob (F-statistic):</th>          <td>5.66e-38</td>\n</tr>\n<tr>\n  <th>Time:</th>                 <td>21:28:35</td>     <th>  Log-Likelihood:    </th>          <td> -136.03</td>\n</tr>\n<tr>\n  <th>No. Observations:</th>      <td>   100</td>      <th>  AIC:               </th>          <td>   274.1</td>\n</tr>\n<tr>\n  <th>Df Residuals:</th>          <td>    99</td>      <th>  BIC:               </th>          <td>   276.7</td>\n</tr>\n<tr>\n  <th>Df Model:</th>              <td>     1</td>      <th>                     </th>              <td> </td>   \n</tr>\n<tr>\n  <th>Covariance Type:</th>      <td>nonrobust</td>    <th>                     </th>              <td> </td>   \n</tr>\n</table>\n<table class=\"simpletable\">\n<tr>\n  <td></td>     <th>coef</th>     <th>std err</th>      <th>t</th>      <th>P>|t|</th>  <th>[0.025</th>    <th>0.975]</th>  \n</tr>\n<tr>\n  <th>x</th> <td>    1.9956</td> <td>    0.096</td> <td>   20.835</td> <td> 0.000</td> <td>    1.806</td> <td>    2.186</td>\n</tr>\n</table>\n<table class=\"simpletable\">\n<tr>\n  <th>Omnibus:</th>       <td> 0.392</td> <th>  Durbin-Watson:     </th> <td>   1.814</td>\n</tr>\n<tr>\n  <th>Prob(Omnibus):</th> <td> 0.822</td> <th>  Jarque-Bera (JB):  </th> <td>   0.556</td>\n</tr>\n<tr>\n  <th>Skew:</th>          <td>-0.078</td> <th>  Prob(JB):          </th> <td>   0.757</td>\n</tr>\n<tr>\n  <th>Kurtosis:</th>      <td> 2.669</td> <th>  Cond. No.          </th> <td>    1.00</td>\n</tr>\n</table><br/><br/>Warnings:<br/>[1] Standard Errors assume that the covariance matrix of the errors is correctly specified."
     },
     "metadata": {},
     "output_type": "execute_result",
     "execution_count": 4
    }
   ],
   "source": [
    "model = smf.ols('y ~ x - 1', data=df)\n",
    "model_fit = model.fit()\n",
    "model_fit.summary()"
   ],
   "metadata": {
    "collapsed": false,
    "pycharm": {
     "name": "#%%\n",
     "is_executing": false
    }
   }
  },
  {
   "cell_type": "markdown",
   "source": [
    "We have $\\hat{\\beta} = 1.9495$ with standard error of 0.101. This coefficient is statistically significant\n",
    "based on 3 factors: F-statistic >> 1, F-statistic p-value is almost 0, p-value of $\\hat{\\beta}$ is near 0.  \n",
    "Null hypothesis is rejected."
   ],
   "metadata": {
    "collapsed": false,
    "pycharm": {
     "name": "#%% md\n"
    }
   }
  },
  {
   "cell_type": "markdown",
   "source": [
    "The simple linear regression of x onto y without intercept."
   ],
   "metadata": {
    "collapsed": false,
    "pycharm": {
     "name": "#%% md\n"
    }
   }
  },
  {
   "cell_type": "code",
   "execution_count": 5,
   "outputs": [
    {
     "data": {
      "text/plain": "<class 'statsmodels.iolib.summary.Summary'>\n\"\"\"\n                                 OLS Regression Results                                \n=======================================================================================\nDep. Variable:                      x   R-squared (uncentered):                   0.814\nModel:                            OLS   Adj. R-squared (uncentered):              0.812\nMethod:                 Least Squares   F-statistic:                              434.1\nDate:                Wed, 16 Oct 2019   Prob (F-statistic):                    5.66e-38\nTime:                        21:28:35   Log-Likelihood:                         -56.669\nNo. Observations:                 100   AIC:                                      115.3\nDf Residuals:                      99   BIC:                                      117.9\nDf Model:                           1                                                  \nCovariance Type:            nonrobust                                                  \n==============================================================================\n                 coef    std err          t      P>|t|      [0.025      0.975]\n------------------------------------------------------------------------------\ny              0.4081      0.020     20.835      0.000       0.369       0.447\n==============================================================================\nOmnibus:                        0.474   Durbin-Watson:                   1.852\nProb(Omnibus):                  0.789   Jarque-Bera (JB):                0.494\nSkew:                          -0.159   Prob(JB):                        0.781\nKurtosis:                       2.869   Cond. No.                         1.00\n==============================================================================\n\nWarnings:\n[1] Standard Errors assume that the covariance matrix of the errors is correctly specified.\n\"\"\"",
      "text/html": "<table class=\"simpletable\">\n<caption>OLS Regression Results</caption>\n<tr>\n  <th>Dep. Variable:</th>            <td>x</td>        <th>  R-squared (uncentered):</th>      <td>   0.814</td>\n</tr>\n<tr>\n  <th>Model:</th>                   <td>OLS</td>       <th>  Adj. R-squared (uncentered):</th> <td>   0.812</td>\n</tr>\n<tr>\n  <th>Method:</th>             <td>Least Squares</td>  <th>  F-statistic:       </th>          <td>   434.1</td>\n</tr>\n<tr>\n  <th>Date:</th>             <td>Wed, 16 Oct 2019</td> <th>  Prob (F-statistic):</th>          <td>5.66e-38</td>\n</tr>\n<tr>\n  <th>Time:</th>                 <td>21:28:35</td>     <th>  Log-Likelihood:    </th>          <td> -56.669</td>\n</tr>\n<tr>\n  <th>No. Observations:</th>      <td>   100</td>      <th>  AIC:               </th>          <td>   115.3</td>\n</tr>\n<tr>\n  <th>Df Residuals:</th>          <td>    99</td>      <th>  BIC:               </th>          <td>   117.9</td>\n</tr>\n<tr>\n  <th>Df Model:</th>              <td>     1</td>      <th>                     </th>              <td> </td>   \n</tr>\n<tr>\n  <th>Covariance Type:</th>      <td>nonrobust</td>    <th>                     </th>              <td> </td>   \n</tr>\n</table>\n<table class=\"simpletable\">\n<tr>\n  <td></td>     <th>coef</th>     <th>std err</th>      <th>t</th>      <th>P>|t|</th>  <th>[0.025</th>    <th>0.975]</th>  \n</tr>\n<tr>\n  <th>y</th> <td>    0.4081</td> <td>    0.020</td> <td>   20.835</td> <td> 0.000</td> <td>    0.369</td> <td>    0.447</td>\n</tr>\n</table>\n<table class=\"simpletable\">\n<tr>\n  <th>Omnibus:</th>       <td> 0.474</td> <th>  Durbin-Watson:     </th> <td>   1.852</td>\n</tr>\n<tr>\n  <th>Prob(Omnibus):</th> <td> 0.789</td> <th>  Jarque-Bera (JB):  </th> <td>   0.494</td>\n</tr>\n<tr>\n  <th>Skew:</th>          <td>-0.159</td> <th>  Prob(JB):          </th> <td>   0.781</td>\n</tr>\n<tr>\n  <th>Kurtosis:</th>      <td> 2.869</td> <th>  Cond. No.          </th> <td>    1.00</td>\n</tr>\n</table><br/><br/>Warnings:<br/>[1] Standard Errors assume that the covariance matrix of the errors is correctly specified."
     },
     "metadata": {},
     "output_type": "execute_result",
     "execution_count": 5
    }
   ],
   "source": [
    "model = smf.ols('x ~ y - 1', data=df)\n",
    "model_fit = model.fit()\n",
    "model_fit.summary()"
   ],
   "metadata": {
    "collapsed": false,
    "pycharm": {
     "name": "#%%\n",
     "is_executing": false
    }
   }
  },
  {
   "cell_type": "markdown",
   "source": [
    "We have $\\hat{\\beta}$ with standard error given above. This coefficient is statistically significant\n",
    "based on 3 factors: F-statistic >> 1, F-statistic p-value is almost 0, p-value of $\\hat{\\beta}$ is near 0.  \n",
    "Null hypothesis is rejected.\n",
    "\n",
    "The results in (a) and (b) reflect the same line/formula that we created. "
   ],
   "metadata": {
    "collapsed": false,
    "pycharm": {
     "name": "#%% md\n"
    }
   }
  },
  {
   "cell_type": "markdown",
   "source": [
    "(d) t-statistic is the same as above summary"
   ],
   "metadata": {
    "collapsed": false,
    "pycharm": {
     "name": "#%% md\n"
    }
   }
  },
  {
   "cell_type": "code",
   "execution_count": 6,
   "outputs": [
    {
     "name": "stdout",
     "text": [
      "t-statistic = 20.835459194575197\n"
     ],
     "output_type": "stream"
    }
   ],
   "source": [
    "from IPython.display import Image\n",
    "Image(\"11d.jpg\")\n",
    "\n",
    "# t-statistic\n",
    "t = (np.sqrt(len(x)-1) * sum(x*y)) / (np.sqrt(sum(x*x) * sum(y*y) - (sum(x*y))**2))\n",
    "print(f't-statistic = {t}')"
   ],
   "metadata": {
    "collapsed": false,
    "pycharm": {
     "name": "#%%\n",
     "is_executing": false
    }
   }
  },
  {
   "cell_type": "markdown",
   "source": [
    "(e) Since they are interchangeable in the formula, swiching y onto x and x onto y will give the same\n",
    "t-statistic\n",
    "\n",
    "(f) While algebra will be an easy proof for this, lets try to use python for this."
   ],
   "metadata": {
    "collapsed": false,
    "pycharm": {
     "name": "#%% md\n"
    }
   }
  },
  {
   "cell_type": "code",
   "execution_count": 7,
   "outputs": [
    {
     "data": {
      "text/plain": "<class 'statsmodels.iolib.table.SimpleTable'>",
      "text/html": "<table class=\"simpletable\">\n<tr>\n      <td></td>         <th>coef</th>     <th>std err</th>      <th>t</th>      <th>P>|t|</th>  <th>[0.025</th>    <th>0.975]</th>  \n</tr>\n<tr>\n  <th>Intercept</th> <td>    0.0674</td> <td>    0.095</td> <td>    0.707</td> <td> 0.481</td> <td>   -0.122</td> <td>    0.257</td>\n</tr>\n<tr>\n  <th>x</th>         <td>    2.0016</td> <td>    0.096</td> <td>   20.763</td> <td> 0.000</td> <td>    1.810</td> <td>    2.193</td>\n</tr>\n</table>"
     },
     "metadata": {},
     "output_type": "execute_result",
     "execution_count": 7
    }
   ],
   "source": [
    "model = smf.ols('y ~ x', data=df)\n",
    "model_fit = model.fit()\n",
    "model_fit.summary().tables[1]"
   ],
   "metadata": {
    "collapsed": false,
    "pycharm": {
     "name": "#%%\n",
     "is_executing": false
    }
   }
  },
  {
   "cell_type": "code",
   "execution_count": 8,
   "outputs": [
    {
     "data": {
      "text/plain": "<class 'statsmodels.iolib.table.SimpleTable'>",
      "text/html": "<table class=\"simpletable\">\n<tr>\n      <td></td>         <th>coef</th>     <th>std err</th>      <th>t</th>      <th>P>|t|</th>  <th>[0.025</th>    <th>0.975]</th>  \n</tr>\n<tr>\n  <th>Intercept</th> <td>   -0.0438</td> <td>    0.043</td> <td>   -1.022</td> <td> 0.309</td> <td>   -0.129</td> <td>    0.041</td>\n</tr>\n<tr>\n  <th>y</th>         <td>    0.4071</td> <td>    0.020</td> <td>   20.763</td> <td> 0.000</td> <td>    0.368</td> <td>    0.446</td>\n</tr>\n</table>"
     },
     "metadata": {},
     "output_type": "execute_result",
     "execution_count": 8
    }
   ],
   "source": [
    "model = smf.ols('x ~ y', data=df)\n",
    "model_fit = model.fit()\n",
    "model_fit.summary().tables[1]"
   ],
   "metadata": {
    "collapsed": false,
    "pycharm": {
     "name": "#%%\n",
     "is_executing": false
    }
   }
  },
  {
   "cell_type": "markdown",
   "source": [
    "## Question 12\n",
    "\n",
    "(a) We have $\\hat{\\beta} = \\frac{\\sum x_i y_i}{\\sum x_i^2}$ given by 3.38. Thus, the the coefficient for \n",
    "y onto x and x on to y is equal if and only if $\\sum x_i^2 = \\sum y_i^2$"
   ],
   "metadata": {
    "collapsed": false
   }
  },
  {
   "cell_type": "markdown",
   "source": [
    "(b) For a different coefficient, we just need a scalar. Lets $y = 2x$"
   ],
   "metadata": {
    "collapsed": false,
    "pycharm": {
     "name": "#%% md\n"
    }
   }
  },
  {
   "cell_type": "code",
   "execution_count": 11,
   "outputs": [
    {
     "data": {
      "text/plain": "x    5.0\ndtype: float64"
     },
     "metadata": {},
     "output_type": "execute_result",
     "execution_count": 11
    }
   ],
   "source": [
    "y = 5*x\n",
    "df = pd.DataFrame({'y':y, 'x':x})\n",
    "\n",
    "model = smf.ols('y ~ x - 1', data=df)\n",
    "model_fit = model.fit()\n",
    "model_fit.params"
   ],
   "metadata": {
    "collapsed": false,
    "pycharm": {
     "name": "#%%\n",
     "is_executing": false
    }
   }
  },
  {
   "cell_type": "code",
   "execution_count": 12,
   "outputs": [
    {
     "data": {
      "text/plain": "y    0.2\ndtype: float64"
     },
     "metadata": {},
     "output_type": "execute_result",
     "execution_count": 12
    }
   ],
   "source": [
    "model = smf.ols('x ~ y - 1', data=df)\n",
    "model_fit = model.fit()\n",
    "model_fit.params"
   ],
   "metadata": {
    "collapsed": false,
    "pycharm": {
     "name": "#%%\n",
     "is_executing": false
    }
   }
  },
  {
   "cell_type": "markdown",
   "source": [
    "(c) For the same coefficient, the easiest way is to sample y from x. This will make sure their \n",
    "sum of squares are the same."
   ],
   "metadata": {
    "collapsed": false,
    "pycharm": {
     "name": "#%% md\n"
    }
   }
  },
  {
   "cell_type": "code",
   "execution_count": 15,
   "outputs": [
    {
     "data": {
      "text/plain": "x    0.129618\ndtype: float64"
     },
     "metadata": {},
     "output_type": "execute_result",
     "execution_count": 15
    }
   ],
   "source": [
    "import random\n",
    "y = random.sample(list(x), len(x))\n",
    "df = pd.DataFrame({'y':y, 'x':x})\n",
    "\n",
    "model = smf.ols('y ~ x - 1', data=df)\n",
    "model_fit = model.fit()\n",
    "model_fit.params"
   ],
   "metadata": {
    "collapsed": false,
    "pycharm": {
     "name": "#%%\n",
     "is_executing": false
    }
   }
  },
  {
   "cell_type": "code",
   "execution_count": 16,
   "outputs": [
    {
     "data": {
      "text/plain": "y    0.129618\ndtype: float64"
     },
     "metadata": {},
     "output_type": "execute_result",
     "execution_count": 16
    }
   ],
   "source": [
    "model = smf.ols('x ~ y - 1', data=df)\n",
    "model_fit = model.fit()\n",
    "model_fit.params"
   ],
   "metadata": {
    "collapsed": false,
    "pycharm": {
     "name": "#%%\n",
     "is_executing": false
    }
   }
  },
  {
   "cell_type": "markdown",
   "source": [
    "And that works! "
   ],
   "metadata": {
    "collapsed": false,
    "pycharm": {
     "name": "#%% md\n"
    }
   }
  }
 ],
 "metadata": {
  "kernelspec": {
   "display_name": "Python 3",
   "language": "python",
   "name": "python3"
  },
  "language_info": {
   "codemirror_mode": {
    "name": "ipython",
    "version": 2
   },
   "file_extension": ".py",
   "mimetype": "text/x-python",
   "name": "python",
   "nbconvert_exporter": "python",
   "pygments_lexer": "ipython2",
   "version": "2.7.6"
  },
  "pycharm": {
   "stem_cell": {
    "cell_type": "raw",
    "source": [],
    "metadata": {
     "collapsed": false
    }
   }
  }
 },
 "nbformat": 4,
 "nbformat_minor": 0
}
