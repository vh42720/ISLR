{
 "cells": [
  {
   "cell_type": "markdown",
   "metadata": {
    "collapsed": true,
    "pycharm": {
     "name": "#%% md\n"
    }
   },
   "source": [
    "## Applied - Question 8\n",
    "\n",
    "This question will use a simulated dataset\n",
    "\n",
    "#### Import block"
   ]
  },
  {
   "cell_type": "code",
   "execution_count": 18,
   "outputs": [],
   "source": [
    "import numpy as np\n",
    "import pandas as pd\n",
    "import matplotlib.pyplot as plt\n",
    "import seaborn as sns\n",
    "\n",
    "import sklearn.linear_model as skl_lm\n",
    "from sklearn.model_selection import LeaveOneOut, KFold, cross_val_score, train_test_split\n",
    "from sklearn.preprocessing import PolynomialFeatures\n",
    "\n",
    "import statsmodels.api as sm\n",
    "\n",
    "%matplotlib inline\n",
    "plt.style.use('seaborn-white')"
   ],
   "metadata": {
    "collapsed": false,
    "pycharm": {
     "name": "#%%\n",
     "is_executing": false
    }
   }
  },
  {
   "cell_type": "markdown",
   "source": [
    "Getting the data through simulation"
   ],
   "metadata": {
    "collapsed": false,
    "pycharm": {
     "name": "#%% md\n"
    }
   }
  },
  {
   "cell_type": "code",
   "execution_count": 19,
   "outputs": [],
   "source": [
    "# set seed\n",
    "np.random.seed(1)\n",
    "\n",
    "# Simulate data\n",
    "x = np.random.normal(0, 1, 100)\n",
    "error = np.random.normal(0, 1, 100)\n",
    "y = x - 2 * (x**2) + error"
   ],
   "metadata": {
    "collapsed": false,
    "pycharm": {
     "name": "#%%\n",
     "is_executing": false
    }
   }
  },
  {
   "cell_type": "markdown",
   "source": [
    "(a) n = 100, p = 2. The equation: $y = x - 2x^2 + \\epsilon$\n",
    "\n",
    "(b) Simple plot"
   ],
   "metadata": {
    "collapsed": false,
    "pycharm": {
     "name": "#%% md\n"
    }
   }
  },
  {
   "cell_type": "code",
   "execution_count": 20,
   "outputs": [
    {
     "data": {
      "text/plain": "Text(0, 0.5, 'y')"
     },
     "metadata": {},
     "output_type": "execute_result",
     "execution_count": 20
    },
    {
     "data": {
      "text/plain": "<Figure size 432x288 with 1 Axes>",
      "image/png": "[encoded data removed]"
     },
     "metadata": {},
     "output_type": "display_data"
    }
   ],
   "source": [
    "sns.scatterplot(x, y)\n",
    "plt.title('y = x - 2x^2 + e')\n",
    "plt.xlabel('x')\n",
    "plt.ylabel('y')"
   ],
   "metadata": {
    "collapsed": false,
    "pycharm": {
     "name": "#%%\n",
     "is_executing": false
    }
   }
  },
  {
   "cell_type": "markdown",
   "source": [
    "Unsurprisingly, there is a downward parabola relationship.\n",
    "\n",
    "(c) For this question, we will use the same method in labs to get the score. (remember \n",
    "negative score)   \n",
    "But first, dataframe:"
   ],
   "metadata": {
    "collapsed": false,
    "pycharm": {
     "name": "#%% md\n"
    }
   }
  },
  {
   "cell_type": "code",
   "execution_count": 21,
   "outputs": [
    {
     "data": {
      "text/plain": "           x         y\n95  0.077340 -1.562061\n96 -0.343854  0.021995\n97  0.043597  0.460078\n98 -0.620001 -0.577851\n99  0.698032  0.767977",
      "text/html": "<div>\n<style scoped>\n    .dataframe tbody tr th:only-of-type {\n        vertical-align: middle;\n    }\n\n    .dataframe tbody tr th {\n        vertical-align: top;\n    }\n\n    .dataframe thead th {\n        text-align: right;\n    }\n</style>\n<table border=\"1\" class=\"dataframe\">\n  <thead>\n    <tr style=\"text-align: right;\">\n      <th></th>\n      <th>x</th>\n      <th>y</th>\n    </tr>\n  </thead>\n  <tbody>\n    <tr>\n      <td>95</td>\n      <td>0.077340</td>\n      <td>-1.562061</td>\n    </tr>\n    <tr>\n      <td>96</td>\n      <td>-0.343854</td>\n      <td>0.021995</td>\n    </tr>\n    <tr>\n      <td>97</td>\n      <td>0.043597</td>\n      <td>0.460078</td>\n    </tr>\n    <tr>\n      <td>98</td>\n      <td>-0.620001</td>\n      <td>-0.577851</td>\n    </tr>\n    <tr>\n      <td>99</td>\n      <td>0.698032</td>\n      <td>0.767977</td>\n    </tr>\n  </tbody>\n</table>\n</div>"
     },
     "metadata": {},
     "output_type": "execute_result",
     "execution_count": 21
    }
   ],
   "source": [
    "df = pd.DataFrame({'x': x, 'y': y})\n",
    "df.tail()"
   ],
   "metadata": {
    "collapsed": false,
    "pycharm": {
     "name": "#%%\n",
     "is_executing": false
    }
   }
  },
  {
   "cell_type": "code",
   "execution_count": 22,
   "outputs": [
    {
     "name": "stdout",
     "text": [
      "Degree 1: 6.260764331604616\nDegree 2: 0.9142897072803661\nDegree 3: 0.9268768781648812\nDegree 4: 0.8669116865881079\n"
     ],
     "output_type": "stream"
    }
   ],
   "source": [
    "# set parameters\n",
    "p_order = np.arange(1,5)\n",
    "scores = []\n",
    "loo = LeaveOneOut()\n",
    "loo.get_n_splits(df)\n",
    "regr = skl_lm.LinearRegression()\n",
    "\n",
    "# fitting and record score\n",
    "for i in p_order:\n",
    "    poly = PolynomialFeatures(degree=i)\n",
    "    x_poly = poly.fit_transform(df.x.values.reshape(-1,1))\n",
    "    score = cross_val_score(regr, x_poly, df.y, \n",
    "                            cv=loo, scoring='neg_mean_squared_error').mean()\n",
    "    scores.append(score)\n",
    "\n",
    "# print out result\n",
    "for i in p_order:\n",
    "    print(f'Degree {i}: {scores[i-1]*-1}')"
   ],
   "metadata": {
    "collapsed": false,
    "pycharm": {
     "name": "#%% \n",
     "is_executing": false
    }
   }
  },
  {
   "cell_type": "markdown",
   "source": [
    "(d) Simulate another dataset using seed = 10 and repeat the steps."
   ],
   "metadata": {
    "collapsed": false,
    "pycharm": {
     "name": "#%% md\n"
    }
   }
  },
  {
   "cell_type": "code",
   "execution_count": 23,
   "outputs": [
    {
     "name": "stdout",
     "text": [
      "Degree 1: 8.773583930939965\nDegree 2: 0.9809518869028164\nDegree 3: 0.9286488953095285\nDegree 4: 0.9694278499125045\n"
     ],
     "output_type": "stream"
    }
   ],
   "source": [
    "# set seed\n",
    "np.random.seed(1544)\n",
    "\n",
    "# Simulate data\n",
    "x = np.random.normal(0, 1, 100)\n",
    "error = np.random.normal(0, 1, 100)\n",
    "y = x - 2 * (x**2) + error\n",
    "\n",
    "# Create dataframe\n",
    "df = pd.DataFrame({'x': x, 'y': y})\n",
    "df.tail()\n",
    "\n",
    "# set parameters\n",
    "p_order = np.arange(1,5)\n",
    "scores = []\n",
    "loo = LeaveOneOut()\n",
    "loo.get_n_splits(df)\n",
    "regr = skl_lm.LinearRegression()\n",
    "\n",
    "# fitting and record score\n",
    "for i in p_order:\n",
    "    poly = PolynomialFeatures(degree=i)\n",
    "    x_poly = poly.fit_transform(df.x.values.reshape(-1,1))\n",
    "    score = cross_val_score(regr, x_poly, df.y, \n",
    "                            cv=loo, scoring='neg_mean_squared_error').mean()\n",
    "    scores.append(score)\n",
    "\n",
    "# print out result\n",
    "for i in p_order:\n",
    "    print(f'Degree {i}: {scores[i-1]*-1}')"
   ],
   "metadata": {
    "collapsed": false,
    "pycharm": {
     "name": "#%%\n",
     "is_executing": false
    }
   }
  },
  {
   "cell_type": "markdown",
   "source": [
    "The result is different due to the randomness we introduced in the simulated data. \n",
    "Nevertheless, the main point is that linear does not fit well and quadratic did\n",
    "as well as higher degree. \n",
    "\n",
    "(e) The quadratic models in (c) has the smallest MSE which is what we would expect\n",
    "given the true relationship is quadratic. However, cubic model outperform on (d)\n",
    "with different seed.\n",
    "\n",
    "(f) Another loop is needed. Lets use statsmodel to improve our skills!"
   ],
   "metadata": {
    "collapsed": false,
    "pycharm": {
     "name": "#%% md\n"
    }
   }
  },
  {
   "cell_type": "code",
   "execution_count": 26,
   "outputs": [
    {
     "name": "stdout",
     "text": [
      "\n ==============================================================================\n                 coef    std err          t      P>|t|      [0.025      0.975]\n------------------------------------------------------------------------------\nconst         -1.4131      0.242     -5.849      0.000      -1.893      -0.934\nx1             0.8610      0.272      3.162      0.002       0.321       1.401\n============================================================================== \n\n\n ==============================================================================\n                 coef    std err          t      P>|t|      [0.025      0.975]\n------------------------------------------------------------------------------\nconst          0.1350      0.115      1.169      0.245      -0.094       0.364\nx1             1.0936      0.107     10.229      0.000       0.881       1.306\nx2            -1.9846      0.085    -23.331      0.000      -2.153      -1.816\n============================================================================== \n\n\n ==============================================================================\n                 coef    std err          t      P>|t|      [0.025      0.975]\n------------------------------------------------------------------------------\nconst          0.1280      0.115      1.111      0.269      -0.101       0.357\nx1             0.9065      0.187      4.842      0.000       0.535       1.278\nx2            -1.9753      0.085    -23.187      0.000      -2.144      -1.806\nx3             0.0788      0.065      1.216      0.227      -0.050       0.208\n============================================================================== \n\n\n ==============================================================================\n                 coef    std err          t      P>|t|      [0.025      0.975]\n------------------------------------------------------------------------------\nconst          0.3140      0.136      2.311      0.023       0.044       0.584\nx1             0.9127      0.183      4.999      0.000       0.550       1.275\nx2            -2.5445      0.248    -10.264      0.000      -3.037      -2.052\nx3             0.0992      0.064      1.556      0.123      -0.027       0.226\nx4             0.1394      0.057      2.437      0.017       0.026       0.253\n============================================================================== \n\n"
     ],
     "output_type": "stream"
    }
   ],
   "source": [
    "# set seed\n",
    "np.random.seed(1)\n",
    "\n",
    "# Simulate data\n",
    "x = np.random.normal(0, 1, 100)\n",
    "error = np.random.normal(0, 1, 100)\n",
    "y = x - 2 * (x**2) + error\n",
    "\n",
    "# Create dataframe\n",
    "df = pd.DataFrame({'x': x, 'y': y})\n",
    "df.tail()\n",
    "\n",
    "# set parameters\n",
    "p_order = np.arange(1,5)\n",
    "\n",
    "# main loop\n",
    "for i in p_order:\n",
    "    poly = PolynomialFeatures(degree=i)\n",
    "    x_poly = poly.fit_transform(df.x.values.reshape(-1,1))\n",
    "    y = df.y\n",
    "    model = sm.OLS(y, x_poly).fit()\n",
    "    print('\\n', model.summary().tables[1], '\\n')"
   ],
   "metadata": {
    "collapsed": false,
    "pycharm": {
     "name": "#%%\n",
     "is_executing": false
    }
   }
  },
  {
   "cell_type": "markdown",
   "source": [
    "The model shows statistical significance of the linear and quadratic model. The result\n",
    "agrees with the cross validation result above. "
   ],
   "metadata": {
    "collapsed": false,
    "pycharm": {
     "name": "#%% md\n"
    }
   }
  }
 ],
 "metadata": {
  "kernelspec": {
   "display_name": "Python 3",
   "language": "python",
   "name": "python3"
  },
  "language_info": {
   "codemirror_mode": {
    "name": "ipython",
    "version": 2
   },
   "file_extension": ".py",
   "mimetype": "text/x-python",
   "name": "python",
   "nbconvert_exporter": "python",
   "pygments_lexer": "ipython2",
   "version": "2.7.6"
  },
  "pycharm": {
   "stem_cell": {
    "cell_type": "raw",
    "source": [],
    "metadata": {
     "collapsed": false
    }
   }
  }
 },
 "nbformat": 4,
 "nbformat_minor": 0
}
