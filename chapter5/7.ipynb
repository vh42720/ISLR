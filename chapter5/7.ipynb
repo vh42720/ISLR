{
 "cells": [
  {
   "cell_type": "markdown",
   "metadata": {
    "collapsed": true,
    "pycharm": {
     "name": "#%% md\n"
    }
   },
   "source": [
    "## Applied - Question 7\n",
    "\n",
    "This question will apply the LOOCV on the Weekly dataset\n",
    "\n",
    "#### Import block"
   ]
  },
  {
   "cell_type": "code",
   "execution_count": 8,
   "outputs": [],
   "source": [
    "import pandas as pd\n",
    "\n",
    "import sklearn.linear_model as skl_lm\n",
    "from sklearn.model_selection import LeaveOneOut, cross_val_score\n",
    "\n",
    "import statsmodels.formula.api as smf\n"
   ],
   "metadata": {
    "collapsed": false,
    "pycharm": {
     "name": "#%%\n",
     "is_executing": false
    }
   }
  },
  {
   "cell_type": "markdown",
   "source": [
    "Load dataset"
   ],
   "metadata": {
    "collapsed": false,
    "pycharm": {
     "name": "#%% md\n"
    }
   }
  },
  {
   "cell_type": "code",
   "execution_count": 9,
   "outputs": [
    {
     "data": {
      "text/plain": "   Year   Lag1   Lag2   Lag3   Lag4   Lag5    Volume  Today Direction  \\\n0  1990  0.816  1.572 -3.936 -0.229 -3.484  0.154976 -0.270      Down   \n1  1990 -0.270  0.816  1.572 -3.936 -0.229  0.148574 -2.576      Down   \n2  1990 -2.576 -0.270  0.816  1.572 -3.936  0.159837  3.514        Up   \n3  1990  3.514 -2.576 -0.270  0.816  1.572  0.161630  0.712        Up   \n4  1990  0.712  3.514 -2.576 -0.270  0.816  0.153728  1.178        Up   \n\n   Direction2  \n0           0  \n1           0  \n2           1  \n3           1  \n4           1  ",
      "text/html": "<div>\n<style scoped>\n    .dataframe tbody tr th:only-of-type {\n        vertical-align: middle;\n    }\n\n    .dataframe tbody tr th {\n        vertical-align: top;\n    }\n\n    .dataframe thead th {\n        text-align: right;\n    }\n</style>\n<table border=\"1\" class=\"dataframe\">\n  <thead>\n    <tr style=\"text-align: right;\">\n      <th></th>\n      <th>Year</th>\n      <th>Lag1</th>\n      <th>Lag2</th>\n      <th>Lag3</th>\n      <th>Lag4</th>\n      <th>Lag5</th>\n      <th>Volume</th>\n      <th>Today</th>\n      <th>Direction</th>\n      <th>Direction2</th>\n    </tr>\n  </thead>\n  <tbody>\n    <tr>\n      <td>0</td>\n      <td>1990</td>\n      <td>0.816</td>\n      <td>1.572</td>\n      <td>-3.936</td>\n      <td>-0.229</td>\n      <td>-3.484</td>\n      <td>0.154976</td>\n      <td>-0.270</td>\n      <td>Down</td>\n      <td>0</td>\n    </tr>\n    <tr>\n      <td>1</td>\n      <td>1990</td>\n      <td>-0.270</td>\n      <td>0.816</td>\n      <td>1.572</td>\n      <td>-3.936</td>\n      <td>-0.229</td>\n      <td>0.148574</td>\n      <td>-2.576</td>\n      <td>Down</td>\n      <td>0</td>\n    </tr>\n    <tr>\n      <td>2</td>\n      <td>1990</td>\n      <td>-2.576</td>\n      <td>-0.270</td>\n      <td>0.816</td>\n      <td>1.572</td>\n      <td>-3.936</td>\n      <td>0.159837</td>\n      <td>3.514</td>\n      <td>Up</td>\n      <td>1</td>\n    </tr>\n    <tr>\n      <td>3</td>\n      <td>1990</td>\n      <td>3.514</td>\n      <td>-2.576</td>\n      <td>-0.270</td>\n      <td>0.816</td>\n      <td>1.572</td>\n      <td>0.161630</td>\n      <td>0.712</td>\n      <td>Up</td>\n      <td>1</td>\n    </tr>\n    <tr>\n      <td>4</td>\n      <td>1990</td>\n      <td>0.712</td>\n      <td>3.514</td>\n      <td>-2.576</td>\n      <td>-0.270</td>\n      <td>0.816</td>\n      <td>0.153728</td>\n      <td>1.178</td>\n      <td>Up</td>\n      <td>1</td>\n    </tr>\n  </tbody>\n</table>\n</div>"
     },
     "metadata": {},
     "output_type": "execute_result",
     "execution_count": 9
    }
   ],
   "source": [
    "# Load data from path\n",
    "data_path = 'D:\\\\PycharmProjects\\\\ISLR\\\\data\\\\'\n",
    "df = pd.read_csv(f'{data_path}Weekly.csv')\n",
    "\n",
    "# Transform cat to dummy variable\n",
    "df['Direction2'] = df['Direction'].astype('category').cat.codes\n",
    "df.head()"
   ],
   "metadata": {
    "collapsed": false,
    "pycharm": {
     "name": "#%%\n",
     "is_executing": false
    }
   }
  },
  {
   "cell_type": "markdown",
   "source": [
    "(a) Fitting the logistic model predicting Directions using Lag1 and Lag2"
   ],
   "metadata": {
    "collapsed": false,
    "pycharm": {
     "name": "#%% md\n"
    }
   }
  },
  {
   "cell_type": "code",
   "execution_count": 11,
   "outputs": [
    {
     "data": {
      "text/plain": "<class 'statsmodels.iolib.table.SimpleTable'>",
      "text/html": "<table class=\"simpletable\">\n<tr>\n      <td></td>         <th>coef</th>     <th>std err</th>      <th>z</th>      <th>P>|z|</th>  <th>[0.025</th>    <th>0.975]</th>  \n</tr>\n<tr>\n  <th>Intercept</th> <td>    0.2212</td> <td>    0.061</td> <td>    3.599</td> <td> 0.000</td> <td>    0.101</td> <td>    0.342</td>\n</tr>\n<tr>\n  <th>Lag1</th>      <td>   -0.0387</td> <td>    0.026</td> <td>   -1.477</td> <td> 0.140</td> <td>   -0.090</td> <td>    0.013</td>\n</tr>\n<tr>\n  <th>Lag2</th>      <td>    0.0602</td> <td>    0.027</td> <td>    2.270</td> <td> 0.023</td> <td>    0.008</td> <td>    0.112</td>\n</tr>\n</table>"
     },
     "metadata": {},
     "output_type": "execute_result",
     "execution_count": 11
    }
   ],
   "source": [
    "model = smf.logit('Direction2 ~ Lag1 + Lag2', data=df).fit(disp=False)\n",
    "model.summary().tables[1]"
   ],
   "metadata": {
    "collapsed": false,
    "pycharm": {
     "name": "#%%\n",
     "is_executing": false
    }
   }
  },
  {
   "cell_type": "markdown",
   "source": [
    "(b) Leave the first observation out. Fit same model"
   ],
   "metadata": {
    "collapsed": false,
    "pycharm": {
     "name": "#%% md\n"
    }
   }
  },
  {
   "cell_type": "code",
   "execution_count": 13,
   "outputs": [
    {
     "data": {
      "text/plain": "<class 'statsmodels.iolib.table.SimpleTable'>",
      "text/html": "<table class=\"simpletable\">\n<tr>\n      <td></td>         <th>coef</th>     <th>std err</th>      <th>z</th>      <th>P>|z|</th>  <th>[0.025</th>    <th>0.975]</th>  \n</tr>\n<tr>\n  <th>Intercept</th> <td>    0.2232</td> <td>    0.061</td> <td>    3.630</td> <td> 0.000</td> <td>    0.103</td> <td>    0.344</td>\n</tr>\n<tr>\n  <th>Lag1</th>      <td>   -0.0384</td> <td>    0.026</td> <td>   -1.466</td> <td> 0.143</td> <td>   -0.090</td> <td>    0.013</td>\n</tr>\n<tr>\n  <th>Lag2</th>      <td>    0.0608</td> <td>    0.027</td> <td>    2.291</td> <td> 0.022</td> <td>    0.009</td> <td>    0.113</td>\n</tr>\n</table>"
     },
     "metadata": {},
     "output_type": "execute_result",
     "execution_count": 13
    }
   ],
   "source": [
    "df2 = df.drop(df.index[0])\n",
    "model = smf.logit('Direction2 ~ Lag1 + Lag2', data=df2).fit(disp=False)\n",
    "model.summary().tables[1]"
   ],
   "metadata": {
    "collapsed": false,
    "pycharm": {
     "name": "#%%\n",
     "is_executing": false
    }
   }
  },
  {
   "cell_type": "markdown",
   "source": [
    "The result is practically identical. There is a tiny change in the coefficient but\n",
    "the p-value stays the same.\n",
    "\n",
    "(c) Use (b) model to predict direction of the first observation. Change to sklearn!"
   ],
   "metadata": {
    "collapsed": false,
    "pycharm": {
     "name": "#%% md\n"
    }
   }
  },
  {
   "cell_type": "code",
   "execution_count": 37,
   "outputs": [
    {
     "name": "stdout",
     "text": [
      "Prediction is : Up\n"
     ],
     "output_type": "stream"
    }
   ],
   "source": [
    "X_train = df2[['Lag1', 'Lag2']]\n",
    "X_test = df[['Lag1', 'Lag2']].iloc[:1]\n",
    "y_train = df2.Direction\n",
    "y_test = df.Direction[0]\n",
    "\n",
    "# print(X_test)\n",
    "# Logistic regression\n",
    "regr = skl_lm.LogisticRegression(solver='lbfgs')\n",
    "pred = regr.fit(X_train, y_train).predict(X_test)\n",
    "print(f'Prediction is : {pred[0]}')"
   ],
   "metadata": {
    "collapsed": false,
    "pycharm": {
     "name": "#%%\n",
     "is_executing": false
    }
   }
  },
  {
   "cell_type": "markdown",
   "source": [
    "The test error is 100%. We failed to classify the test observation.\n",
    "\n",
    "(d) Seems like this a job for the Leaveoneout module from sklearn."
   ],
   "metadata": {
    "collapsed": false,
    "pycharm": {
     "name": "#%% md\n"
    }
   }
  },
  {
   "cell_type": "code",
   "execution_count": 42,
   "outputs": [
    {
     "name": "stdout",
     "text": [
      "The test error rate on average is 0.44995408631772266\n"
     ],
     "output_type": "stream"
    }
   ],
   "source": [
    "# Assign parameters\n",
    "regr = skl_lm.LogisticRegression(solver='lbfgs')\n",
    "loo = LeaveOneOut()\n",
    "loo.get_n_splits(df)\n",
    "\n",
    "# Get the test error (average)\n",
    "X = df[['Lag1', 'Lag2']]\n",
    "score = cross_val_score(regr, X, df.Direction2, \n",
    "                        cv=loo, scoring='neg_mean_squared_error').mean()\n",
    "\n",
    "# Print score\n",
    "print(f'The test error rate on average is {-score}')"
   ],
   "metadata": {
    "collapsed": false,
    "pycharm": {
     "name": "#%%\n",
     "is_executing": false
    }
   }
  },
  {
   "cell_type": "markdown",
   "source": [
    "This is quite a big number for classification problem.\n",
    "\n",
    "While this may seem that LOOCV didn't do well in this example (along with long compute time), it is not a surprising\n",
    "result when predicting stocks! The nature of stock return is memory-less which is exactly \n",
    "why it is very hard to model them. \n",
    "\n",
    "\n"
   ],
   "metadata": {
    "collapsed": false,
    "pycharm": {
     "name": "#%% md\n",
     "is_executing": false
    }
   }
  }
 ],
 "metadata": {
  "kernelspec": {
   "display_name": "Python 3",
   "language": "python",
   "name": "python3"
  },
  "language_info": {
   "codemirror_mode": {
    "name": "ipython",
    "version": 2
   },
   "file_extension": ".py",
   "mimetype": "text/x-python",
   "name": "python",
   "nbconvert_exporter": "python",
   "pygments_lexer": "ipython2",
   "version": "2.7.6"
  },
  "pycharm": {
   "stem_cell": {
    "cell_type": "raw",
    "source": [],
    "metadata": {
     "collapsed": false
    }
   }
  }
 },
 "nbformat": 4,
 "nbformat_minor": 0
}
