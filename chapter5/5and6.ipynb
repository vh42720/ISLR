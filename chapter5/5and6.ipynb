{
 "cells": [
  {
   "cell_type": "markdown",
   "metadata": {
    "collapsed": true,
    "pycharm": {
     "name": "#%% md\n"
    }
   },
   "source": [
    "## Applied - Chapter 5\n",
    "\n",
    "This question will use Default data set which record characteristics of people who default\n",
    "on credit cards. There are 4 variables:\n",
    "1. default - boolean.\n",
    "2. student - boolean.\n",
    "3. balance - current credit card balance.\n",
    "4. income - income of observation\n",
    "\n",
    "#### Import block"
   ]
  },
  {
   "cell_type": "code",
   "execution_count": 24,
   "outputs": [],
   "source": [
    "import numpy as np\n",
    "import pandas as pd\n",
    "import seaborn as sns\n",
    "import matplotlib.pyplot as plt\n",
    "\n",
    "import sklearn.linear_model as skl_lm\n",
    "from sklearn.metrics import mean_squared_error, confusion_matrix, classification_report\n",
    "from sklearn.model_selection import KFold, LeaveOneOut, train_test_split, cross_val_score\n",
    "from sklearn.utils import resample\n",
    "from sklearn.preprocessing import PolynomialFeatures\n",
    "\n",
    "import statsmodels.formula.api as smf\n",
    "from util import print_cm\n",
    "\n",
    "%matplotlib inline\n",
    "plt.style.use('seaborn-white')"
   ],
   "metadata": {
    "collapsed": false,
    "pycharm": {
     "name": "#%%\n",
     "is_executing": false
    }
   }
  },
  {
   "cell_type": "markdown",
   "source": [
    "Loading dataset"
   ],
   "metadata": {
    "collapsed": false,
    "pycharm": {
     "name": "#%% md\n"
    }
   }
  },
  {
   "cell_type": "code",
   "execution_count": 25,
   "outputs": [
    {
     "data": {
      "text/plain": "  default student      balance        income  default2  student2\n0      No      No   729.526495  44361.625074         0         0\n1      No     Yes   817.180407  12106.134700         0         1\n2      No      No  1073.549164  31767.138947         0         0\n3      No      No   529.250605  35704.493935         0         0\n4      No      No   785.655883  38463.495879         0         0",
      "text/html": "<div>\n<style scoped>\n    .dataframe tbody tr th:only-of-type {\n        vertical-align: middle;\n    }\n\n    .dataframe tbody tr th {\n        vertical-align: top;\n    }\n\n    .dataframe thead th {\n        text-align: right;\n    }\n</style>\n<table border=\"1\" class=\"dataframe\">\n  <thead>\n    <tr style=\"text-align: right;\">\n      <th></th>\n      <th>default</th>\n      <th>student</th>\n      <th>balance</th>\n      <th>income</th>\n      <th>default2</th>\n      <th>student2</th>\n    </tr>\n  </thead>\n  <tbody>\n    <tr>\n      <td>0</td>\n      <td>No</td>\n      <td>No</td>\n      <td>729.526495</td>\n      <td>44361.625074</td>\n      <td>0</td>\n      <td>0</td>\n    </tr>\n    <tr>\n      <td>1</td>\n      <td>No</td>\n      <td>Yes</td>\n      <td>817.180407</td>\n      <td>12106.134700</td>\n      <td>0</td>\n      <td>1</td>\n    </tr>\n    <tr>\n      <td>2</td>\n      <td>No</td>\n      <td>No</td>\n      <td>1073.549164</td>\n      <td>31767.138947</td>\n      <td>0</td>\n      <td>0</td>\n    </tr>\n    <tr>\n      <td>3</td>\n      <td>No</td>\n      <td>No</td>\n      <td>529.250605</td>\n      <td>35704.493935</td>\n      <td>0</td>\n      <td>0</td>\n    </tr>\n    <tr>\n      <td>4</td>\n      <td>No</td>\n      <td>No</td>\n      <td>785.655883</td>\n      <td>38463.495879</td>\n      <td>0</td>\n      <td>0</td>\n    </tr>\n  </tbody>\n</table>\n</div>"
     },
     "metadata": {},
     "output_type": "execute_result",
     "execution_count": 25
    }
   ],
   "source": [
    "data_path = 'D:\\\\PycharmProjects\\\\ISLR\\\\data\\\\'\n",
    "df = pd.read_excel(f'{data_path}Default.xlsx', usecols=list(range(1,5)))\n",
    "\n",
    "# transform dummy\n",
    "for i in ['default', 'student']:\n",
    "    df[f'{i}2'] = df[i].astype('category').cat.codes\n",
    "\n",
    "# Get X and y\n",
    "X = df[['balance', 'income']]\n",
    "y = df.default\n",
    "\n",
    "# preview\n",
    "df.head()"
   ],
   "metadata": {
    "collapsed": false,
    "pycharm": {
     "name": "#%% \n",
     "is_executing": false
    }
   }
  },
  {
   "cell_type": "markdown",
   "source": [
    "(a). Fitting a Logistic regression (using statsmodel to get a based line)"
   ],
   "metadata": {
    "collapsed": false,
    "pycharm": {
     "name": "#%% md\n"
    }
   }
  },
  {
   "cell_type": "code",
   "execution_count": 26,
   "outputs": [
    {
     "name": "stdout",
     "text": [
      "Optimization terminated successfully.\n         Current function value: 0.078948\n         Iterations 10\n==============================================================================\n                 coef    std err          z      P>|z|      [0.025      0.975]\n------------------------------------------------------------------------------\nIntercept    -11.5405      0.435    -26.544      0.000     -12.393     -10.688\nincome      2.081e-05   4.99e-06      4.174      0.000     1.1e-05    3.06e-05\nbalance        0.0056      0.000     24.835      0.000       0.005       0.006\n==============================================================================\n"
     ],
     "output_type": "stream"
    }
   ],
   "source": [
    "model = smf.logit('default2 ~ income + balance', data=df).fit()\n",
    "print(model.summary().tables[1])"
   ],
   "metadata": {
    "collapsed": false,
    "pycharm": {
     "name": "#%%\n",
     "is_executing": false
    }
   }
  },
  {
   "cell_type": "markdown",
   "source": [
    "(b) Validation set approach (sklearn)"
   ],
   "metadata": {
    "collapsed": false,
    "pycharm": {
     "name": "#%% md\n"
    }
   }
  },
  {
   "cell_type": "code",
   "execution_count": 27,
   "outputs": [
    {
     "name": "stdout",
     "text": [
      "Confusion Matrix \n True         No  Yes\nPredicted           \nNo         4824  175\nYes           1    0 \n\nClassification report \n               precision    recall  f1-score   support\n\n          No      0.965     1.000     0.982      4825\n         Yes      0.000     0.000     0.000       175\n\n    accuracy                          0.965      5000\n   macro avg      0.482     0.500     0.491      5000\nweighted avg      0.931     0.965     0.948      5000\n\n"
     ],
     "output_type": "stream"
    },
    {
     "name": "stderr",
     "text": [
      "d:\\pycharmprojects\\islr\\venv\\lib\\site-packages\\sklearn\\linear_model\\logistic.py:432: FutureWarning: Default solver will be changed to 'lbfgs' in 0.22. Specify a solver to silence this warning.\n  FutureWarning)\n"
     ],
     "output_type": "stream"
    }
   ],
   "source": [
    "t_prop = 0.5\n",
    "\n",
    "# Split data\n",
    "X_train, X_test, y_train, y_test = train_test_split(X, y, test_size=t_prop, random_state=None)\n",
    "\n",
    "# Fitting model\n",
    "regr = skl_lm.LogisticRegression()\n",
    "pred = regr.fit(X_train, y_train).predict_proba(X_test)\n",
    "\n",
    "# Results\n",
    "pred_2 = np.where(pred[:,1] > 0.5, 'Yes', 'No')\n",
    "print_cm(y_test, pred_2, regr)"
   ],
   "metadata": {
    "collapsed": false,
    "pycharm": {
     "name": "#%%\n",
     "is_executing": false
    }
   }
  },
  {
   "cell_type": "markdown",
   "source": [
    "Test error rate $\\approx 0.033$\n",
    "\n",
    "Repeat the process 3 times as follow:"
   ],
   "metadata": {
    "collapsed": false,
    "pycharm": {
     "name": "#%% md\n",
     "is_executing": false
    }
   }
  },
  {
   "cell_type": "code",
   "execution_count": 28,
   "outputs": [
    {
     "name": "stdout",
     "text": [
      "For test size of 0.3\n\nConfusion Matrix \n True         No  Yes\nPredicted           \nNo         2903   95\nYes           2    0 \n\nClassification report \n               precision    recall  f1-score   support\n\n          No      0.968     0.999     0.984      2905\n         Yes      0.000     0.000     0.000        95\n\n    accuracy                          0.968      3000\n   macro avg      0.484     0.500     0.492      3000\nweighted avg      0.938     0.968     0.952      3000\n\n",
      "For test size of 0.2\n\nConfusion Matrix \n True         No  Yes\nPredicted           \nNo         1931   69\nYes           0    0 \n\nClassification report \n               precision    recall  f1-score   support\n\n          No      0.966     1.000     0.982      1931\n         Yes      0.000     0.000     0.000        69\n\n    accuracy                          0.966      2000\n   macro avg      0.483     0.500     0.491      2000\nweighted avg      0.932     0.966     0.949      2000\n\nFor test size of 0.1\n\nConfusion Matrix \n True        No  Yes\nPredicted          \nNo         967   33\nYes          0    0 \n\nClassification report \n               precision    recall  f1-score   support\n\n          No      0.967     1.000     0.983       967\n         Yes      0.000     0.000     0.000        33\n\n    accuracy                          0.967      1000\n   macro avg      0.483     0.500     0.492      1000\nweighted avg      0.935     0.967     0.951      1000\n\n"
     ],
     "output_type": "stream"
    },
    {
     "name": "stderr",
     "text": [
      "d:\\pycharmprojects\\islr\\venv\\lib\\site-packages\\sklearn\\linear_model\\logistic.py:432: FutureWarning: Default solver will be changed to 'lbfgs' in 0.22. Specify a solver to silence this warning.\n  FutureWarning)\nd:\\pycharmprojects\\islr\\venv\\lib\\site-packages\\sklearn\\linear_model\\logistic.py:432: FutureWarning: Default solver will be changed to 'lbfgs' in 0.22. Specify a solver to silence this warning.\n  FutureWarning)\n",
      "d:\\pycharmprojects\\islr\\venv\\lib\\site-packages\\sklearn\\metrics\\classification.py:1437: UndefinedMetricWarning: Precision and F-score are ill-defined and being set to 0.0 in labels with no predicted samples.\n  'precision', 'predicted', average, warn_for)\nd:\\pycharmprojects\\islr\\venv\\lib\\site-packages\\sklearn\\linear_model\\logistic.py:432: FutureWarning: Default solver will be changed to 'lbfgs' in 0.22. Specify a solver to silence this warning.\n  FutureWarning)\nd:\\pycharmprojects\\islr\\venv\\lib\\site-packages\\sklearn\\metrics\\classification.py:1437: UndefinedMetricWarning: Precision and F-score are ill-defined and being set to 0.0 in labels with no predicted samples.\n  'precision', 'predicted', average, warn_for)\n"
     ],
     "output_type": "stream"
    }
   ],
   "source": [
    "regr = skl_lm.LogisticRegression()\n",
    "for t_prop in [0.3, 0.2, 0.1]:\n",
    "    # Split data\n",
    "    X_train, X_test, y_train, y_test = train_test_split(X, y, test_size=t_prop, random_state=None)\n",
    "    \n",
    "    # Fitting model\n",
    "    pred = regr.fit(X_train, y_train).predict(X_test)\n",
    "    \n",
    "    # Results\n",
    "    print(f'For test size of {t_prop}\\n')\n",
    "    print_cm(y_test, pred, regr)"
   ],
   "metadata": {
    "collapsed": false,
    "pycharm": {
     "name": "#%%\n",
     "is_executing": false
    }
   }
  },
  {
   "cell_type": "markdown",
   "source": [
    "(c) The error rates always hover around 0.03. \n",
    "\n",
    "(d) Now we fit the dummy student into the training variables"
   ],
   "metadata": {
    "collapsed": false,
    "pycharm": {
     "name": "#%% md\n"
    }
   }
  },
  {
   "cell_type": "code",
   "execution_count": 29,
   "outputs": [
    {
     "name": "stderr",
     "text": [
      "d:\\pycharmprojects\\islr\\venv\\lib\\site-packages\\sklearn\\linear_model\\logistic.py:432: FutureWarning: Default solver will be changed to 'lbfgs' in 0.22. Specify a solver to silence this warning.\n  FutureWarning)\nd:\\pycharmprojects\\islr\\venv\\lib\\site-packages\\sklearn\\metrics\\classification.py:1437: UndefinedMetricWarning: Precision and F-score are ill-defined and being set to 0.0 in labels with no predicted samples.\n  'precision', 'predicted', average, warn_for)\n"
     ],
     "output_type": "stream"
    },
    {
     "name": "stdout",
     "text": [
      "Confusion Matrix \n True        No  Yes\nPredicted          \nNo         965   35\nYes          0    0 \n\nClassification report \n               precision    recall  f1-score   support\n\n          No      0.965     1.000     0.982       965\n         Yes      0.000     0.000     0.000        35\n\n    accuracy                          0.965      1000\n   macro avg      0.482     0.500     0.491      1000\nweighted avg      0.931     0.965     0.948      1000\n\n"
     ],
     "output_type": "stream"
    }
   ],
   "source": [
    "# New X\n",
    "X = df[['income', 'balance', 'student2']]\n",
    "\n",
    "# Split data\n",
    "X_train, X_test, y_train, y_test = train_test_split(X, y, test_size=t_prop, random_state=None)\n",
    "\n",
    "# Fitting model\n",
    "regr = skl_lm.LogisticRegression()\n",
    "pred = regr.fit(X_train, y_train).predict(X_test)\n",
    "\n",
    "# Results\n",
    "print_cm(y_test, pred, regr)"
   ],
   "metadata": {
    "collapsed": false,
    "pycharm": {
     "name": "#%%\n",
     "is_executing": false
    }
   }
  },
  {
   "cell_type": "markdown",
   "source": [
    "Adding the dummy variable student does not help in our case at all!! The test error still hover \n",
    "around 0.03"
   ],
   "metadata": {
    "collapsed": false,
    "pycharm": {
     "name": "#%% md\n"
    }
   }
  },
  {
   "cell_type": "markdown",
   "source": [
    "## Question 6\n",
    "\n",
    "(a) As running the model above, we have the standard error for both at near zero."
   ],
   "metadata": {
    "collapsed": false,
    "pycharm": {
     "name": "#%% md\n"
    }
   }
  },
  {
   "cell_type": "code",
   "execution_count": 30,
   "outputs": [
    {
     "name": "stdout",
     "text": [
      "==============================================================================\n                 coef    std err          z      P>|z|      [0.025      0.975]\n------------------------------------------------------------------------------\nIntercept    -11.5405      0.435    -26.544      0.000     -12.393     -10.688\nincome      2.081e-05   4.99e-06      4.174      0.000     1.1e-05    3.06e-05\nbalance        0.0056      0.000     24.835      0.000       0.005       0.006\n==============================================================================\n"
     ],
     "output_type": "stream"
    }
   ],
   "source": [
    "print(model.summary().tables[1])"
   ],
   "metadata": {
    "collapsed": false,
    "pycharm": {
     "name": "#%%\n",
     "is_executing": false
    }
   }
  },
  {
   "cell_type": "markdown",
   "source": [
    "(b) for this question, I will use resample from sklearn. Note that this might be\n",
    "the fastest way to do this.\n",
    "\n",
    "First, we define the boot function as follow:"
   ],
   "metadata": {
    "collapsed": false,
    "pycharm": {
     "name": "#%% md\n"
    }
   }
  },
  {
   "cell_type": "code",
   "execution_count": 115,
   "outputs": [],
   "source": [
    "# Define boot\n",
    "def boot_fn(data):\n",
    "    data = resample(data, replace=True)\n",
    "    regr = smf.logit('default2 ~ income + balance', data=data).fit(disp=False)\n",
    "    return np.array(regr.params)"
   ],
   "metadata": {
    "collapsed": false,
    "pycharm": {
     "name": "#%%\n",
     "is_executing": false
    }
   }
  },
  {
   "cell_type": "code",
   "execution_count": 120,
   "outputs": [],
   "source": [
    "para = []\n",
    "result = []\n",
    "i = 0\n",
    "\n",
    "# Run bootstrap 1000 times\n",
    "while i < 101:\n",
    "    result += [boot_fn(df)]\n",
    "    para = np.array(result)\n",
    "    i += 1\n",
    "\n",
    "boot_se = np.std(para,axis=0)"
   ],
   "metadata": {
    "collapsed": false,
    "pycharm": {
     "name": "#%%\n",
     "is_executing": false
    }
   }
  },
  {
   "cell_type": "code",
   "execution_count": 121,
   "outputs": [
    {
     "data": {
      "text/plain": "           model_se   boot_SE\nIntercept  0.434772  0.448450\nincome     0.000005  0.000005\nbalance    0.000227  0.000234",
      "text/html": "<div>\n<style scoped>\n    .dataframe tbody tr th:only-of-type {\n        vertical-align: middle;\n    }\n\n    .dataframe tbody tr th {\n        vertical-align: top;\n    }\n\n    .dataframe thead th {\n        text-align: right;\n    }\n</style>\n<table border=\"1\" class=\"dataframe\">\n  <thead>\n    <tr style=\"text-align: right;\">\n      <th></th>\n      <th>model_se</th>\n      <th>boot_SE</th>\n    </tr>\n  </thead>\n  <tbody>\n    <tr>\n      <td>Intercept</td>\n      <td>0.434772</td>\n      <td>0.448450</td>\n    </tr>\n    <tr>\n      <td>income</td>\n      <td>0.000005</td>\n      <td>0.000005</td>\n    </tr>\n    <tr>\n      <td>balance</td>\n      <td>0.000227</td>\n      <td>0.000234</td>\n    </tr>\n  </tbody>\n</table>\n</div>"
     },
     "metadata": {},
     "output_type": "execute_result",
     "execution_count": 121
    }
   ],
   "source": [
    "# Compare dataframe\n",
    "df_compare = pd.DataFrame({'model_se': model.bse, 'boot_SE': boot_se})\n",
    "df_compare"
   ],
   "metadata": {
    "collapsed": false,
    "pycharm": {
     "name": "#%%\n",
     "is_executing": false
    }
   }
  },
  {
   "cell_type": "markdown",
   "source": [
    "(d)\n",
    "Running bootstrap 100 time gives us a very close estimate of the model SE. The interesting\n",
    "part is that using LogisticRegression from sklearn didn't give me the same result!\n"
   ],
   "metadata": {
    "collapsed": false,
    "pycharm": {
     "name": "#%% md\n"
    }
   }
  }
 ],
 "metadata": {
  "kernelspec": {
   "display_name": "Python 3",
   "language": "python",
   "name": "python3"
  },
  "language_info": {
   "codemirror_mode": {
    "name": "ipython",
    "version": 2
   },
   "file_extension": ".py",
   "mimetype": "text/x-python",
   "name": "python",
   "nbconvert_exporter": "python",
   "pygments_lexer": "ipython2",
   "version": "2.7.6"
  },
  "pycharm": {
   "stem_cell": {
    "cell_type": "raw",
    "source": [],
    "metadata": {
     "collapsed": false
    }
   }
  }
 },
 "nbformat": 4,
 "nbformat_minor": 0
}
