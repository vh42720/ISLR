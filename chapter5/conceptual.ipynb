{
 "cells": [
  {
   "cell_type": "markdown",
   "metadata": {
    "collapsed": true,
    "pycharm": {
     "name": "#%% md\n"
    }
   },
   "source": [
    "## Chapter 5 - Conceptual\n",
    "\n",
    "1. From (5.6)  \n",
    "\\begin{align}\n",
    "f_{\\alpha} &= Var(\\alpha X + (1-\\alpha)Y) \\\\\n",
    "&= Var(\\alpha X) + Var((1-\\alpha)Y) + 2Cov(\\alpha X,(1-\\alpha)Y) \\\\\n",
    "&= \\alpha^2 \\sigma_X^2 + \\sigma_Y^2 + \\alpha^2\\sigma_Y^2 - 2\\alpha\\sigma_Y^2 + (2\\alpha -2\\alpha^2)\\sigma_{XY} \\\\ \n",
    "\\end{align}  \n",
    "Taking the derivative with respect to $\\alpha$:  \n",
    "\\begin{align}\n",
    "\\frac {\\partial f} {\\partial \\alpha} &= 2\\alpha\\sigma_X^2 + 2\\alpha\\sigma_Y^2 - 2\\sigma_Y^2 + 2\\sigma_{XY} - 4\\alpha \\sigma_{XY} \\\\\n",
    "0 &= 2\\alpha(\\sigma_X^2 + \\sigma_Y^2 - 2\\sigma_{XY}) - 2\\sigma_Y^2 + 2\\sigma_{XY} \\\\\n",
    "0 &= \\alpha(\\sigma_X^2 + \\sigma_Y^2 - 2\\sigma_{XY}) - \\sigma_Y^2 + \\sigma_{XY} \\\\\n",
    "\\alpha &= \\frac {2\\sigma_Y^2 - \\sigma_{XY}} {\\sigma_X^2 + \\sigma_Y^2 - 2\\sigma_{XY}}\n",
    "\\end{align}  "
   ]
  },
  {
   "cell_type": "markdown",
   "source": [
    "2. Suppose we obtain a bootstrap sample from n observations.  \n",
    "(a) The probability of the first bootstrap obs is NOT the jth obs = (n-1)/n.  \n",
    "(b) The probability of the second bootstrap obs is NOT the jth obs = (n-1)/n.  \n",
    "(c) Since we are taking n samples from our original sample with replacement, the probability of any jth \n",
    "obs is NOT in the bootstrap sample is $[(n-1)/n]^n$ or $(1 - 1/n)^n$ by multiplication rule.  \n",
    "(d) When n = 5, there is a $1 - (1 - 1/5)^5 = 0.672$ probability that the jth obs is in bootstrap sample.  \n",
    "(e) When n = 100, there is a $1 - (1 - 1/100)^100 = 0.634$ probability that the jth obs is in bootstrap sample.  \n",
    "(f) When n = 10000, there is a $1 - (1 - 1/10000)^10000 = 0.6321$ probability that the jth obs is in bootstrap sample.  \n",
    "(g) Plot "
   ],
   "metadata": {
    "collapsed": false,
    "pycharm": {
     "name": "#%% md\n"
    }
   }
  },
  {
   "cell_type": "code",
   "execution_count": 8,
   "outputs": [
    {
     "data": {
      "text/plain": "<Figure size 432x288 with 1 Axes>",
      "image/png": "[encoded data removed]"
     },
     "metadata": {},
     "output_type": "display_data"
    }
   ],
   "source": [
    "import matplotlib.pyplot as plt\n",
    "import numpy as np\n",
    "import random\n",
    "plt.style.use('seaborn-white')\n",
    "\n",
    "x = np.arange(1, 100001)\n",
    "y = 1 - (1 - 1/x)**x\n",
    "\n",
    "plt.plot(x, y, marker='o')\n",
    "plt.show()"
   ],
   "metadata": {
    "collapsed": false,
    "pycharm": {
     "name": "#%%\n",
     "is_executing": false
    }
   }
  },
  {
   "cell_type": "markdown",
   "source": [
    "It converts very quickly to about 0.63. Thus, with a 100 samples, we always get jth obs 0.63 of a time\n",
    "\n",
    "(h) Numerically with n=100"
   ],
   "metadata": {
    "collapsed": false,
    "pycharm": {
     "name": "#%% md\n",
     "is_executing": false
    }
   }
  },
  {
   "cell_type": "code",
   "execution_count": 7,
   "outputs": [
    {
     "data": {
      "text/plain": "0.6308"
     },
     "metadata": {},
     "output_type": "execute_result",
     "execution_count": 7
    }
   ],
   "source": [
    "store = []\n",
    "a = np.arange(1, 101)\n",
    "i = 1\n",
    "while i < 10001:\n",
    "    x = random.choices(a, k = 100)\n",
    "    store.append(True if 4 in x else False)\n",
    "    i += 1\n",
    "np.mean(store)"
   ],
   "metadata": {
    "collapsed": false,
    "pycharm": {
     "name": "#%%\n",
     "is_executing": false
    }
   }
  },
  {
   "cell_type": "markdown",
   "source": [
    "True to the formula above, we get 4 at around 0.632 of the time with n = 100. \n",
    "\n",
    "3. K folds cross-validation:  \n",
    "(a). First, we shuffle and split data into K parts, lets say K = n. We use $K_i$ as a \n",
    "test set and remaining sets as training. We fit model, test on $K_i$ and record the score. Repeat \n",
    "for n times to get an average test score error (standard error).  \n",
    "(b). Compare to validation set approach: \n",
    "    1. k-folds use more data to train the model. \n",
    "    2. validation set can gives wildly different test error based on chance (since we split data randomly).\n",
    "    3. point 2 leads to overestimate the test error.\n",
    "    4. However, validation set approach is much simpler to implement/understand and less computational.  \n",
    "Compare to LOOCV:\n",
    "        1. MUCH less computational heavy (unless using LOOCV formula which only works for specific cases)\n",
    "        2. LOOCV has a higher variance but lower bias than k-folds.\n",
    "  "
   ],
   "metadata": {
    "collapsed": false,
    "pycharm": {
     "name": "#%% md\n"
    }
   }
  },
  {
   "cell_type": "markdown",
   "source": [
    "4. Lets use 10-folds approach as an example. We perform these steps:  \n",
    "    1. Split data randomly into 10 sets. Keep one as test, remaining as train.\n",
    "    2. Fit the statistical model and record the coefficients. Discard model\n",
    "    3. Repeat step 2 for other n-1 sets. \n",
    "    4. Find the standard deviation of the stored list of coefficients. This test error can be\n",
    "    MSE or percentage.\n",
    "    "
   ],
   "metadata": {
    "collapsed": false,
    "pycharm": {
     "name": "#%% md\n"
    }
   }
  }
 ],
 "metadata": {
  "kernelspec": {
   "display_name": "Python 3",
   "language": "python",
   "name": "python3"
  },
  "language_info": {
   "codemirror_mode": {
    "name": "ipython",
    "version": 2
   },
   "file_extension": ".py",
   "mimetype": "text/x-python",
   "name": "python",
   "nbconvert_exporter": "python",
   "pygments_lexer": "ipython2",
   "version": "2.7.6"
  },
  "pycharm": {
   "stem_cell": {
    "cell_type": "raw",
    "source": [],
    "metadata": {
     "collapsed": false
    }
   }
  }
 },
 "nbformat": 4,
 "nbformat_minor": 0
}
