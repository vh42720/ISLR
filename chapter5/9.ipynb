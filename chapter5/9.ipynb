{
 "cells": [
  {
   "cell_type": "markdown",
   "metadata": {
    "collapsed": true,
    "pycharm": {
     "name": "#%% md\n"
    }
   },
   "source": [
    "## Applied - Question 9\n",
    "\n",
    "The question involve Boston dataset - a data frame with 506 observations and 14 variables.\n",
    "The data was originally published by Harrison, \n",
    "D. and Rubinfeld, D.L. `Hedonic prices and the demand for clean air', \n",
    "J. Environ. Economics & Management, vol.5, 81-102, 1978.\n",
    "\n",
    "There are 14 attributes in each case of the dataset. They are:\n",
    "\n",
    "  1. CRIM - per capita crime rate by town  \n",
    "  2. ZN - proportion of residential land zoned for lots over 25,000 sq.ft.\n",
    "  3. INDUS - proportion of non-retail business acres per town.\n",
    "  4. CHAS - Charles River dummy variable (1 if tract bounds river; 0 otherwise)\n",
    "  5. NOX - nitric oxides concentration (parts per 10 million)\n",
    "  6. RM - average number of rooms per dwelling\n",
    "  7. AGE - proportion of owner-occupied units built prior to 1940\n",
    "  8. DIS - weighted distances to five Boston employment centres\n",
    "  9. RAD - index of accessibility to radial highways\n",
    "  10. TAX - full-value property-tax rate per $10,000\n",
    "  11. PTRATIO - pupil-teacher ratio by town\n",
    "  12. B - 1000(Bk - 0.63)^2 where Bk is the proportion of blacks by town\n",
    "  13. LSTAT - % lower status of the population\n",
    "  14. MEDV - Median value of owner-occupied homes in $1000's\n",
    "\n",
    "We will use cross-validation to recalculate the crime rate error rate.\n",
    "\n",
    "Import block"
   ]
  },
  {
   "cell_type": "code",
   "execution_count": 37,
   "outputs": [],
   "source": [
    "import numpy as np\n",
    "import pandas as pd\n",
    "import matplotlib.pyplot as plt\n",
    "import seaborn as sns\n",
    "\n",
    "import sklearn.linear_model as skl_lm\n",
    "from sklearn.metrics import mean_squared_error\n",
    "from sklearn.model_selection import LeaveOneOut, KFold, cross_val_score, train_test_split\n",
    "from sklearn.preprocessing import PolynomialFeatures\n",
    "from sklearn.utils import resample\n",
    "\n",
    "import statsmodels.stats.api as sms\n",
    "import statsmodels.api as sm\n",
    "\n",
    "from scipy import stats\n",
    "\n",
    "%matplotlib inline\n",
    "plt.style.use('seaborn-white')"
   ],
   "metadata": {
    "collapsed": false,
    "pycharm": {
     "name": "#%%\n",
     "is_executing": false
    }
   }
  },
  {
   "cell_type": "markdown",
   "source": [
    "Getting dataset"
   ],
   "metadata": {
    "collapsed": false,
    "pycharm": {
     "name": "#%% md\n"
    }
   }
  },
  {
   "cell_type": "code",
   "execution_count": 26,
   "outputs": [
    {
     "data": {
      "text/plain": "count    506.000000\nmean      22.532806\nstd        9.197104\nmin        5.000000\n25%       17.025000\n50%       21.200000\n75%       25.000000\nmax       50.000000\nName: medv, dtype: float64"
     },
     "metadata": {},
     "output_type": "execute_result",
     "execution_count": 26
    }
   ],
   "source": [
    "data_path = 'D:\\\\PycharmProjects\\\\ISLR\\\\data\\\\'\n",
    "df = pd.read_csv(f'{data_path}Boston.csv')\n",
    "df.medv.describe()"
   ],
   "metadata": {
    "collapsed": false,
    "pycharm": {
     "name": "#%%\n",
     "is_executing": false
    }
   }
  },
  {
   "cell_type": "markdown",
   "source": [
    "We can see the sample mean of medv is 22.5328 or $\\hat{\\mu} = 22.5328$.  \n",
    "\n",
    "Standard error of $\\hat{\\mu}$ = \n",
    "\\begin{equation}\n",
    "\\frac {std}{\\sqrt{n}} = \\frac {9.1971}{\\sqrt{506}} = 0.4089\n",
    "\\end{equation}"
   ],
   "metadata": {
    "collapsed": false,
    "pycharm": {
     "name": "#%% md\n"
    }
   }
  },
  {
   "cell_type": "markdown",
   "source": [
    "(c) Estimating $\\hat{\\mu}$ using bootstrap"
   ],
   "metadata": {
    "collapsed": false,
    "pycharm": {
     "name": "#%% md\n"
    }
   }
  },
  {
   "cell_type": "code",
   "execution_count": 32,
   "outputs": [
    {
     "name": "stdout",
     "text": [
      "The estimated standard deviation using bootstrap: 0.4105226577681551\n"
     ],
     "output_type": "stream"
    }
   ],
   "source": [
    "i = 0\n",
    "boot_mean = []\n",
    "\n",
    "# bootstrap 50 times\n",
    "while i < 10000:\n",
    "    df2 = resample(df, n_samples=506, replace=True)\n",
    "    boot_mean.append(np.mean(df2.medv))\n",
    "    i += 1\n",
    "    \n",
    "print(f'The estimated SE of mean using bootstrap: {np.std(boot_mean)}')"
   ],
   "metadata": {
    "collapsed": false,
    "pycharm": {
     "name": "#%%\n",
     "is_executing": false
    }
   }
  },
  {
   "cell_type": "markdown",
   "source": [
    "After the 10000 bootstrap step, we have an estimate of SE($\\hat{\\mu}$) = 0.4105. This is a bit larger\n",
    "than our original result with 2 more significant digits.\n",
    " "
   ],
   "metadata": {
    "collapsed": false,
    "pycharm": {
     "name": "#%% md\n"
    }
   }
  },
  {
   "cell_type": "markdown",
   "source": [
    "(d) Calculating the 95% CI using bootstrap SE:  \n",
    "\\begin{align}\n",
    "CI &= [\\hat{\\mu} - 2SE(\\hat{\\mu}),\\hat{\\mu} + 2SE(\\hat{\\mu})] \\\\\n",
    "&= [22.5328 - 2*0.4105, 22.5328 - 2*0.4105] \\\\\n",
    "&= [21.7118, 23.3538]\n",
    "\\end{align}"
   ],
   "metadata": {
    "collapsed": false,
    "pycharm": {
     "name": "#%% md\n"
    }
   }
  },
  {
   "cell_type": "code",
   "execution_count": 38,
   "outputs": [
    {
     "data": {
      "text/plain": "(21.72952801457859, 23.336084633642756)"
     },
     "metadata": {},
     "output_type": "execute_result",
     "execution_count": 38
    }
   ],
   "source": [
    "# Using statsmodel package\n",
    "sms.DescrStatsW(df.medv).tconfint_mean()"
   ],
   "metadata": {
    "collapsed": false,
    "pycharm": {
     "name": "#%%\n",
     "is_executing": false
    }
   }
  },
  {
   "cell_type": "markdown",
   "source": [
    "There is a small different at the .01 significant level.\n",
    "\n",
    "(e) We have the median value $\\hat{\\mu}_{med} = 21.2$ as calculated below"
   ],
   "metadata": {
    "collapsed": false,
    "pycharm": {
     "name": "#%% md\n"
    }
   }
  },
  {
   "cell_type": "code",
   "execution_count": 39,
   "outputs": [
    {
     "data": {
      "text/plain": "21.2"
     },
     "metadata": {},
     "output_type": "execute_result",
     "execution_count": 39
    }
   ],
   "source": [
    "np.median(df.medv)"
   ],
   "metadata": {
    "collapsed": false,
    "pycharm": {
     "name": "#%%\n",
     "is_executing": false
    }
   }
  },
  {
   "cell_type": "markdown",
   "source": [
    "(f) Same loop for bootstrap but now we calculate median "
   ],
   "metadata": {
    "collapsed": false,
    "pycharm": {
     "name": "#%% md\n"
    }
   }
  },
  {
   "cell_type": "code",
   "execution_count": 41,
   "outputs": [
    {
     "name": "stdout",
     "text": [
      "The estimated SE of median using bootstrap: 0.37626728368940043\n"
     ],
     "output_type": "stream"
    }
   ],
   "source": [
    "i = 0\n",
    "boot_median = []\n",
    "\n",
    "# bootstrap 50 times\n",
    "while i < 10000:\n",
    "    df2 = resample(df, n_samples=506, replace=True)\n",
    "    boot_median.append(np.median(df2.medv))\n",
    "    i += 1\n",
    "\n",
    "print(f'The estimated SE of median using bootstrap: {np.std(boot_median)}')"
   ],
   "metadata": {
    "collapsed": false,
    "pycharm": {
     "name": "#%%\n",
     "is_executing": false
    }
   }
  },
  {
   "cell_type": "markdown",
   "source": [
    "The 10000 bootstrap gives $SE(\\hat{\\mu}_{med}) = 0.3763$. This is a smaller figure \n",
    "than the estimated SE for mean. \n",
    "\n",
    "(g) Get the 10th percentile using numpy. We have $\\hat{\\mu}_{0.1} = 12.75$"
   ],
   "metadata": {
    "collapsed": false,
    "pycharm": {
     "name": "#%% md\n"
    }
   }
  },
  {
   "cell_type": "code",
   "execution_count": 44,
   "outputs": [
    {
     "name": "stdout",
     "text": [
      "Top 10% of medv = 12.75\n"
     ],
     "output_type": "stream"
    }
   ],
   "source": [
    "print(f'Lowest 10% of medv = {np.quantile(df.medv, q=0.1)}')"
   ],
   "metadata": {
    "collapsed": false,
    "pycharm": {
     "name": "#%%\n",
     "is_executing": false
    }
   }
  },
  {
   "cell_type": "markdown",
   "source": [
    "(f) Again, using the same loop we can estimate the SE of $\\hat{\\mu}_{0.1}$"
   ],
   "metadata": {
    "collapsed": false,
    "pycharm": {
     "name": "#%% md\n"
    }
   }
  },
  {
   "cell_type": "code",
   "execution_count": 47,
   "outputs": [
    {
     "name": "stdout",
     "text": [
      "The estimated SE of 10% quantile using bootstrap: 0.5025508296680048\n"
     ],
     "output_type": "stream"
    }
   ],
   "source": [
    "i = 0\n",
    "boot_10 = []\n",
    "\n",
    "# bootstrap 50 times\n",
    "while i < 10000:\n",
    "    df2 = resample(df, n_samples=506, replace=True)\n",
    "    boot_10.append(np.quantile(df2.medv, q=0.1))\n",
    "    i += 1\n",
    "\n",
    "print(f'The estimated SE of 10% quantile using bootstrap: {np.std(boot_10)}')"
   ],
   "metadata": {
    "collapsed": false,
    "pycharm": {
     "name": "#%%\n",
     "is_executing": false
    }
   }
  },
  {
   "cell_type": "markdown",
   "source": [
    "$SE(\\hat{\\mu}_{0.1}) = 0.5025$ is relative small to the value of the 10% quantile."
   ],
   "metadata": {
    "collapsed": false,
    "pycharm": {
     "name": "#%% md\n"
    }
   }
  }
 ],
 "metadata": {
  "kernelspec": {
   "display_name": "Python 3",
   "language": "python",
   "name": "python3"
  },
  "language_info": {
   "codemirror_mode": {
    "name": "ipython",
    "version": 2
   },
   "file_extension": ".py",
   "mimetype": "text/x-python",
   "name": "python",
   "nbconvert_exporter": "python",
   "pygments_lexer": "ipython2",
   "version": "2.7.6"
  },
  "pycharm": {
   "stem_cell": {
    "cell_type": "raw",
    "source": [],
    "metadata": {
     "collapsed": false
    }
   }
  }
 },
 "nbformat": 4,
 "nbformat_minor": 0
}
