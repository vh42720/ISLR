{
 "cells": [
  {
   "cell_type": "markdown",
   "metadata": {
    "collapsed": true,
    "pycharm": {
     "name": "#%% md\n"
    }
   },
   "source": [
    "## Lab - Cross-Validation and the Bootstrap\n",
    "\n",
    "#### Import block"
   ]
  },
  {
   "cell_type": "code",
   "execution_count": 1,
   "outputs": [],
   "source": [
    "import numpy as np\n",
    "import pandas as pd\n",
    "import matplotlib.pyplot as plt\n",
    "import seaborn as sns\n",
    "\n",
    "import sklearn.linear_model as skl_lm\n",
    "from sklearn.metrics import mean_squared_error\n",
    "from sklearn.model_selection import LeaveOneOut, KFold, cross_val_score, train_test_split\n",
    "from sklearn.preprocessing import PolynomialFeatures\n",
    "from sklearn.utils import resample\n",
    "\n",
    "%matplotlib inline\n",
    "plt.style.use('seaborn-white')"
   ],
   "metadata": {
    "collapsed": false,
    "pycharm": {
     "name": "#%%\n",
     "is_executing": false
    }
   }
  },
  {
   "cell_type": "markdown",
   "source": [
    "Load data"
   ],
   "metadata": {
    "collapsed": false,
    "pycharm": {
     "name": "#%% md\n"
    }
   }
  },
  {
   "cell_type": "code",
   "execution_count": 2,
   "outputs": [],
   "source": [
    "data_path = 'D:\\\\PycharmProjects\\\\ISLR\\\\data\\\\'\n",
    "df = pd.read_csv(f'{data_path}Auto.csv', na_values='?').dropna()"
   ],
   "metadata": {
    "collapsed": false,
    "pycharm": {
     "name": "#%%\n",
     "is_executing": false
    }
   }
  },
  {
   "cell_type": "markdown",
   "source": [
    "### 5.3.1 Validation Set Approach"
   ],
   "metadata": {
    "collapsed": false,
    "pycharm": {
     "name": "#%% md\n"
    }
   }
  },
  {
   "cell_type": "code",
   "execution_count": 3,
   "outputs": [
    {
     "name": "stdout",
     "text": [
      "Degree 1: 23.686289752854822\nDegree 2: 20.64373982495456\nDegree 3: 22.279014168570974\nDegree 4: 41.31331223498282\n"
     ],
     "output_type": "stream"
    }
   ],
   "source": [
    "t_prop = 0.5\n",
    "p_order = np.arange(1, 5)\n",
    "\n",
    "Z = np.zeros(p_order.size)\n",
    "regr = skl_lm.LinearRegression()\n",
    "\n",
    "for i in p_order:\n",
    "    poly = PolynomialFeatures(i)\n",
    "    X_poly = poly.fit_transform(df.horsepower.values.reshape(-1,1))\n",
    "    X_train, X_test, y_train, y_test = train_test_split(X_poly, df.mpg.ravel(),\n",
    "                                                        test_size=t_prop, random_state=None)\n",
    "    pred = regr.fit(X_train, y_train).predict(X_test)\n",
    "    Z[i-1] = mean_squared_error(y_test, pred)\n",
    "    \n",
    "for i in p_order:\n",
    "    print(f'Degree {i}: {Z[i-1]}')"
   ],
   "metadata": {
    "collapsed": false,
    "pycharm": {
     "name": "#%%\n",
     "is_executing": false
    }
   }
  },
  {
   "cell_type": "markdown",
   "source": [
    "Important to note every time we rerun the code above, we will get a different estimate\n",
    "for our mse. However, we can consistently see quadratic is better than linear and cubic is not\n",
    "an improvement over quadratic. \n",
    "\n",
    "### LOO - Cross Validation"
   ],
   "metadata": {
    "collapsed": false,
    "pycharm": {
     "name": "#%% md\n"
    }
   }
  },
  {
   "cell_type": "code",
   "execution_count": 4,
   "outputs": [
    {
     "name": "stdout",
     "text": [
      "Degree 1: 24.231513517929226\nDegree 2: 19.24821312448974\nDegree 3: 19.334984064079364\nDegree 4: 19.424430309616614\nDegree 5: 19.033204805230227\n"
     ],
     "output_type": "stream"
    }
   ],
   "source": [
    "p_order = np.arange(1,6)\n",
    "\n",
    "# LOOCV\n",
    "regr = skl_lm.LinearRegression()\n",
    "loo = LeaveOneOut()\n",
    "loo.get_n_splits(df)\n",
    "scores = list()\n",
    "\n",
    "for i in p_order:\n",
    "    poly = PolynomialFeatures(i)\n",
    "    X_poly = poly.fit_transform(df.horsepower.values.reshape(-1,1))\n",
    "    score = cross_val_score(regr, X_poly, df.mpg, cv=loo, scoring='neg_mean_squared_error').mean()\n",
    "    scores.append(score)\n",
    "\n",
    "for i in p_order:\n",
    "    print(f'Degree {i}: {scores[i-1]*-1}')"
   ],
   "metadata": {
    "collapsed": false,
    "pycharm": {
     "name": "#%%\n",
     "is_executing": false
    }
   }
  },
  {
   "cell_type": "markdown",
   "source": [
    "### K - fold Cross Validation"
   ],
   "metadata": {
    "collapsed": false,
    "pycharm": {
     "name": "#%% md\n"
    }
   }
  },
  {
   "cell_type": "code",
   "execution_count": 5,
   "outputs": [
    {
     "name": "stdout",
     "text": [
      "Degree 1: 24.09767573188306\nDegree 2: 19.152417393061626\nDegree 3: 19.240196381072412\nDegree 4: 19.295685540325014\nDegree 5: 19.241536896502474\nDegree 6: 18.642636498890003\nDegree 7: 18.993172040670554\nDegree 8: 19.355107505149824\nDegree 9: 19.378512199966202\nDegree 10: 18.917581991991067\n"
     ],
     "output_type": "stream"
    }
   ],
   "source": [
    "folds = 10\n",
    "p_order = np.arange(1,11)\n",
    "\n",
    "k_score = list()\n",
    "\n",
    "regr = skl_lm.LinearRegression()\n",
    "for i in p_order:\n",
    "    poly = PolynomialFeatures(i)\n",
    "    X_poly = poly.fit_transform(df.horsepower.values.reshape(-1,1))\n",
    "    kf_10 = KFold(n_splits=folds, random_state=i, shuffle=True)\n",
    "    k_score.append(cross_val_score(regr, X_poly, df.mpg, cv=kf_10, scoring='neg_mean_squared_error').mean())\n",
    "\n",
    "for i in p_order:\n",
    "    print(f'Degree {i}: {k_score[i-1]*-1}')\n",
    "    "
   ],
   "metadata": {
    "collapsed": false,
    "pycharm": {
     "name": "#%%\n",
     "is_executing": false
    }
   }
  },
  {
   "cell_type": "markdown",
   "source": [
    "Unfortunately, we dont get the exact results as the book but close enough.\n",
    "\n",
    "### Bootstrap"
   ],
   "metadata": {
    "collapsed": false,
    "pycharm": {
     "name": "#%% md\n",
     "is_executing": false
    }
   }
  },
  {
   "cell_type": "code",
   "execution_count": 6,
   "outputs": [],
   "source": [
    "df1 = pd.read_csv(f'{data_path}Portfolio.csv', usecols=([1,2]))"
   ],
   "metadata": {
    "collapsed": false,
    "pycharm": {
     "name": "#%%\n",
     "is_executing": false
    }
   }
  },
  {
   "cell_type": "markdown",
   "source": [
    "Apparently, sklearn method of boostrap is a bit tricky! But someone has already \n",
    "solved on this issue (I love you!).\n",
    "The sklearn-boostrap code is [here](https://machinelearningmastery.com/a-gentle-introduction-to-the-bootstrap-method/)"
   ],
   "metadata": {
    "collapsed": false,
    "pycharm": {
     "name": "#%% md\n"
    }
   }
  },
  {
   "cell_type": "code",
   "execution_count": 7,
   "outputs": [
    {
     "data": {
      "text/plain": "0.5766511516104116"
     },
     "metadata": {},
     "output_type": "execute_result",
     "execution_count": 7
    }
   ],
   "source": [
    "def alpha_fn(data):\n",
    "    X=data['X']\n",
    "    Y=data['Y']\n",
    "    alpha = (np.var(Y) - np.cov(X,Y)[0][1])/(np.var(X) + np.var(Y) - 2 * np.cov(X,Y)[0][1])\n",
    "    return alpha\n",
    "alpha_fn(df1)"
   ],
   "metadata": {
    "collapsed": false,
    "pycharm": {
     "name": "#%%\n",
     "is_executing": false
    }
   }
  },
  {
   "cell_type": "code",
   "execution_count": 8,
   "outputs": [],
   "source": [
    "i = 0\n",
    "alpha = list()\n",
    "while i < 2001:\n",
    "    df2 = resample(df1, n_samples=100, replace=True)\n",
    "    alpha.append(alpha_fn(df2))\n",
    "    i += 1"
   ],
   "metadata": {
    "collapsed": false,
    "pycharm": {
     "name": "#%%\n",
     "is_executing": false
    }
   }
  },
  {
   "cell_type": "code",
   "execution_count": 9,
   "outputs": [
    {
     "name": "stdout",
     "text": [
      "0.09092511557937101\n0.5779921539749568\n"
     ],
     "output_type": "stream"
    }
   ],
   "source": [
    "print(np.std(alpha))\n",
    "print(np.mean(alpha))\n",
    "    "
   ],
   "metadata": {
    "collapsed": false,
    "pycharm": {
     "name": "#%%\n",
     "is_executing": false
    }
   }
  },
  {
   "cell_type": "markdown",
   "source": [
    "This is the closest that we get for the boostrap method. Notice that I never get anything close \n",
    "to .088 only 0.89 and above!\n",
    "\n",
    "### Bootstrap for Linear Model"
   ],
   "metadata": {
    "collapsed": false,
    "pycharm": {
     "name": "#%% md\n"
    }
   }
  },
  {
   "cell_type": "code",
   "execution_count": 10,
   "outputs": [],
   "source": [
    "df3 = df[['horsepower', 'mpg']]"
   ],
   "metadata": {
    "collapsed": false,
    "pycharm": {
     "name": "#%%\n",
     "is_executing": false
    }
   }
  },
  {
   "cell_type": "code",
   "execution_count": 30,
   "outputs": [
    {
     "name": "stdout",
     "text": [
      "0.8568529607571254\n0.00743389614749305\n"
     ],
     "output_type": "stream"
    }
   ],
   "source": [
    "i = 0\n",
    "para = []\n",
    "intercept = []\n",
    "regr = skl_lm.LinearRegression()\n",
    "while i < 10001:\n",
    "    df4 = resample(df3, n_samples=392, replace=True)\n",
    "    X = df4.horsepower.values.reshape(-1,1)\n",
    "    y = df4.mpg\n",
    "    para.append(regr.fit(X, y).coef_[0])\n",
    "    intercept.append(regr.intercept_)\n",
    "    i +=1"
   ],
   "metadata": {
    "collapsed": false,
    "pycharm": {
     "name": "#%%\n",
     "is_executing": false
    }
   }
  },
  {
   "cell_type": "code",
   "execution_count": 31,
   "outputs": [
    {
     "name": "stdout",
     "text": [
      "0.8568529607571254\n0.00743389614749305\n"
     ],
     "output_type": "stream"
    }
   ],
   "source": [
    "print(np.std(intercept))\n",
    "print(np.std(para))"
   ],
   "metadata": {
    "collapsed": false,
    "pycharm": {
     "name": "#%%\n",
     "is_executing": false
    }
   }
  },
  {
   "cell_type": "markdown",
   "source": [
    "Running the 10000 variation of the data set gives us an extremely similar to the result in the book\n",
    ". The computational power needed is large! \n",
    "\n",
    "Comparing the result using OLS model"
   ],
   "metadata": {
    "collapsed": false,
    "pycharm": {
     "name": "#%% md\n"
    }
   }
  },
  {
   "cell_type": "code",
   "execution_count": 34,
   "outputs": [
    {
     "name": "stdout",
     "text": [
      "==============================================================================\n                 coef    std err          t      P>|t|      [0.025      0.975]\n------------------------------------------------------------------------------\nIntercept     39.9359      0.717     55.660      0.000      38.525      41.347\nhorsepower    -0.1578      0.006    -24.489      0.000      -0.171      -0.145\n==============================================================================\n"
     ],
     "output_type": "stream"
    }
   ],
   "source": [
    "import statsmodels.formula.api as smf\n",
    "\n",
    "mod_fit = smf.ols('mpg~horsepower', data=df3).fit()\n",
    "print(mod_fit.summary().tables[1])"
   ],
   "metadata": {
    "collapsed": false,
    "pycharm": {
     "name": "#%%\n",
     "is_executing": false
    }
   }
  },
  {
   "cell_type": "markdown",
   "source": [
    "We got 0.006 which is smaller than 0.0074 - bootstrap estimate.\n",
    "\n",
    "Fitting the quadratic model and boostrap estimates."
   ],
   "metadata": {
    "collapsed": false,
    "pycharm": {
     "name": "#%% md\n"
    }
   }
  },
  {
   "cell_type": "code",
   "execution_count": 37,
   "outputs": [],
   "source": [
    "from sklearn.preprocessing import PolynomialFeatures\n",
    "\n",
    "i = 0\n",
    "b_1 = []\n",
    "b_2 = []\n",
    "intercept = []\n",
    "regr = skl_lm.LinearRegression()\n",
    "poly = PolynomialFeatures(2)\n",
    "while i < 1001:\n",
    "    df4 = resample(df3, n_samples=392, replace=True)\n",
    "    X_poly = poly.fit_transform(df4.horsepower.values.reshape(-1,1))\n",
    "    y = df4.mpg\n",
    "    b_2.append(regr.fit(X_poly, y).coef_[0])\n",
    "    b_1.append(regr.fit(X_poly, y).coef_[1])\n",
    "    intercept.append(regr.intercept_)\n",
    "    i +=1"
   ],
   "metadata": {
    "collapsed": false,
    "pycharm": {
     "name": "#%%\n",
     "is_executing": false
    }
   }
  },
  {
   "cell_type": "code",
   "execution_count": 38,
   "outputs": [
    {
     "name": "stdout",
     "text": [
      "1.9959175997066796\n0.031917034723871134\n0.0\n"
     ],
     "output_type": "stream"
    }
   ],
   "source": [
    "print(np.std(intercept))\n",
    "print(np.std(b_1))\n",
    "print(np.std(b_2))"
   ],
   "metadata": {
    "collapsed": false,
    "pycharm": {
     "name": "#%%\n",
     "is_executing": false
    }
   }
  },
  {
   "cell_type": "markdown",
   "source": [
    "Wow! The estimated standard deviation for horsepower^2 was very closed to 0 or 0 in this case.\n",
    "\n",
    "Lastly, we take one more look at the OLS model"
   ],
   "metadata": {
    "collapsed": false,
    "pycharm": {
     "name": "#%% md\n"
    }
   }
  },
  {
   "cell_type": "code",
   "execution_count": 39,
   "outputs": [
    {
     "name": "stdout",
     "text": [
      "===========================================================================================\n                              coef    std err          t      P>|t|      [0.025      0.975]\n-------------------------------------------------------------------------------------------\nIntercept                  56.9001      1.800     31.604      0.000      53.360      60.440\nhorsepower                 -0.4662      0.031    -14.978      0.000      -0.527      -0.405\nnp.power(horsepower, 2)     0.0012      0.000     10.080      0.000       0.001       0.001\n===========================================================================================\n"
     ],
     "output_type": "stream"
    }
   ],
   "source": [
    "mod_fit = smf.ols('mpg ~ horsepower + np.power(horsepower, 2)', data=df3).fit()\n",
    "print(mod_fit.summary().tables[1])"
   ],
   "metadata": {
    "collapsed": false,
    "pycharm": {
     "name": "#%%\n",
     "is_executing": false
    }
   }
  }
 ],
 "metadata": {
  "kernelspec": {
   "display_name": "Python 3",
   "language": "python",
   "name": "python3"
  },
  "language_info": {
   "codemirror_mode": {
    "name": "ipython",
    "version": 2
   },
   "file_extension": ".py",
   "mimetype": "text/x-python",
   "name": "python",
   "nbconvert_exporter": "python",
   "pygments_lexer": "ipython2",
   "version": "2.7.6"
  },
  "pycharm": {
   "stem_cell": {
    "cell_type": "raw",
    "source": [],
    "metadata": {
     "collapsed": false
    }
   }
  }
 },
 "nbformat": 4,
 "nbformat_minor": 0
}
