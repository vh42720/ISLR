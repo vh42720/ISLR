{
 "cells": [
  {
   "cell_type": "markdown",
   "source": [
    "## Subset selection - HOW\n",
    "\n",
    "First the import. I prefer the statsmodel package over sklearn as it is more R-ish!"
   ],
   "metadata": {
    "collapsed": false,
    "pycharm": {
     "name": "#%% md\n"
    }
   }
  },
  {
   "cell_type": "code",
   "execution_count": null,
   "outputs": [],
   "source": [
    "import statsmodels.api as sm"
   ],
   "metadata": {
    "collapsed": false,
    "pycharm": {
     "name": "#%% \n"
    }
   }
  },
  {
   "cell_type": "markdown",
   "source": [
    "All of the below methods will require a function to run the regression and then return \n",
    "the desired values. I define the function as follow:\n",
    "\n",
    "<b>Notes</b>:\n",
    "1. Statsmodel can be use with (sm) or without(smf) formula. sm requires y and X\n",
    "2. Remember to add constant to X. Google if you want to know why. Use sm.addconstant(X)\n",
    "3. Read [documentation](https://www.statsmodels.org/dev/generated/statsmodels.regression.linear_model.RegressionResults.html)\n",
    "to find all the statistic that you need! (R_squared, AIC, BIC)\n",
    "4. Transform categorical variable to dummy using df['columns'].cat.codes()"
   ],
   "metadata": {
    "collapsed": false,
    "pycharm": {
     "name": "#%% md\n"
    }
   }
  },
  {
   "cell_type": "code",
   "execution_count": null,
   "outputs": [],
   "source": [
    "def model_run(y, X):\n",
    "    \"\"\"\n",
    "    Run a linear regression and get various parameters.\n",
    "    y: response variable. Get by df.y_name\n",
    "    X: features/predictors. Get by drop y from df. \n",
    "    \"\"\"\n",
    "    regr = sm.OLS(y, sm.add_constant(X)).fit()\n",
    "    RSS = regr.mse_resid * len(y)           # RSS = MSE * n\n",
    "    R_squared = regr.rsquared               # R squared\n",
    "    adj_R_squared = regr.rsquared_adj       # adjusted R squared (always smaller than R^2)\n",
    "    aic = regr.aic                          # AIC\n",
    "    bic = regr.bic                          # BIC\n",
    "    \n",
    "    # Return everything as a list\n",
    "    return RSS, R_squared, adj_R_squared, aic, bic"
   ],
   "metadata": {
    "collapsed": false,
    "pycharm": {
     "name": "#%%\n"
    }
   }
  },
  {
   "cell_type": "markdown",
   "source": [
    "#### Best subset\n",
    "\n",
    "\n",
    "\n"
   ],
   "metadata": {
    "collapsed": false,
    "pycharm": {
     "name": "#%% md\n"
    }
   }
  }
 ],
 "metadata": {
  "kernelspec": {
   "display_name": "Python 3",
   "language": "python",
   "name": "python3"
  },
  "language_info": {
   "codemirror_mode": {
    "name": "ipython",
    "version": 2
   },
   "file_extension": ".py",
   "mimetype": "text/x-python",
   "name": "python",
   "nbconvert_exporter": "python",
   "pygments_lexer": "ipython2",
   "version": "2.7.6"
  },
  "pycharm": {
   "stem_cell": {
    "cell_type": "raw",
    "source": [],
    "metadata": {
     "collapsed": false
    }
   }
  }
 },
 "nbformat": 4,
 "nbformat_minor": 0
}
